{
 "cells": [
  {
   "cell_type": "markdown",
   "metadata": {},
   "source": [
    "# 5-3. Alien Colors #1: \n",
    "Imagine an alien was just shot down in a game. Create a\n",
    "variable called alien_color and assign it a value of 'green', 'yellow', or 'red'."
   ]
  },
  {
   "cell_type": "code",
   "execution_count": 1,
   "metadata": {},
   "outputs": [],
   "source": [
    "alien_color : list[str] = ['green', 'yellow', 'red']"
   ]
  },
  {
   "cell_type": "markdown",
   "metadata": {},
   "source": [
    "- Write an if statement to test whether the alien’s color is green. If it is, print\n",
    "a message that the player just earned 5 points."
   ]
  },
  {
   "cell_type": "code",
   "execution_count": 2,
   "metadata": {},
   "outputs": [
    {
     "name": "stdout",
     "output_type": "stream",
     "text": [
      "You just earned 5 points\n"
     ]
    }
   ],
   "source": [
    "if 'green' in alien_color:\n",
    "    print(\"You just earned 5 points\")"
   ]
  },
  {
   "cell_type": "markdown",
   "metadata": {},
   "source": [
    "- Write one version of this program that passes the if test and another that\n",
    "fails. (The version that fails will have no output.)"
   ]
  },
  {
   "cell_type": "code",
   "execution_count": 3,
   "metadata": {},
   "outputs": [],
   "source": [
    "if 'pink' in alien_color:\n",
    "    print('You just earned 5 points')"
   ]
  },
  {
   "cell_type": "markdown",
   "metadata": {},
   "source": [
    "# 5-4. Alien Colors #2: \n",
    "Choose a color for an alien as you did in Exercise 5-3,\n",
    "and write an if-else chain."
   ]
  },
  {
   "cell_type": "code",
   "execution_count": 7,
   "metadata": {},
   "outputs": [
    {
     "name": "stdout",
     "output_type": "stream",
     "text": [
      "You just earned 5 points\n"
     ]
    }
   ],
   "source": [
    "alien_color : list[str] = ['green', 'yellow', 'red']\n",
    "\n",
    "shooted_alien_color : str = input(\"Please enter color of shooted out alien: \").lower()\n",
    "\n",
    "if shooted_alien_color in alien_color:\n",
    "    print('You just earned 5 points')\n",
    "else:\n",
    "    print(\"You don't earned any point\")"
   ]
  },
  {
   "cell_type": "markdown",
   "metadata": {},
   "source": [
    "- If the alien’s color is green, print a statement that the player just earned 5\n",
    "points for shooting the alien."
   ]
  },
  {
   "cell_type": "code",
   "execution_count": 10,
   "metadata": {},
   "outputs": [
    {
     "name": "stdout",
     "output_type": "stream",
     "text": [
      "You just earned 5 points\n"
     ]
    }
   ],
   "source": [
    "alien_color : list[str] = ['green', 'yellow', 'red']\n",
    "\n",
    "shooted_alien_color : str = input(\"Please enter color of shooted out alien: \").lower()\n",
    "\n",
    "if shooted_alien_color == 'green':\n",
    "    print(\"You just earned 5 points\")"
   ]
  },
  {
   "cell_type": "markdown",
   "metadata": {},
   "source": [
    "- If the alien’s color isn’t green, print a statement that the player just earned\n",
    "10 points."
   ]
  },
  {
   "cell_type": "code",
   "execution_count": 11,
   "metadata": {},
   "outputs": [
    {
     "name": "stdout",
     "output_type": "stream",
     "text": [
      "You just earned 10 points\n"
     ]
    }
   ],
   "source": [
    "alien_color : list[str] = ['green', 'yellow', 'red']\n",
    "\n",
    "shooted_alien_color : str = input(\"Please enter color of shooted out alien: \").lower()\n",
    "\n",
    "if shooted_alien_color != 'green':\n",
    "    print(\"You just earned 10 points\")"
   ]
  },
  {
   "cell_type": "markdown",
   "metadata": {},
   "source": [
    "- Write one version of this program that runs the if block and another that\n",
    "runs the else block."
   ]
  },
  {
   "cell_type": "code",
   "execution_count": 12,
   "metadata": {},
   "outputs": [
    {
     "name": "stdout",
     "output_type": "stream",
     "text": [
      "Congradulations! You just shooted out highest danger alien\n"
     ]
    }
   ],
   "source": [
    "alien_color : list[str] = ['green', 'yellow', 'red']\n",
    "\n",
    "shooted_alien_color : str = input(\"Please enter color of shooted out alien: \").lower()\n",
    "\n",
    "if (shooted_alien_color in alien_color) and (shooted_alien_color == 'yellow'):\n",
    "    print(\"Congradulations! You just shooted out highest danger alien\")\n",
    "else:\n",
    "    print(\"Enter correct color or you just not shooted out highest danger alien\")"
   ]
  },
  {
   "cell_type": "markdown",
   "metadata": {},
   "source": [
    "# 5-5. Alien Colors #3: \n",
    "Turn your if-else chain from Exercise 5-4 into an if-elifelse chain.\n",
    "* If the alien is green, print a message that the player earned 5 points.\n",
    "* If the alien is yellow, print a message that the player earned 10 points.\n",
    "* If the alien is red, print a message that the player earned 15 points.\n",
    "* Write three versions of this program, making sure each message is printed\n",
    "for the appropriate color alien."
   ]
  },
  {
   "cell_type": "code",
   "execution_count": 13,
   "metadata": {},
   "outputs": [
    {
     "name": "stdout",
     "output_type": "stream",
     "text": [
      "You just earned 5 points\n"
     ]
    }
   ],
   "source": [
    "alien_color : list[str] = ['green', 'yellow', 'red']\n",
    "\n",
    "shooted_alien_color : str = 'green'\n",
    "\n",
    "if shooted_alien_color ==  'green':\n",
    "    print(\"You just earned 5 points\")\n",
    "elif shooted_alien_color ==  'yellow':\n",
    "    print(\"You just earned 10 points\")\n",
    "elif shooted_alien_color == 'red':\n",
    "    print(\"You just earned 15 points\")"
   ]
  },
  {
   "cell_type": "code",
   "execution_count": 14,
   "metadata": {},
   "outputs": [
    {
     "name": "stdout",
     "output_type": "stream",
     "text": [
      "You just earned 10 points\n"
     ]
    }
   ],
   "source": [
    "alien_color : list[str] = ['green', 'yellow', 'red']\n",
    "\n",
    "shooted_alien_color : str = 'yellow'\n",
    "\n",
    "if shooted_alien_color ==  'green':\n",
    "    print(\"You just earned 5 points\")\n",
    "elif shooted_alien_color ==  'yellow':\n",
    "    print(\"You just earned 10 points\")\n",
    "elif shooted_alien_color == 'red':\n",
    "    print(\"You just earned 15 points\")"
   ]
  },
  {
   "cell_type": "code",
   "execution_count": 15,
   "metadata": {},
   "outputs": [
    {
     "name": "stdout",
     "output_type": "stream",
     "text": [
      "You just earned 15 points\n"
     ]
    }
   ],
   "source": [
    "alien_color : list[str] = ['green', 'yellow', 'red']\n",
    "\n",
    "shooted_alien_color : str = 'red'\n",
    "\n",
    "if shooted_alien_color ==  'green':\n",
    "    print(\"You just earned 5 points\")\n",
    "elif shooted_alien_color ==  'yellow':\n",
    "    print(\"You just earned 10 points\")\n",
    "elif shooted_alien_color == 'red':\n",
    "    print(\"You just earned 15 points\")"
   ]
  },
  {
   "cell_type": "markdown",
   "metadata": {},
   "source": [
    "# 5-6. Stages of Life: \n",
    "`Write an if-elif-else chain that determines a person’s stage\n",
    "of life. Set a value for the variable age, and then:"
   ]
  },
  {
   "cell_type": "code",
   "execution_count": null,
   "metadata": {},
   "outputs": [],
   "source": [
    "age : int = int(input(\"Please enter your age: \"))"
   ]
  },
  {
   "cell_type": "markdown",
   "metadata": {},
   "source": [
    "- If the person is less than 2 years old, print a message that the person is\n",
    "a baby.\n",
    "- If the person is at least 2 years old but less than 4, print a message that the\n",
    "person is a toddler.\n",
    "- If the person is at least 4 years old but less than 13, print a message that\n",
    "the person is a kid.\n",
    "- If the person is at least 13 years old but less than 20, print a message that\n",
    "the person is a teenager.\n",
    "- If the person is at least 20 years old but less than 65, print a message that\n",
    "the person is an adult.\n",
    "- If the person is age 65 or older, print a message that the person is an elder"
   ]
  },
  {
   "cell_type": "code",
   "execution_count": 20,
   "metadata": {},
   "outputs": [
    {
     "name": "stdout",
     "output_type": "stream",
     "text": [
      "You are a teenager\n"
     ]
    }
   ],
   "source": [
    "age : float = float(input(\"Please enter your age: \"))\n",
    "\n",
    "if age < 2:\n",
    "    print(\"You are a baby\")\n",
    "elif age < 4:\n",
    "    print(\"You are a toddler\")\n",
    "elif age < 13:\n",
    "    print(\"You are a kid\")\n",
    "elif age < 20:\n",
    "    print(\"You are a teenager\")\n",
    "elif age < 65:\n",
    "    print(\"You are an adult\")\n",
    "else:\n",
    "    print(\"You are elder\")"
   ]
  },
  {
   "cell_type": "markdown",
   "metadata": {},
   "source": [
    "# 5-7. Favorite Fruit: \n",
    "Make a list of your favorite fruits, and then write a series of\n",
    "independent if statements that check for certain fruits in your list.\n",
    "* Make a list of your three favorite fruits and call it favorite_fruits.\n",
    "* Write five if statements. Each should check whether a certain kind of fruit\n",
    "is in your list. If the fruit is in your list, the if block should print a statement,\n",
    "such as You really like bananas!"
   ]
  },
  {
   "cell_type": "code",
   "execution_count": 22,
   "metadata": {},
   "outputs": [
    {
     "name": "stdout",
     "output_type": "stream",
     "text": [
      "pineapple is not in favorite fruits list\n",
      "Please enter fruit from this list: \t ['banana', 'apple', 'orange'].\n"
     ]
    }
   ],
   "source": [
    "favorite_fruits : list[str] = ['banana', 'apple', 'orange']\n",
    "\n",
    "user_input : str = 'pineapple'\n",
    "\n",
    "if (user_input in favorite_fruits) and (user_input == 'banana'):\n",
    "    print(f\"You really like bananas\")\n",
    "\n",
    "if (user_input in favorite_fruits) and (user_input == 'apple'):\n",
    "    print(f\"You really like apples\")\n",
    "\n",
    "if (user_input in favorite_fruits) and (user_input == 'orange'):\n",
    "    print(f\"You really like oranges\")\n",
    "\n",
    "if user_input not in favorite_fruits:\n",
    "    print(f\"{user_input} is not in favorite fruits list\")\n",
    "\n",
    "if user_input not in favorite_fruits:\n",
    "    print(f\"Please enter fruit from this list: \\t {favorite_fruits}\")"
   ]
  }
 ],
 "metadata": {
  "kernelspec": {
   "display_name": "Python 3",
   "language": "python",
   "name": "python3"
  },
  "language_info": {
   "codemirror_mode": {
    "name": "ipython",
    "version": 3
   },
   "file_extension": ".py",
   "mimetype": "text/x-python",
   "name": "python",
   "nbconvert_exporter": "python",
   "pygments_lexer": "ipython3",
   "version": "3.12.1"
  }
 },
 "nbformat": 4,
 "nbformat_minor": 2
}
