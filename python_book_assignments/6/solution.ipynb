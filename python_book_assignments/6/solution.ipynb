{
 "cells": [
  {
   "cell_type": "markdown",
   "metadata": {},
   "source": [
    "# Chapter 6"
   ]
  },
  {
   "cell_type": "markdown",
   "metadata": {},
   "source": [
    "## 6-1. Person: Use a dictionary to store information about a person you know.\n",
    "Store their first name, last name, age, and the city in which they live. You\n",
    "should have keys such as first_name, last_name, age, and city. Print each piece\n",
    "of information stored in your dictionary."
   ]
  },
  {
   "cell_type": "code",
   "execution_count": 1,
   "metadata": {},
   "outputs": [
    {
     "name": "stdout",
     "output_type": "stream",
     "text": [
      "Jawwad Ahmad is 26 years old and lives in Bahawalnagar.\n"
     ]
    }
   ],
   "source": [
    "from typing import Dict, Union\n",
    "\n",
    "person: Dict[str, Union[str, int]] = {\n",
    "    \"first_name\": \"Jawwad\",\n",
    "    \"last_name\": \"Ahmad\",\n",
    "    \"age\": 26,\n",
    "    \"city\": \"Bahawalnagar\"\n",
    "}\n",
    "\n",
    "print(f\"{person['first_name'].title()} {person['last_name'].title()} is {person['age']} years old and lives in {person['city']}.\")"
   ]
  },
  {
   "cell_type": "markdown",
   "metadata": {},
   "source": [
    "## 6-2. Favorite Numbers: Use a dictionary to store people’s favorite numbers.\n",
    "- Think of five names, and use them as keys in your dictionary. Think of a favorite number for each person, and store each as a value in your dictionary. Print each person’s name and their favorite number. For even more fun, poll a few friends and get some actual data for your program."
   ]
  },
  {
   "cell_type": "code",
   "execution_count": 2,
   "metadata": {},
   "outputs": [
    {
     "name": "stdout",
     "output_type": "stream",
     "text": [
      "Jawwad's favorite number is 1.\n",
      "Ahmad's favorite number is 2.\n",
      "Hammad's favorite number is 3.\n",
      "Sufyan's favorite number is 4.\n",
      "Talha's favorite number is 5.\n"
     ]
    }
   ],
   "source": [
    "from typing import Dict\n",
    "\n",
    "favorite_numbers: Dict[str, int] = {\n",
    "    \"Jawwad\": 1,\n",
    "    \"Ahmad\": 2,\n",
    "    \"Hammad\": 3,\n",
    "    \"Sufyan\": 4,\n",
    "    \"Talha\": 5\n",
    "}\n",
    "\n",
    "for name, number in favorite_numbers.items():\n",
    "    print(f\"{name.title()}'s favorite number is {number}.\")"
   ]
  },
  {
   "cell_type": "markdown",
   "metadata": {},
   "source": [
    "## 6-3. Glossary: A Python dictionary can be used to model an actual dictionary.\n",
    "However, to avoid confusion, let’s call it a glossary.\n",
    "- Think of five programming words you’ve learned about in the previous\n",
    "chapters. Use these words as the keys in your glossary, and store their\n",
    "meanings as values.\n",
    "- Print each word and its meaning as neatly formatted output. You might\n",
    "print the word followed by a colon and then its meaning, or print the word\n",
    "on one line and then print its meaning indented on a second line. Use the\n",
    "newline character (\\n) to insert a blank line between each word-meaning\n",
    "pair in your output."
   ]
  },
  {
   "cell_type": "code",
   "execution_count": 3,
   "metadata": {},
   "outputs": [
    {
     "name": "stdout",
     "output_type": "stream",
     "text": [
      "\n",
      "List:\n",
      "\tA list is a collection of items in a particular order.\n",
      "\n",
      "Tuple:\n",
      "\tA tuple is a collection of items in a particular order.\n",
      "\n",
      "Dictionary:\n",
      "\tA dictionary is a collection of key-value pairs.\n",
      "\n",
      "Set:\n",
      "\tA set is a collection of items in a particular order.\n",
      "\n",
      "String:\n",
      "\tA string is a collection of characters.\n"
     ]
    }
   ],
   "source": [
    "from typing import Dict\n",
    "\n",
    "glossary: Dict[str, str] = {\n",
    "    \"list\": \"A list is a collection of items in a particular order.\",\n",
    "    \"tuple\": \"A tuple is a collection of items in a particular order.\",\n",
    "    \"dictionary\": \"A dictionary is a collection of key-value pairs.\",\n",
    "    \"set\": \"A set is a collection of items in a particular order.\",\n",
    "    \"string\": \"A string is a collection of characters.\"\n",
    "}\n",
    "\n",
    "for word, definition in glossary.items():\n",
    "    print(f\"\\n{word.title()}:\")\n",
    "    print(f\"\\t{definition}\")"
   ]
  },
  {
   "cell_type": "markdown",
   "metadata": {},
   "source": [
    "## 6-4. Glossary 2: \n",
    "Now that you know how to loop through a dictionary, clean up the code from Exercise 6-3 (page 99) by replacing your series of print() calls with a loop that runs through the dictionary’s keys and values. When you’re sure that your loop works, add five more Python terms to your glossary.\n",
    "When you run your program again, these new words and meanings should\n",
    "automatically be included in the output."
   ]
  },
  {
   "cell_type": "code",
   "execution_count": 4,
   "metadata": {},
   "outputs": [
    {
     "name": "stdout",
     "output_type": "stream",
     "text": [
      "\n",
      "List:\n",
      "\tA list is a collection of items in a particular order.\n",
      "\n",
      "Tuple:\n",
      "\tA tuple is a collection of items in a particular order.\n",
      "\n",
      "Dictionary:\n",
      "\tA dictionary is a collection of key-value pairs.\n",
      "\n",
      "Set:\n",
      "\tA set is a collection of items in a particular order.\n",
      "\n",
      "String:\n",
      "\tA string is a collection of characters.\n",
      "\n",
      "If:\n",
      "\tAn if statement is a control flow statement that executes a block of code if a condition is true.\n",
      "\n",
      "For:\n",
      "\tA for loop is a control flow statement that executes a block of code for each item in a list or tuple.\n",
      "\n",
      "Else:\n",
      "\tAn else statement is a control flow statement that executes a block of code if a condition is false.\n",
      "\n",
      "While:\n",
      "\tA while loop is a control flow statement that executes a block of code while a condition is true.\n",
      "\n",
      "Break:\n",
      "\tThe break statement is a control flow statement that breaks out of a loop.\n",
      "\n",
      "Continue:\n",
      "\tThe continue statement is a control flow statement that continues execution of a loop.\n",
      "\n",
      "Pass:\n",
      "\tThe pass statement is a control flow statement that does nothing.\n"
     ]
    }
   ],
   "source": [
    "from typing import Dict\n",
    "\n",
    "glossary: Dict[str, str] = {\n",
    "    \"list\": \"A list is a collection of items in a particular order.\",\n",
    "    \"tuple\": \"A tuple is a collection of items in a particular order.\",\n",
    "    \"dictionary\": \"A dictionary is a collection of key-value pairs.\",\n",
    "    \"set\": \"A set is a collection of items in a particular order.\",\n",
    "    \"string\": \"A string is a collection of characters.\",\n",
    "    \"if\": \"An if statement is a control flow statement that executes a block of code if a condition is true.\",\n",
    "    \"for\": \"A for loop is a control flow statement that executes a block of code for each item in a list or tuple.\",\n",
    "    \"else\": \"An else statement is a control flow statement that executes a block of code if a condition is false.\",\n",
    "    \"while\": \"A while loop is a control flow statement that executes a block of code while a condition is true.\",\n",
    "    \"break\": \"The break statement is a control flow statement that breaks out of a loop.\",\n",
    "    \"continue\": \"The continue statement is a control flow statement that continues execution of a loop.\",\n",
    "    \"pass\": \"The pass statement is a control flow statement that does nothing.\",\n",
    "}\n",
    "\n",
    "for word, definition in glossary.items():\n",
    "    print(f\"\\n{word.title()}:\")\n",
    "    print(f\"\\t{definition}\")"
   ]
  },
  {
   "cell_type": "markdown",
   "metadata": {},
   "source": [
    "## 6-5. Rivers: \n",
    "Make a dictionary containing three major rivers and the country\n",
    "each river runs through. One key-value pair might be 'nile': 'egypt'.\n",
    "- Use a loop to print a sentence about each river, such as The Nile runs\n",
    "through Egypt.\n",
    "- Use a loop to print the name of each river included in the dictionary.\n",
    "- Use a loop to print the name of each country included in the dictionary."
   ]
  },
  {
   "cell_type": "code",
   "execution_count": 7,
   "metadata": {},
   "outputs": [
    {
     "name": "stdout",
     "output_type": "stream",
     "text": [
      "Overall Detail:\n",
      "\tNile River runs through Egypt.\n",
      "\tAmazon River runs through Brazil.\n",
      "\tYangtze River runs through China.\n",
      "\n",
      "Rivers:\n",
      "\tNile River\n",
      "\tAmazon River\n",
      "\tYangtze River\n",
      "Countries: \n",
      "\tEgypt\n",
      "\tBrazil\n",
      "\tChina\n"
     ]
    }
   ],
   "source": [
    "from typing import Dict\n",
    "\n",
    "print(\"Overall Detail:\")\n",
    "rivers: Dict[str, str] = {\n",
    "    \"Nile River\": \"Egypt\",\n",
    "    \"Amazon River\": \"Brazil\",\n",
    "    \"Yangtze River\": \"China\",\n",
    "}\n",
    "\n",
    "for river, country in rivers.items():\n",
    "    print(f\"\\t{river.title()} runs through {country.title()}.\")\n",
    "\n",
    "print(\"\\nRivers:\")\n",
    "for river in rivers.keys():\n",
    "    print(f\"\\t{river.title()}\")\n",
    "\n",
    "print(\"\\nCountries: \")\n",
    "for contry in rivers.values():\n",
    "    print(f\"\\t{contry.title()}\")"
   ]
  }
 ],
 "metadata": {
  "kernelspec": {
   "display_name": "Python 3",
   "language": "python",
   "name": "python3"
  },
  "language_info": {
   "codemirror_mode": {
    "name": "ipython",
    "version": 3
   },
   "file_extension": ".py",
   "mimetype": "text/x-python",
   "name": "python",
   "nbconvert_exporter": "python",
   "pygments_lexer": "ipython3",
   "version": "3.12.3"
  }
 },
 "nbformat": 4,
 "nbformat_minor": 2
}
