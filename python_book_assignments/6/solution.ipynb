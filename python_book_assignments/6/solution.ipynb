{
 "cells": [
  {
   "cell_type": "markdown",
   "metadata": {},
   "source": [
    "# Chapter 6"
   ]
  },
  {
   "cell_type": "markdown",
   "metadata": {},
   "source": [
    "## 6-1. Person: Use a dictionary to store information about a person you know.\n",
    "Store their first name, last name, age, and the city in which they live. You\n",
    "should have keys such as first_name, last_name, age, and city. Print each piece\n",
    "of information stored in your dictionary."
   ]
  },
  {
   "cell_type": "code",
   "execution_count": 1,
   "metadata": {},
   "outputs": [
    {
     "name": "stdout",
     "output_type": "stream",
     "text": [
      "Jawwad Ahmad is 26 years old and lives in Bahawalnagar.\n"
     ]
    }
   ],
   "source": [
    "from typing import Dict, Union\n",
    "\n",
    "person: Dict[str, Union[str, int]] = {\n",
    "    \"first_name\": \"Jawwad\",\n",
    "    \"last_name\": \"Ahmad\",\n",
    "    \"age\": 26,\n",
    "    \"city\": \"Bahawalnagar\"\n",
    "}\n",
    "\n",
    "print(f\"{person['first_name'].title()} {person['last_name'].title()} is {person['age']} years old and lives in {person['city']}.\")"
   ]
  },
  {
   "cell_type": "markdown",
   "metadata": {},
   "source": [
    "## 6-2. Favorite Numbers: Use a dictionary to store people’s favorite numbers.\n",
    "- Think of five names, and use them as keys in your dictionary. Think of a favorite number for each person, and store each as a value in your dictionary. Print each person’s name and their favorite number. For even more fun, poll a few friends and get some actual data for your program."
   ]
  },
  {
   "cell_type": "code",
   "execution_count": null,
   "metadata": {},
   "outputs": [],
   "source": [
    "from typing import Dict\n",
    "\n",
    "favorite_numbers: Dict[str, int] = {\n",
    "    \"Jawwad\": 1,\n",
    "    \"Ahmad\": 2,\n",
    "    \"Hammad\": 3,\n",
    "    \"Sufyan\": 4,\n",
    "    \"Talha\": 5\n",
    "}\n",
    "\n",
    "for name, number in favorite_numbers.items():\n",
    "    print(f\"{name.title()}'s favorite number is {number}.\")"
   ]
  }
 ],
 "metadata": {
  "kernelspec": {
   "display_name": "Python 3",
   "language": "python",
   "name": "python3"
  },
  "language_info": {
   "codemirror_mode": {
    "name": "ipython",
    "version": 3
   },
   "file_extension": ".py",
   "mimetype": "text/x-python",
   "name": "python",
   "nbconvert_exporter": "python",
   "pygments_lexer": "ipython3",
   "version": "3.12.3"
  }
 },
 "nbformat": 4,
 "nbformat_minor": 2
}
