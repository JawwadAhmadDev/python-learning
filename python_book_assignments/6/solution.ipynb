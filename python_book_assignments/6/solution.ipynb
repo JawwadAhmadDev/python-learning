{
 "cells": [
  {
   "cell_type": "markdown",
   "metadata": {},
   "source": [
    "# Chapter 6"
   ]
  },
  {
   "cell_type": "markdown",
   "metadata": {},
   "source": [
    "## 6-1. Person: Use a dictionary to store information about a person you know.\n",
    "Store their first name, last name, age, and the city in which they live. You\n",
    "should have keys such as first_name, last_name, age, and city. Print each piece\n",
    "of information stored in your dictionary."
   ]
  },
  {
   "cell_type": "code",
   "execution_count": null,
   "metadata": {},
   "outputs": [],
   "source": [
    "from typing import Dict, Union\n",
    "\n",
    "person: Dict[str, Union[str, int]] = {\n",
    "    \"first_name\": \"Jawwad\",\n",
    "    \"last_name\": \"Ahmad\",\n",
    "    \"age\": 26,\n",
    "    \"city\": \"Bahawalnagar\"\n",
    "}\n",
    "\n",
    "print(f\"{person['first_name'].title()} {person['last_name'].title()} is {person['age']} years old and lives in {person['city']}.\")"
   ]
  }
 ],
 "metadata": {
  "language_info": {
   "name": "python"
  }
 },
 "nbformat": 4,
 "nbformat_minor": 2
}
