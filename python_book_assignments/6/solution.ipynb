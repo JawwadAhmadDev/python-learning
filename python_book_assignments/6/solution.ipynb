{
 "cells": [
  {
   "cell_type": "markdown",
   "metadata": {},
   "source": [
    "# Chapter 6"
   ]
  },
  {
   "cell_type": "markdown",
   "metadata": {},
   "source": [
    "## 6-1. Person: Use a dictionary to store information about a person you know.\n",
    "Store their first name, last name, age, and the city in which they live. You\n",
    "should have keys such as first_name, last_name, age, and city. Print each piece\n",
    "of information stored in your dictionary."
   ]
  },
  {
   "cell_type": "code",
   "execution_count": 1,
   "metadata": {},
   "outputs": [
    {
     "name": "stdout",
     "output_type": "stream",
     "text": [
      "Jawwad Ahmad is 26 years old and lives in Bahawalnagar.\n"
     ]
    }
   ],
   "source": [
    "from typing import Dict, Union\n",
    "\n",
    "person: Dict[str, Union[str, int]] = {\n",
    "    \"first_name\": \"Jawwad\",\n",
    "    \"last_name\": \"Ahmad\",\n",
    "    \"age\": 26,\n",
    "    \"city\": \"Bahawalnagar\"\n",
    "}\n",
    "\n",
    "print(f\"{person['first_name'].title()} {person['last_name'].title()} is {person['age']} years old and lives in {person['city']}.\")"
   ]
  },
  {
   "cell_type": "markdown",
   "metadata": {},
   "source": [
    "## 6-2. Favorite Numbers: Use a dictionary to store people’s favorite numbers.\n",
    "- Think of five names, and use them as keys in your dictionary. Think of a favorite number for each person, and store each as a value in your dictionary. Print each person’s name and their favorite number. For even more fun, poll a few friends and get some actual data for your program."
   ]
  },
  {
   "cell_type": "code",
   "execution_count": 2,
   "metadata": {},
   "outputs": [
    {
     "name": "stdout",
     "output_type": "stream",
     "text": [
      "Jawwad's favorite number is 1.\n",
      "Ahmad's favorite number is 2.\n",
      "Hammad's favorite number is 3.\n",
      "Sufyan's favorite number is 4.\n",
      "Talha's favorite number is 5.\n"
     ]
    }
   ],
   "source": [
    "from typing import Dict\n",
    "\n",
    "favorite_numbers: Dict[str, int] = {\n",
    "    \"Jawwad\": 1,\n",
    "    \"Ahmad\": 2,\n",
    "    \"Hammad\": 3,\n",
    "    \"Sufyan\": 4,\n",
    "    \"Talha\": 5\n",
    "}\n",
    "\n",
    "for name, number in favorite_numbers.items():\n",
    "    print(f\"{name.title()}'s favorite number is {number}.\")"
   ]
  },
  {
   "cell_type": "markdown",
   "metadata": {},
   "source": [
    "## 6-3. Glossary: A Python dictionary can be used to model an actual dictionary.\n",
    "However, to avoid confusion, let’s call it a glossary.\n",
    "- Think of five programming words you’ve learned about in the previous\n",
    "chapters. Use these words as the keys in your glossary, and store their\n",
    "meanings as values.\n",
    "- Print each word and its meaning as neatly formatted output. You might\n",
    "print the word followed by a colon and then its meaning, or print the word\n",
    "on one line and then print its meaning indented on a second line. Use the\n",
    "newline character (\\n) to insert a blank line between each word-meaning\n",
    "pair in your output."
   ]
  },
  {
   "cell_type": "code",
   "execution_count": 3,
   "metadata": {},
   "outputs": [
    {
     "name": "stdout",
     "output_type": "stream",
     "text": [
      "\n",
      "List:\n",
      "\tA list is a collection of items in a particular order.\n",
      "\n",
      "Tuple:\n",
      "\tA tuple is a collection of items in a particular order.\n",
      "\n",
      "Dictionary:\n",
      "\tA dictionary is a collection of key-value pairs.\n",
      "\n",
      "Set:\n",
      "\tA set is a collection of items in a particular order.\n",
      "\n",
      "String:\n",
      "\tA string is a collection of characters.\n"
     ]
    }
   ],
   "source": [
    "from typing import Dict\n",
    "\n",
    "glossary: Dict[str, str] = {\n",
    "    \"list\": \"A list is a collection of items in a particular order.\",\n",
    "    \"tuple\": \"A tuple is a collection of items in a particular order.\",\n",
    "    \"dictionary\": \"A dictionary is a collection of key-value pairs.\",\n",
    "    \"set\": \"A set is a collection of items in a particular order.\",\n",
    "    \"string\": \"A string is a collection of characters.\"\n",
    "}\n",
    "\n",
    "for word, definition in glossary.items():\n",
    "    print(f\"\\n{word.title()}:\")\n",
    "    print(f\"\\t{definition}\")"
   ]
  },
  {
   "cell_type": "markdown",
   "metadata": {},
   "source": [
    "## 6-4. Glossary 2: \n",
    "Now that you know how to loop through a dictionary, clean up the code from Exercise 6-3 (page 99) by replacing your series of print() calls with a loop that runs through the dictionary’s keys and values. When you’re sure that your loop works, add five more Python terms to your glossary.\n",
    "When you run your program again, these new words and meanings should\n",
    "automatically be included in the output."
   ]
  },
  {
   "cell_type": "code",
   "execution_count": 4,
   "metadata": {},
   "outputs": [
    {
     "name": "stdout",
     "output_type": "stream",
     "text": [
      "\n",
      "List:\n",
      "\tA list is a collection of items in a particular order.\n",
      "\n",
      "Tuple:\n",
      "\tA tuple is a collection of items in a particular order.\n",
      "\n",
      "Dictionary:\n",
      "\tA dictionary is a collection of key-value pairs.\n",
      "\n",
      "Set:\n",
      "\tA set is a collection of items in a particular order.\n",
      "\n",
      "String:\n",
      "\tA string is a collection of characters.\n",
      "\n",
      "If:\n",
      "\tAn if statement is a control flow statement that executes a block of code if a condition is true.\n",
      "\n",
      "For:\n",
      "\tA for loop is a control flow statement that executes a block of code for each item in a list or tuple.\n",
      "\n",
      "Else:\n",
      "\tAn else statement is a control flow statement that executes a block of code if a condition is false.\n",
      "\n",
      "While:\n",
      "\tA while loop is a control flow statement that executes a block of code while a condition is true.\n",
      "\n",
      "Break:\n",
      "\tThe break statement is a control flow statement that breaks out of a loop.\n",
      "\n",
      "Continue:\n",
      "\tThe continue statement is a control flow statement that continues execution of a loop.\n",
      "\n",
      "Pass:\n",
      "\tThe pass statement is a control flow statement that does nothing.\n"
     ]
    }
   ],
   "source": [
    "from typing import Dict\n",
    "\n",
    "glossary: Dict[str, str] = {\n",
    "    \"list\": \"A list is a collection of items in a particular order.\",\n",
    "    \"tuple\": \"A tuple is a collection of items in a particular order.\",\n",
    "    \"dictionary\": \"A dictionary is a collection of key-value pairs.\",\n",
    "    \"set\": \"A set is a collection of items in a particular order.\",\n",
    "    \"string\": \"A string is a collection of characters.\",\n",
    "    \"if\": \"An if statement is a control flow statement that executes a block of code if a condition is true.\",\n",
    "    \"for\": \"A for loop is a control flow statement that executes a block of code for each item in a list or tuple.\",\n",
    "    \"else\": \"An else statement is a control flow statement that executes a block of code if a condition is false.\",\n",
    "    \"while\": \"A while loop is a control flow statement that executes a block of code while a condition is true.\",\n",
    "    \"break\": \"The break statement is a control flow statement that breaks out of a loop.\",\n",
    "    \"continue\": \"The continue statement is a control flow statement that continues execution of a loop.\",\n",
    "    \"pass\": \"The pass statement is a control flow statement that does nothing.\",\n",
    "}\n",
    "\n",
    "for word, definition in glossary.items():\n",
    "    print(f\"\\n{word.title()}:\")\n",
    "    print(f\"\\t{definition}\")"
   ]
  },
  {
   "cell_type": "markdown",
   "metadata": {},
   "source": [
    "## 6-5. Rivers: \n",
    "Make a dictionary containing three major rivers and the country\n",
    "each river runs through. One key-value pair might be 'nile': 'egypt'.\n",
    "- Use a loop to print a sentence about each river, such as The Nile runs\n",
    "through Egypt.\n",
    "- Use a loop to print the name of each river included in the dictionary.\n",
    "- Use a loop to print the name of each country included in the dictionary."
   ]
  },
  {
   "cell_type": "code",
   "execution_count": 8,
   "metadata": {},
   "outputs": [
    {
     "name": "stdout",
     "output_type": "stream",
     "text": [
      "Overall Detail:\n",
      "\tNile River runs through Egypt.\n",
      "\tAmazon River runs through Brazil.\n",
      "\tYangtze River runs through China.\n",
      "\n",
      "Rivers:\n",
      "\tNile River\n",
      "\tAmazon River\n",
      "\tYangtze River\n",
      "\n",
      "Countries: \n",
      "\tEgypt\n",
      "\tBrazil\n",
      "\tChina\n"
     ]
    }
   ],
   "source": [
    "from typing import Dict\n",
    "\n",
    "print(\"Overall Detail:\")\n",
    "rivers: Dict[str, str] = {\n",
    "    \"Nile River\": \"Egypt\",\n",
    "    \"Amazon River\": \"Brazil\",\n",
    "    \"Yangtze River\": \"China\",\n",
    "}\n",
    "\n",
    "for river, country in rivers.items():\n",
    "    print(f\"\\t{river.title()} runs through {country.title()}.\")\n",
    "\n",
    "print(\"\\nRivers:\")\n",
    "for river in rivers.keys():\n",
    "    print(f\"\\t{river.title()}\")\n",
    "\n",
    "print(\"\\nCountries: \")\n",
    "for contry in rivers.values():\n",
    "    print(f\"\\t{contry.title()}\")"
   ]
  },
  {
   "cell_type": "markdown",
   "metadata": {},
   "source": [
    "## 6-6. Polling: Use the code in favorite_languages.py (page 96).\n",
    "- Make a list of people who should take the favorite languages poll. Include\n",
    "some names that are already in the dictionary and some that are not.\n",
    "- Loop through the list of people who should take the poll. If they have\n",
    "already taken the poll, print a message thanking them for responding.\n",
    "If they have not yet taken the poll, print a message inviting them to take\n",
    "the poll"
   ]
  },
  {
   "cell_type": "code",
   "execution_count": 11,
   "metadata": {},
   "outputs": [
    {
     "name": "stdout",
     "output_type": "stream",
     "text": [
      "Jawwad, thank you for taking the poll.\n",
      "Ahmad, please take the poll.\n",
      "Hammad, thank you for taking the poll.\n",
      "Sufyan, please take the poll.\n",
      "Talha, please take the poll.\n"
     ]
    }
   ],
   "source": [
    "from typing import Dict, List\n",
    "\n",
    "favorite_languages: Dict[str, str] = {\n",
    "    \"Jawwad\": \"Python\",\n",
    "    \"Ahmad\": \"C\",\n",
    "    \"Hammad\": \"C++\",\n",
    "    \"Sufyan\": \"Java\",\n",
    "    \"Talha\": \"C#\",\n",
    "}\n",
    "\n",
    "poll_list: List[str] = [\"jawwad\", \"hammad\", \"mujeeb\", \"uneeb\", \"zeeshan\", \"raheem\", \"wahid\", \"ahad\"]\n",
    "\n",
    "for person_name in favorite_languages:\n",
    "    if person_name.lower() in poll_list:\n",
    "        print(f\"{person_name.title()}, thank you for taking the poll.\")\n",
    "    else:\n",
    "        print(f\"{person_name.title()}, please take the poll.\")"
   ]
  },
  {
   "cell_type": "markdown",
   "metadata": {},
   "source": [
    "## 6-7. People: Start with the program you wrote for Exercise 6-1 (page 98). \n",
    " - Make\n",
    "two new dictionaries representing different people, and store all three dictionaries in a list called people. \n",
    "- Loop through your list of people. As you loop through\n",
    "the list, print everything you know about each person."
   ]
  },
  {
   "cell_type": "code",
   "execution_count": 16,
   "metadata": {},
   "outputs": [
    {
     "name": "stdout",
     "output_type": "stream",
     "text": [
      "\n",
      "Jawwad Ahmad's detail:\n",
      "\tage: 26\n",
      "\tcity: Bahawalnagar\n",
      "\n",
      "Sufyan Farooq's detail:\n",
      "\tage: 26\n",
      "\tcity: Lahore\n",
      "\n",
      "Hammad Ahmad's detail:\n",
      "\tage: 26\n",
      "\tcity: Karachi\n"
     ]
    }
   ],
   "source": [
    "from typing import Dict, Union, TypedDict\n",
    "\n",
    "PersonType = TypedDict(\n",
    "                'PersonType',\n",
    "                    {\n",
    "                        \"first_name\": str,\n",
    "                        \"last_name\": str,\n",
    "                        \"age\": str,\n",
    "                        \"city\": str,\n",
    "                    }\n",
    "                )\n",
    "\n",
    "person1: PersonType = {\n",
    "    \"first_name\": \"Jawwad\",\n",
    "    \"last_name\": \"Ahmad\",\n",
    "    \"age\": 26,\n",
    "    \"city\": \"Bahawalnagar\"\n",
    "}\n",
    "\n",
    "person2: PersonType = {\n",
    "    \"first_name\": \"Sufyan\",\n",
    "    \"last_name\": \"Farooq\",\n",
    "    \"age\": 26,\n",
    "    \"city\": \"Lahore\"\n",
    "}\n",
    "\n",
    "person3: PersonType = {\n",
    "    \"first_name\": \"Hammad\",\n",
    "    \"last_name\": \"Ahmad\",\n",
    "    \"age\": 26,\n",
    "    \"city\": \"Karachi\"\n",
    "}\n",
    "\n",
    "# adding three dictionaries to a list\n",
    "people: List[PersonType] = [person1, person2, person3]\n",
    "\n",
    "# looping through each person\n",
    "for person in people:\n",
    "    print(f\"\\n{person['first_name']} {person['last_name']}'s detail:\")\n",
    "    for key, value in person.items():\n",
    "        if key == 'first_name' or key == 'last_name':\n",
    "            continue\n",
    "        else:\n",
    "            print(f\"\\t{key}: {value}\")"
   ]
  },
  {
   "cell_type": "markdown",
   "metadata": {},
   "source": [
    "## 6-8. Pets: \n",
    "- Make several dictionaries, where each dictionary represents a different pet. \n",
    "- In each dictionary, include the kind of animal and the owner’s name.\n",
    "Store these dictionaries in a list called pets. \n",
    "- Next, loop through your list and as\n",
    "you do, print everything you know about each pet."
   ]
  },
  {
   "cell_type": "code",
   "execution_count": 18,
   "metadata": {},
   "outputs": [
    {
     "name": "stdout",
     "output_type": "stream",
     "text": [
      "\n",
      "German Shepherd:\n",
      "\towner_name: Jawwad\n",
      "\tage: 5\n",
      "\tkind: Dog\n",
      "\n",
      "Golden Retriever:\n",
      "\towner_name: Hammad\n",
      "\tage: 3\n",
      "\tkind: Dog\n",
      "\n",
      "Parot:\n",
      "\towner_name: Sufyan\n",
      "\tage: 1\n",
      "\tkind: Bird\n",
      "\n",
      "Lion:\n",
      "\towner_name: Talha\n",
      "\tage: 1\n",
      "\tkind: Mammal\n"
     ]
    }
   ],
   "source": [
    "from typing import Dict, TypedDict\n",
    "\n",
    "PetType = TypedDict(\n",
    "            'PetType',\n",
    "                {\n",
    "                    \"name\": str,\n",
    "                    \"owner_name\": str,\n",
    "                    \"age\": int,\n",
    "                    \"kind\": str\n",
    "                }\n",
    "            )\n",
    "\n",
    "\n",
    "# creating 4 pets dictionaries\n",
    "pet1: PetType = {\n",
    "    \"name\": \"German Shepherd\",\n",
    "    \"owner_name\": \"Jawwad\",\n",
    "    \"age\": 5,\n",
    "    \"kind\": \"Dog\"\n",
    "}\n",
    "\n",
    "pet2: PetType = {\n",
    "    \"name\": \"Golden Retriever\",\n",
    "    \"owner_name\": \"Hammad\",\n",
    "    \"age\": 3,\n",
    "    \"kind\": \"Dog\"\n",
    "}\n",
    "\n",
    "pet3: PetType = {\n",
    "    \"name\": \"Parot\",\n",
    "    \"owner_name\": \"Sufyan\",\n",
    "    \"age\": 1,\n",
    "    \"kind\": \"Bird\"\n",
    "}\n",
    "\n",
    "pet4: PetType = {\n",
    "    \"name\": \"Lion\",\n",
    "    \"owner_name\": \"Talha\",\n",
    "    \"age\": 1,\n",
    "    \"kind\": \"Mammal\"\n",
    "}\n",
    "\n",
    "# adding to the list\n",
    "pets: List[PetType] = [pet1, pet2, pet3, pet4]\n",
    "\n",
    "# looping through details of each pet\n",
    "for pet in pets:\n",
    "    print(f\"\\n{pet['name']}:\")\n",
    "    for key, value in pet.items():\n",
    "        if key == 'name':\n",
    "            continue\n",
    "        else:\n",
    "            print(f\"\\t{key}: {value}\")"
   ]
  },
  {
   "cell_type": "markdown",
   "metadata": {},
   "source": [
    "## 6-9. Favorite Places: \n",
    "- Make a dictionary called favorite_places. \n",
    "- Think of three\n",
    "names to use as keys in the dictionary, and store one to three favorite places for\n",
    "each person. To make this exercise a bit more interesting, ask some friends to\n",
    "name a few of their favorite places. \n",
    "- Loop through the dictionary, and print each\n",
    "person’s name and their favorite places."
   ]
  },
  {
   "cell_type": "code",
   "execution_count": 20,
   "metadata": {},
   "outputs": [
    {
     "name": "stdout",
     "output_type": "stream",
     "text": [
      "\n",
      "Jawwad's favorite places are:\n",
      "\tBahawalnagar\n",
      "\tLahore\n",
      "\tKarachi\n",
      "\n",
      "Hammad's favorite places are:\n",
      "\tLahore\n",
      "\tKarachi\n",
      "\tParis\n",
      "\n",
      "Abdullah's favorite places are:\n",
      "\tMurree\n",
      "\tFaisalabad\n",
      "\tMultan\n"
     ]
    }
   ],
   "source": [
    "from typing import Dict\n",
    "\n",
    "favorite_places: Dict[str, List[str]] = {\n",
    "    \"Jawwad\": [\"Bahawalnagar\", \"Lahore\", \"Karachi\"],\n",
    "    \"Hammad\": [\"Lahore\", \"Karachi\", \"Paris\"],\n",
    "    \"Abdullah\": [\"Murree\", \"Faisalabad\", \"Multan\"],\n",
    "}\n",
    "\n",
    "for name, places in favorite_places.items():\n",
    "    print(f\"\\n{name.title()}'s favorite places are:\")\n",
    "    for place in places:\n",
    "        print(f\"\\t{place.title()}\")"
   ]
  },
  {
   "cell_type": "markdown",
   "metadata": {},
   "source": [
    "## 6-10. Favorite Numbers: \n",
    "- Modify your program from Exercise 6-2 (page 98) so\n",
    "each person can have more than one favorite number. Then print each person’s\n",
    "name along with their favorite numbers."
   ]
  },
  {
   "cell_type": "code",
   "execution_count": null,
   "metadata": {},
   "outputs": [],
   "source": [
    "from typing import Dict\n",
    "\n",
    "favorite_numbers: Dict[str, List[int]] = {\n",
    "    \"Jawwad\": [10, 20, 30],\n",
    "    \"Ahmad\": [100, 200],\n",
    "    \"Hammad\": [1000, 2000, 3000, 4000],\n",
    "    \"Sufyan\": [1, 2, 3, 4, 5],\n",
    "    \"Talha\": [5, 6, 7, 8, 9]\n",
    "}\n",
    "\n",
    "\n",
    "for name, numbers in favorite_numbers.items():\n",
    "    print(f\"\\n{name.title()}'s favorite numbers are:\")\n",
    "    for number in numbers:\n",
    "        print(f\"\\t{number}\")"
   ]
  }
 ],
 "metadata": {
  "kernelspec": {
   "display_name": "Python 3",
   "language": "python",
   "name": "python3"
  },
  "language_info": {
   "codemirror_mode": {
    "name": "ipython",
    "version": 3
   },
   "file_extension": ".py",
   "mimetype": "text/x-python",
   "name": "python",
   "nbconvert_exporter": "python",
   "pygments_lexer": "ipython3",
   "version": "3.12.3"
  }
 },
 "nbformat": 4,
 "nbformat_minor": 2
}
