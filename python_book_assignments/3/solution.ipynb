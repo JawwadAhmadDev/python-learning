{
 "cells": [
  {
   "cell_type": "markdown",
   "metadata": {},
   "source": [
    "## 3.1\n",
    "Names: Store the names of a few of your friends in a list called names. Print\n",
    "each person’s name by accessing each element in the list, one at a time."
   ]
  },
  {
   "cell_type": "code",
   "execution_count": 1,
   "metadata": {},
   "outputs": [
    {
     "name": "stdout",
     "output_type": "stream",
     "text": [
      "1st friend is abdullah\n",
      "2nd friend is Mujeeb\n",
      "2nd friend is Sufyan\n",
      "2nd friend is Tahir\n"
     ]
    }
   ],
   "source": [
    "friends : list[str] = [\"abdullah\", \"Mujeeb\", \"Sufyan\", \"Tahir\"]\n",
    "\n",
    "print(f\"1st friend is {friends[0]}\")\n",
    "print(f\"2nd friend is {friends[1]}\")\n",
    "print(f\"2nd friend is {friends[2]}\")\n",
    "print(f\"2nd friend is {friends[3]}\")\n"
   ]
  },
  {
   "cell_type": "markdown",
   "metadata": {},
   "source": [
    "## 3.2\n",
    "Greetings: Start with the list you used in Exercise 3-1, but instead of just\n",
    "printing each person’s name, print a message to them. The text of each mes-\n",
    "sage should be the same, but each message should be personalized with the\n",
    "person’s name.\n"
   ]
  },
  {
   "cell_type": "code",
   "execution_count": 7,
   "metadata": {},
   "outputs": [
    {
     "name": "stdout",
     "output_type": "stream",
     "text": [
      "Hey abdullah, you are in my friend list at number 1\n",
      "Hey Mujeeb, you are in my friend list at number 2\n",
      "Hey Sufyan, you are in my friend list at number 3\n",
      "Hey Tahir, you are in my friend list at number 4\n"
     ]
    }
   ],
   "source": [
    "# list of friends\n",
    "friends : list[str] = [\"abdullah\", \"Mujeeb\", \"Sufyan\", \"Tahir\"]\n",
    "\n",
    "# message to each one\n",
    "print(f\"Hey {friends[0]}, you are in my friend list at number {friends.index(friends[0]) + 1}\")\n",
    "print(f\"Hey {friends[1]}, you are in my friend list at number {friends.index(friends[1]) + 1}\")\n",
    "print(f\"Hey {friends[2]}, you are in my friend list at number {friends.index(friends[2]) + 1}\")\n",
    "print(f\"Hey {friends[3]}, you are in my friend list at number {friends.index(friends[3]) + 1}\")\n"
   ]
  }
 ],
 "metadata": {
  "kernelspec": {
   "display_name": "base",
   "language": "python",
   "name": "python3"
  },
  "language_info": {
   "codemirror_mode": {
    "name": "ipython",
    "version": 3
   },
   "file_extension": ".py",
   "mimetype": "text/x-python",
   "name": "python",
   "nbconvert_exporter": "python",
   "pygments_lexer": "ipython3",
   "version": "3.11.5"
  }
 },
 "nbformat": 4,
 "nbformat_minor": 2
}
