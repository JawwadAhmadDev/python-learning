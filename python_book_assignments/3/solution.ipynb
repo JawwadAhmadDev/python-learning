{
 "cells": [
  {
   "cell_type": "markdown",
   "metadata": {},
   "source": [
    "## 3.1\n",
    "Names: Store the names of a few of your friends in a list called names. Print\n",
    "each person’s name by accessing each element in the list, one at a time."
   ]
  },
  {
   "cell_type": "code",
   "execution_count": 1,
   "metadata": {},
   "outputs": [
    {
     "name": "stdout",
     "output_type": "stream",
     "text": [
      "1st friend is abdullah\n",
      "2nd friend is Mujeeb\n",
      "2nd friend is Sufyan\n",
      "2nd friend is Tahir\n"
     ]
    }
   ],
   "source": [
    "friends : list[str] = [\"abdullah\", \"Mujeeb\", \"Sufyan\", \"Tahir\"]\n",
    "\n",
    "print(f\"1st friend is {friends[0]}\")\n",
    "print(f\"2nd friend is {friends[1]}\")\n",
    "print(f\"2nd friend is {friends[2]}\")\n",
    "print(f\"2nd friend is {friends[3]}\")\n"
   ]
  },
  {
   "cell_type": "markdown",
   "metadata": {},
   "source": [
    "## 3.2\n",
    "Greetings: Start with the list you used in Exercise 3-1, but instead of just\n",
    "printing each person’s name, print a message to them. The text of each mes-\n",
    "sage should be the same, but each message should be personalized with the\n",
    "person’s name.\n"
   ]
  },
  {
   "cell_type": "code",
   "execution_count": 7,
   "metadata": {},
   "outputs": [
    {
     "name": "stdout",
     "output_type": "stream",
     "text": [
      "Hey abdullah, you are in my friend list at number 1\n",
      "Hey Mujeeb, you are in my friend list at number 2\n",
      "Hey Sufyan, you are in my friend list at number 3\n",
      "Hey Tahir, you are in my friend list at number 4\n"
     ]
    }
   ],
   "source": [
    "# list of friends\n",
    "friends : list[str] = [\"abdullah\", \"Mujeeb\", \"Sufyan\", \"Tahir\"]\n",
    "\n",
    "# message to each one\n",
    "print(f\"Hey {friends[0]}, you are in my friend list at number {friends.index(friends[0]) + 1}\")\n",
    "print(f\"Hey {friends[1]}, you are in my friend list at number {friends.index(friends[1]) + 1}\")\n",
    "print(f\"Hey {friends[2]}, you are in my friend list at number {friends.index(friends[2]) + 1}\")\n",
    "print(f\"Hey {friends[3]}, you are in my friend list at number {friends.index(friends[3]) + 1}\")\n"
   ]
  },
  {
   "cell_type": "markdown",
   "metadata": {},
   "source": [
    "## 3.3\n",
    "Your Own List: Think of your favorite mode of transportation, such as a\n",
    "motorcycle or a car, and make a list that stores several examples. Use your list\n",
    "to print a series of statements about these items, such as “I would like to own a\n",
    "Honda motorcycle.”"
   ]
  },
  {
   "cell_type": "code",
   "execution_count": 9,
   "metadata": {},
   "outputs": [
    {
     "name": "stdout",
     "output_type": "stream",
     "text": [
      "I would like to purchase Lamborghini\n",
      "I would like to just only drive Firrari\n",
      "Firrari is my favorite luxury car\n"
     ]
    }
   ],
   "source": [
    "favorite_cars : list[str] = ['Lamborghini', 'Firrari', 'Rolls Roys']\n",
    "\n",
    "print(f\"I would like to purchase {favorite_cars[0]}\")\n",
    "print(f\"I would like to just only drive {favorite_cars[1]}\")\n",
    "print(f\"{favorite_cars[1]} is my favorite luxury car\")"
   ]
  },
  {
   "cell_type": "markdown",
   "metadata": {},
   "source": [
    "## 3.4\n",
    "Guest List: If you could invite anyone, living or deceased, to dinner, who\n",
    "would you invite? Make a list that includes at least three people you’d like to\n",
    "invite to dinner. Then use your list to print a message to each person, inviting\n",
    "them to dinner."
   ]
  },
  {
   "cell_type": "code",
   "execution_count": 11,
   "metadata": {},
   "outputs": [
    {
     "name": "stdout",
     "output_type": "stream",
     "text": [
      "Hey hammad, you are invited to my dinner party.\n",
      "Hey sufyan, you are invited to my dinner party.\n",
      "Hey abdullah, you are invited to my dinner party.\n"
     ]
    }
   ],
   "source": [
    "guest_list : list[str] = ['hammad', 'sufyan', 'abdullah']\n",
    "\n",
    "print(f'Hey {guest_list[0]}, you are invited to my dinner party.')\n",
    "print(f'Hey {guest_list[1]}, you are invited to my dinner party.')\n",
    "print(f'Hey {guest_list[2]}, you are invited to my dinner party.')"
   ]
  },
  {
   "cell_type": "markdown",
   "metadata": {},
   "source": [
    "# 3.5\n",
    " Changing Guest List: You just heard that one of your guests can’t make the\n",
    "dinner, so you need to send out a new set of invitations. You’ll have to think of\n",
    "someone else to invite.\n",
    "\n",
    "* Start with your program from Exercise 3-4. Add a print() call at the end of\n",
    "your program, stating the name of the guest who can’t make it.\n",
    "\n",
    "* Modify your list, replacing the name of the guest who can’t make it with the\n",
    "name of the new person you are inviting.\n",
    "\n",
    "* Print a second set of invitation messages, one for each person who is still in\n",
    "your list."
   ]
  },
  {
   "cell_type": "code",
   "execution_count": 38,
   "metadata": {},
   "outputs": [
    {
     "name": "stdout",
     "output_type": "stream",
     "text": [
      "Removed Guest: sufyan\n",
      "Hey hammad, you are finally invited to the dinner\n",
      "Hey maaz, you are finally invited to the dinner\n",
      "Hey abdullah, you are finally invited to the dinner\n"
     ]
    }
   ],
   "source": [
    "guest_list : list[str] = ['hammad', 'sufyan', 'abdullah']\n",
    "\n",
    "# save index for later use\n",
    "removed_guest_index : int = guest_list.index('sufyan')\n",
    "# removed value and save for print later\n",
    "removed_guest : str = guest_list.pop(guest_list.index('sufyan'))\n",
    "\n",
    "# removed guest\n",
    "print(f\"Removed Guest: {removed_guest}\")\n",
    "\n",
    "# add new guest in the list\n",
    "guest_list.insert(removed_guest_index, 'maaz')\n",
    "\n",
    "# printing second invitation\n",
    "print(f\"Hey {guest_list[0]}, you are finally invited to the dinner\")\n",
    "print(f\"Hey {guest_list[1]}, you are finally invited to the dinner\")\n",
    "print(f\"Hey {guest_list[2]}, you are finally invited to the dinner\")"
   ]
  },
  {
   "cell_type": "markdown",
   "metadata": {},
   "source": [
    "# 3.6\n",
    "More Guests: You just found a bigger dinner table, so now more space is\n",
    "available. Think of three more guests to invite to dinner.\n",
    "\n",
    "* Start with your program from Exercise 3-4 or 3-5. Add a print() call to the\n",
    "end of your program, informing people that you found a bigger table.\n",
    "\n",
    "* Use insert() to add one new guest to the beginning of your list.\n",
    "\n",
    "* Use insert() to add one new guest to the middle of your list.\n",
    "\n",
    "* Use append() to add one new guest to the end of your list.\n",
    "\n",
    "* Print a new set of invitation messages, one for each person in your list."
   ]
  },
  {
   "cell_type": "code",
   "execution_count": 39,
   "metadata": {},
   "outputs": [
    {
     "name": "stdout",
     "output_type": "stream",
     "text": [
      "Hey ['hammad', 'maaz', 'abdullah'], hope you all are well. I have changed the invitation list due to increase the arrangements\n",
      "Hey mujeeb, hope you are doing well. You are invited to my dinner part\n",
      "Hey hammad, hope you are doing well. You are invited to my dinner part\n",
      "Hey usman, hope you are doing well. You are invited to my dinner part\n",
      "Hey maaz, hope you are doing well. You are invited to my dinner part\n",
      "Hey abdullah, hope you are doing well. You are invited to my dinner part\n",
      "Hey zeeshan, hope you are doing well. You are invited to my dinner part\n"
     ]
    }
   ],
   "source": [
    "# print call to changing the invitation\n",
    "print(f\"Hey {guest_list}, hope you all are well. I have changed the invitation list due to increase the arrangements\")\n",
    "\n",
    "# insert at the beginning\n",
    "guest_list.insert(0, 'mujeeb')\n",
    "\n",
    "# insert at the center\n",
    "guest_list.insert(len(guest_list) // 2, 'usman')\n",
    "\n",
    "# appending at the last\n",
    "guest_list.append('zeeshan')\n",
    "\n",
    "for guest in guest_list:\n",
    "    print(f\"Hey {guest}, hope you are doing well. You are invited to my dinner part\")"
   ]
  },
  {
   "cell_type": "markdown",
   "metadata": {},
   "source": [
    "## 3.7\n",
    "Shrinking Guest List: You just found out that your new dinner table won’t\n",
    "arrive in time for the dinner, and now you have space for only two guests.\n",
    "\n",
    "* Start with your program from Exercise 3-6. Add a new line that prints a\n",
    "message saying that you can invite only two people for dinner.\n",
    "* Use pop() to remove guests from your list one at a time until only two\n",
    "names remain in your list. Each time you pop a name from your list, print a\n",
    "message to that person letting them know you’re sorry you can’t invite them\n",
    "to dinner.\n",
    "* Print a message to each of the two people still on your list, letting them\n",
    "know they’re still invited.\n",
    "* Use del to remove the last two names from your list, so you have an empty\n",
    "list. Print your list to make sure you actually have an empty list at the end of\n",
    "your program."
   ]
  },
  {
   "cell_type": "code",
   "execution_count": 40,
   "metadata": {},
   "outputs": [
    {
     "name": "stdout",
     "output_type": "stream",
     "text": [
      "Hey ['mujeeb', 'hammad', 'usman', 'maaz', 'abdullah', 'zeeshan'], sorry to say that I can only invite two people. That's why I am shortlisting.\n",
      "Hey zeeshan, I am sorry, I cannot invite you to the dinner.\n",
      "Hey abdullah, I am sorry, I cannot invite you to the dinner.\n",
      "Hey maaz, I am sorry, I cannot invite you to the dinner.\n",
      "Hey usman, I am sorry, I cannot invite you to the dinner.\n",
      "Hey mujeeb, you are still invited to the dinner.\n",
      "Hey hammad, you are still invited to the dinner.\n",
      "Confirming that [] array is empty\n"
     ]
    }
   ],
   "source": [
    "print(f\"Hey {guest_list}, sorry to say that I can only invite two people. That's why I am shortlisting.\")\n",
    "\n",
    "print(f\"Hey {guest_list.pop()}, I am sorry, I cannot invite you to the dinner.\")\n",
    "print(f\"Hey {guest_list.pop()}, I am sorry, I cannot invite you to the dinner.\")\n",
    "print(f\"Hey {guest_list.pop()}, I am sorry, I cannot invite you to the dinner.\")\n",
    "print(f\"Hey {guest_list.pop()}, I am sorry, I cannot invite you to the dinner.\")\n",
    "\n",
    "for guest in guest_list:\n",
    "    print(f\"Hey {guest}, you are still invited to the dinner.\")\n",
    "\n",
    "del guest_list[0]\n",
    "del guest_list[0]\n",
    "\n",
    "print(f\"Confirming that {guest_list} array is empty\")"
   ]
  },
  {
   "cell_type": "markdown",
   "metadata": {},
   "source": [
    "## 3.8\n",
    "Seeing the World: Think of at least five places in the world you’d like\n",
    "to visit.\n",
    "\n",
    "* Store the locations in a list. Make sure the list is not in alphabetical order.\n",
    "\n",
    "* Print your list in its original order. Don’t worry about printing the list neatly;\n",
    "just print it as a raw Python list.\n",
    "\n",
    "* Use sorted() to print your list in alphabetical order without modifying the\n",
    "actual list.\n",
    "\n",
    "* Show that your list is still in its original order by printing it.\n",
    "\n",
    "* Use sorted() to print your list in reverse-alphabetical order without chang-\n",
    "ing the order of the original list.\n",
    "\n",
    "* Show that your list is still in its original order by printing it again.\n",
    "\n",
    "* Use reverse() to change the order of your list. Print the list to show that its\n",
    "order has changed.\n",
    "\n",
    "* Use reverse() to change the order of your list again. Print the list to show\n",
    "it’s back to its original order.\n",
    "\n",
    "* Use sort() to change your list so it’s stored in alphabetical order. Print the\n",
    "list to show that its order has been changed.\n",
    "\n",
    "* Use sort() to change your list so it’s stored in reverse-alphabetical order.\n",
    "Print the list to show that its order has changed."
   ]
  },
  {
   "cell_type": "code",
   "execution_count": 54,
   "metadata": {},
   "outputs": [
    {
     "name": "stdout",
     "output_type": "stream",
     "text": [
      "Raw list: ['Kyoto', 'New York', 'Paris', 'Cape Town', 'Bali']\n",
      "List in alphabetical order: ['Bali', 'Cape Town', 'Kyoto', 'New York', 'Paris']\n",
      "List is still in original order: ['Kyoto', 'New York', 'Paris', 'Cape Town', 'Bali']\n",
      "List in reverse alphabetical order: ['Paris', 'New York', 'Kyoto', 'Cape Town', 'Bali']\n",
      "List is still in original order: ['Kyoto', 'New York', 'Paris', 'Cape Town', 'Bali']\n",
      "Order of list has changed: ['Bali', 'Cape Town', 'Paris', 'New York', 'Kyoto']\n",
      "Order of list has changed to original: ['Kyoto', 'New York', 'Paris', 'Cape Town', 'Bali']\n",
      "List in alphabetical order: ['Bali', 'Cape Town', 'Kyoto', 'New York', 'Paris']\n",
      "List if reverse alphabetical order: ['Paris', 'New York', 'Kyoto', 'Cape Town', 'Bali']\n"
     ]
    }
   ],
   "source": [
    "wishlist_places : list[str] = ['Kyoto', 'New York', 'Paris', 'Cape Town', 'Bali']\n",
    "\n",
    "print(f\"Raw list: {wishlist_places}\")\n",
    "\n",
    "sorted_list : list[str] = sorted(wishlist_places)\n",
    "print(f\"List in alphabetical order: {sorted_list}\")\n",
    "\n",
    "print(f\"List is still in original order: {wishlist_places}\")\n",
    "\n",
    "sorted_list.reverse()\n",
    "print(f\"List in reverse alphabetical order: {sorted_list}\")\n",
    "\n",
    "print(f\"List is still in original order: {wishlist_places}\")\n",
    "\n",
    "wishlist_places.reverse()\n",
    "print(f\"Order of list has changed: {wishlist_places}\")\n",
    "\n",
    "wishlist_places.reverse()\n",
    "print(f\"Order of list has changed to original: {wishlist_places}\")\n",
    "\n",
    "wishlist_places.sort()\n",
    "print(f\"List in alphabetical order: {wishlist_places}\")\n",
    "\n",
    "wishlist_places.sort(reverse = True)\n",
    "print(f\"List if reverse alphabetical order: {wishlist_places}\")"
   ]
  },
  {
   "cell_type": "markdown",
   "metadata": {},
   "source": [
    "## 3.9\n",
    "Working with one of the programs from Exercises 3-4\n",
    "through 3-7 (pages 41–42), use len() to print a message indicating the number\n",
    "of people you’re inviting to dinner."
   ]
  },
  {
   "cell_type": "code",
   "execution_count": 55,
   "metadata": {},
   "outputs": [
    {
     "name": "stdout",
     "output_type": "stream",
     "text": [
      "Total 3 guests are invited to the dinner and guests are ['hammad', 'sufyan', 'abdullah']\n"
     ]
    }
   ],
   "source": [
    "guest_list : list[str] = ['hammad', 'sufyan', 'abdullah']\n",
    "\n",
    "print(f\"Total {len(guest_list)} guests are invited to the dinner and guests are {guest_list}.\")"
   ]
  },
  {
   "cell_type": "markdown",
   "metadata": {},
   "source": [
    "## 3.10\n",
    "Every Function: Think of things you could store in a list. For example, you\n",
    "could make a list of mountains, rivers, countries, cities, languages, or anything\n",
    "else you’d like. Write a program that creates a list containing these items and\n",
    "then uses each function introduced in this chapter at least once."
   ]
  },
  {
   "cell_type": "code",
   "execution_count": 68,
   "metadata": {},
   "outputs": [
    {
     "name": "stdout",
     "output_type": "stream",
     "text": [
      "List in original form: ['Amazon River', 'Nile River', 'Yangtze River', 'Mississippi River', 'Danube River', 'Ganges River', 'Volga River', 'Mekong River', 'Thames River', 'Tigris River']\n",
      "After adding river at the end: ['Amazon River', 'Nile River', 'Yangtze River', 'Mississippi River', 'Danube River', 'Ganges River', 'Volga River', 'Mekong River', 'Thames River', 'Tigris River', 'Satluj River']\n",
      "After inserting at the start: ['Ravi River', 'Amazon River', 'Nile River', 'Yangtze River', 'Mississippi River', 'Danube River', 'Ganges River', 'Volga River', 'Mekong River', 'Thames River', 'Tigris River', 'Satluj River']\n",
      "Deleting first element: ['Amazon River', 'Nile River', 'Yangtze River', 'Mississippi River', 'Danube River', 'Ganges River', 'Volga River', 'Mekong River', 'Thames River', 'Tigris River', 'Satluj River']\n",
      "Removing from the last: ['Amazon River', 'Nile River', 'Yangtze River', 'Mississippi River', 'Danube River', 'Ganges River', 'Volga River', 'Mekong River', 'Thames River', 'Tigris River']\n",
      "Removing from the start: ['Nile River', 'Yangtze River', 'Mississippi River', 'Danube River', 'Ganges River', 'Volga River', 'Mekong River', 'Thames River', 'Tigris River']\n",
      "After removing Nile River: ['Yangtze River', 'Mississippi River', 'Danube River', 'Ganges River', 'Volga River', 'Mekong River', 'Thames River', 'Tigris River']\n",
      "Sorted list of rivers: ['Danube River', 'Ganges River', 'Mekong River', 'Mississippi River', 'Thames River', 'Tigris River', 'Volga River', 'Yangtze River']\n",
      "Sorted rivers list: ['Danube River', 'Ganges River', 'Mekong River', 'Mississippi River', 'Thames River', 'Tigris River', 'Volga River', 'Yangtze River']\n",
      "Reverse order: ['Yangtze River', 'Volga River', 'Tigris River', 'Thames River', 'Mississippi River', 'Mekong River', 'Ganges River', 'Danube River']\n",
      "List before reversing: ['Danube River', 'Ganges River', 'Mekong River', 'Mississippi River', 'Thames River', 'Tigris River', 'Volga River', 'Yangtze River']\n",
      "Length of Rivers list: 8\n"
     ]
    }
   ],
   "source": [
    "rivers = [\"Amazon River\", \"Nile River\", \"Yangtze River\", \"Mississippi River\", \n",
    "          \"Danube River\", \"Ganges River\", \"Volga River\", \n",
    "          \"Mekong River\", \"Thames River\", \"Tigris River\"]\n",
    "\n",
    "print(f\"List in original form: {rivers}\")\n",
    "\n",
    "# adding element at the end using append\n",
    "rivers.append('Satluj River')\n",
    "print(f\"After adding river at the end: {rivers}\")\n",
    "\n",
    "# adding element at the start\n",
    "rivers.insert(0, 'Ravi River')\n",
    "print(f\"After inserting at the start: {rivers}\")\n",
    "\n",
    "# Remove using del keyword\n",
    "del rivers[0]\n",
    "print(f\"Deleting first element: {rivers}\")\n",
    "\n",
    "# Removing using pop method from the last\n",
    "rivers.pop()\n",
    "print(f\"Removing from the last: {rivers}\")\n",
    "\n",
    "# Removing from the start using pop\n",
    "rivers.pop(0)\n",
    "print(f\"Removing from the start: {rivers}\")\n",
    "\n",
    "# removing river by mentioning name\n",
    "rivers.remove('Nile River')\n",
    "print(f\"After removing Nile River: {rivers}\")\n",
    "\n",
    "# printing sorted rivers list without modifying original\n",
    "print(f\"Sorted list of rivers: {sorted(rivers)}\")\n",
    "\n",
    "# sorting original list\n",
    "rivers.sort()\n",
    "print(f\"Sorted rivers list: {rivers}\")\n",
    "\n",
    "# printing in reverse order\n",
    "rivers.reverse()\n",
    "print(f\"Reverse order: {rivers}\")\n",
    "\n",
    "# Reverse again\n",
    "rivers.reverse()\n",
    "print(f\"List before reversing: {rivers}\")\n",
    "\n",
    "# length of the list\n",
    "rivers_length : int = len(rivers)\n",
    "print(f\"Length of Rivers list: {rivers_length}\")"
   ]
  }
 ],
 "metadata": {
  "kernelspec": {
   "display_name": "base",
   "language": "python",
   "name": "python3"
  },
  "language_info": {
   "codemirror_mode": {
    "name": "ipython",
    "version": 3
   },
   "file_extension": ".py",
   "mimetype": "text/x-python",
   "name": "python",
   "nbconvert_exporter": "python",
   "pygments_lexer": "ipython3",
   "version": "3.11.5"
  }
 },
 "nbformat": 4,
 "nbformat_minor": 2
}
