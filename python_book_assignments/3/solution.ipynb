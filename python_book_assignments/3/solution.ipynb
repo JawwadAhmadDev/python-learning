{
 "cells": [
  {
   "cell_type": "markdown",
   "metadata": {},
   "source": [
    "## 3.1\n",
    "Names: Store the names of a few of your friends in a list called names. Print\n",
    "each person’s name by accessing each element in the list, one at a time."
   ]
  },
  {
   "cell_type": "code",
   "execution_count": 1,
   "metadata": {},
   "outputs": [
    {
     "name": "stdout",
     "output_type": "stream",
     "text": [
      "1st friend is abdullah\n",
      "2nd friend is Mujeeb\n",
      "2nd friend is Sufyan\n",
      "2nd friend is Tahir\n"
     ]
    }
   ],
   "source": [
    "friends : list[str] = [\"abdullah\", \"Mujeeb\", \"Sufyan\", \"Tahir\"]\n",
    "\n",
    "print(f\"1st friend is {friends[0]}\")\n",
    "print(f\"2nd friend is {friends[1]}\")\n",
    "print(f\"2nd friend is {friends[2]}\")\n",
    "print(f\"2nd friend is {friends[3]}\")\n"
   ]
  },
  {
   "cell_type": "markdown",
   "metadata": {},
   "source": [
    "## 3.2\n",
    "Greetings: Start with the list you used in Exercise 3-1, but instead of just\n",
    "printing each person’s name, print a message to them. The text of each mes-\n",
    "sage should be the same, but each message should be personalized with the\n",
    "person’s name.\n"
   ]
  },
  {
   "cell_type": "code",
   "execution_count": 7,
   "metadata": {},
   "outputs": [
    {
     "name": "stdout",
     "output_type": "stream",
     "text": [
      "Hey abdullah, you are in my friend list at number 1\n",
      "Hey Mujeeb, you are in my friend list at number 2\n",
      "Hey Sufyan, you are in my friend list at number 3\n",
      "Hey Tahir, you are in my friend list at number 4\n"
     ]
    }
   ],
   "source": [
    "# list of friends\n",
    "friends : list[str] = [\"abdullah\", \"Mujeeb\", \"Sufyan\", \"Tahir\"]\n",
    "\n",
    "# message to each one\n",
    "print(f\"Hey {friends[0]}, you are in my friend list at number {friends.index(friends[0]) + 1}\")\n",
    "print(f\"Hey {friends[1]}, you are in my friend list at number {friends.index(friends[1]) + 1}\")\n",
    "print(f\"Hey {friends[2]}, you are in my friend list at number {friends.index(friends[2]) + 1}\")\n",
    "print(f\"Hey {friends[3]}, you are in my friend list at number {friends.index(friends[3]) + 1}\")\n"
   ]
  },
  {
   "cell_type": "markdown",
   "metadata": {},
   "source": [
    "## 3.3\n",
    "Your Own List: Think of your favorite mode of transportation, such as a\n",
    "motorcycle or a car, and make a list that stores several examples. Use your list\n",
    "to print a series of statements about these items, such as “I would like to own a\n",
    "Honda motorcycle.”"
   ]
  },
  {
   "cell_type": "code",
   "execution_count": 9,
   "metadata": {},
   "outputs": [
    {
     "name": "stdout",
     "output_type": "stream",
     "text": [
      "I would like to purchase Lamborghini\n",
      "I would like to just only drive Firrari\n",
      "Firrari is my favorite luxury car\n"
     ]
    }
   ],
   "source": [
    "favorite_cars : list[str] = ['Lamborghini', 'Firrari', 'Rolls Roys']\n",
    "\n",
    "print(f\"I would like to purchase {favorite_cars[0]}\")\n",
    "print(f\"I would like to just only drive {favorite_cars[1]}\")\n",
    "print(f\"{favorite_cars[1]} is my favorite luxury car\")"
   ]
  },
  {
   "cell_type": "markdown",
   "metadata": {},
   "source": [
    "## 3.4\n",
    "Guest List: If you could invite anyone, living or deceased, to dinner, who\n",
    "would you invite? Make a list that includes at least three people you’d like to\n",
    "invite to dinner. Then use your list to print a message to each person, inviting\n",
    "them to dinner."
   ]
  },
  {
   "cell_type": "code",
   "execution_count": 11,
   "metadata": {},
   "outputs": [
    {
     "name": "stdout",
     "output_type": "stream",
     "text": [
      "Hey hammad, you are invited to my dinner party.\n",
      "Hey sufyan, you are invited to my dinner party.\n",
      "Hey abdullah, you are invited to my dinner party.\n"
     ]
    }
   ],
   "source": [
    "guest_list : list[str] = ['hammad', 'sufyan', 'abdullah']\n",
    "\n",
    "print(f'Hey {guest_list[0]}, you are invited to my dinner party.')\n",
    "print(f'Hey {guest_list[1]}, you are invited to my dinner party.')\n",
    "print(f'Hey {guest_list[2]}, you are invited to my dinner party.')"
   ]
  },
  {
   "cell_type": "markdown",
   "metadata": {},
   "source": [
    "# 3.5\n",
    " Changing Guest List: You just heard that one of your guests can’t make the\n",
    "dinner, so you need to send out a new set of invitations. You’ll have to think of\n",
    "someone else to invite.\n",
    "\n",
    "* Start with your program from Exercise 3-4. Add a print() call at the end of\n",
    "your program, stating the name of the guest who can’t make it.\n",
    "\n",
    "* Modify your list, replacing the name of the guest who can’t make it with the\n",
    "name of the new person you are inviting.\n",
    "\n",
    "* Print a second set of invitation messages, one for each person who is still in\n",
    "your list."
   ]
  },
  {
   "cell_type": "code",
   "execution_count": 26,
   "metadata": {},
   "outputs": [
    {
     "name": "stdout",
     "output_type": "stream",
     "text": [
      "Removed Guest: sufyan\n",
      "Hey hammad, you are finally invited to the dinner\n",
      "Hey maaz, you are finally invited to the dinner\n",
      "Hey abdullah, you are finally invited to the dinner\n"
     ]
    }
   ],
   "source": [
    "guest_list : list[str] = ['hammad', 'sufyan', 'abdullah']\n",
    "\n",
    "# save index for later use\n",
    "removed_guest_index : int = guest_list.index('sufyan')\n",
    "# removed value and save for print later\n",
    "removed_guest : str = guest_list.pop(guest_list.index('sufyan'))\n",
    "\n",
    "# removed guest\n",
    "print(f\"Removed Guest: {removed_guest}\")\n",
    "\n",
    "# add new guest in the list\n",
    "guest_list.insert(removed_guest_index, 'maaz')\n",
    "\n",
    "# printing second invitation\n",
    "print(f\"Hey {guest_list[0]}, you are finally invited to the dinner\")\n",
    "print(f\"Hey {guest_list[1]}, you are finally invited to the dinner\")\n",
    "print(f\"Hey {guest_list[2]}, you are finally invited to the dinner\")"
   ]
  },
  {
   "cell_type": "markdown",
   "metadata": {},
   "source": [
    "# 3.6\n",
    "More Guests: You just found a bigger dinner table, so now more space is\n",
    "available. Think of three more guests to invite to dinner.\n",
    "\n",
    "* Start with your program from Exercise 3-4 or 3-5. Add a print() call to the\n",
    "end of your program, informing people that you found a bigger table.\n",
    "\n",
    "* Use insert() to add one new guest to the beginning of your list.\n",
    "\n",
    "* Use insert() to add one new guest to the middle of your list.\n",
    "\n",
    "* Use append() to add one new guest to the end of your list.\n",
    "\n",
    "* Print a new set of invitation messages, one for each person in your list."
   ]
  },
  {
   "cell_type": "code",
   "execution_count": 25,
   "metadata": {},
   "outputs": [
    {
     "name": "stdout",
     "output_type": "stream",
     "text": [
      "Hey ['hammad', 'maaz', 'abdullah'], hope you all are well. I have changed the invitation list due to increase the arrangements\n",
      "length of guest_list 2.0\n"
     ]
    }
   ],
   "source": [
    "# print call to changing the invitation\n",
    "print(f\"Hey {guest_list}, hope you all are well. I have changed the invitation list due to increase the arrangements\")\n",
    "\n",
    "# insert at the beginning\n",
    "guest_list.insert(0, 'mujeeb')\n",
    "\n",
    "# insert at the center\n",
    "guest_list.insert(len(guest_list) // 2, 'usman')\n",
    "\n",
    "# appending at the last\n",
    "guest_list.append('zeeshan')\n",
    "\n",
    "for guest in guest_list:\n",
    "    print(f\"Hey {guest}, hope you are doing well. You are invited to my dinner part\")"
   ]
  }
 ],
 "metadata": {
  "kernelspec": {
   "display_name": "base",
   "language": "python",
   "name": "python3"
  },
  "language_info": {
   "codemirror_mode": {
    "name": "ipython",
    "version": 3
   },
   "file_extension": ".py",
   "mimetype": "text/x-python",
   "name": "python",
   "nbconvert_exporter": "python",
   "pygments_lexer": "ipython3",
   "version": "3.11.5"
  }
 },
 "nbformat": 4,
 "nbformat_minor": 2
}
