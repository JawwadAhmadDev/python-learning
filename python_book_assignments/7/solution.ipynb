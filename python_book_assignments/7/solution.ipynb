{
 "cells": [
  {
   "cell_type": "markdown",
   "metadata": {},
   "source": [
    "## 7-1. Rental Car: \n",
    "- Write a program that asks the user what kind of rental car they\n",
    "would like. Print a message about that car, such as “Let me see if I can find you\n",
    "a Subaru.”"
   ]
  },
  {
   "cell_type": "code",
   "execution_count": 1,
   "metadata": {},
   "outputs": [
    {
     "name": "stdout",
     "output_type": "stream",
     "text": [
      "Let me see if I can find you a subaru.\n"
     ]
    }
   ],
   "source": [
    "car_name: str = input(\"Please enter car name you want to take for rent\")\n",
    "\n",
    "print(f\"Let me see if I can find you a {car_name}.\")"
   ]
  },
  {
   "cell_type": "markdown",
   "metadata": {},
   "source": [
    "## 7-2. Restaurant Seating: \n",
    "- Write a program that asks the user how many people\n",
    "are in their dinner group. \n",
    "- If the answer is more than eight, print a message saying they’ll have to wait for a table. Otherwise, report that their table is ready."
   ]
  },
  {
   "cell_type": "code",
   "execution_count": 2,
   "metadata": {},
   "outputs": [
    {
     "name": "stdout",
     "output_type": "stream",
     "text": [
      "You'll have to wait for a table.\n"
     ]
    }
   ],
   "source": [
    "people_count: int = int(input(\"How many people are in your dinner group: \"))\n",
    "\n",
    "if people_count > 8:\n",
    "    print(\"You'll have to wait for a table.\")\n",
    "else:\n",
    "    print(\"Your table is ready.\")"
   ]
  },
  {
   "cell_type": "markdown",
   "metadata": {},
   "source": [
    "## 7-3. Multiples of Ten: \n",
    "- Ask the user for a number, and then report whether the\n",
    "number is a multiple of 10 or not."
   ]
  },
  {
   "cell_type": "code",
   "execution_count": 3,
   "metadata": {},
   "outputs": [
    {
     "name": "stdout",
     "output_type": "stream",
     "text": [
      "The number is a multiple of 10.\n"
     ]
    }
   ],
   "source": [
    "number: int = int(input(\"Enter a number: \"))\n",
    "\n",
    "if number % 10 == 0:\n",
    "    print(\"The number is a multiple of 10.\")\n",
    "else:\n",
    "    print(\"The number is not a multiple of 10.\")"
   ]
  },
  {
   "cell_type": "markdown",
   "metadata": {},
   "source": [
    "## 7-4. Pizza Toppings: \n",
    "- Write a loop that prompts the user to enter a series of\n",
    "pizza toppings until they enter a 'quit' value. As they enter each topping, print\n",
    "a message saying you’ll add that topping to their pizza."
   ]
  },
  {
   "cell_type": "code",
   "execution_count": 7,
   "metadata": {},
   "outputs": [
    {
     "name": "stdout",
     "output_type": "stream",
     "text": [
      "You'll add 1 topping to your pizza.\n",
      "You'll add 2 topping to your pizza.\n",
      "You'll add 3 topping to your pizza.\n",
      "You'll add 4 topping to your pizza.\n",
      "You'll add 5 topping to your pizza.\n",
      "You'll add 6 topping to your pizza.\n",
      "You'll add 7 topping to your pizza.\n",
      "You'll add quit topping to your pizza.\n"
     ]
    }
   ],
   "source": [
    "prompt: str = \"Please enter topping: \"\n",
    "topping: str = ''\n",
    "\n",
    "while topping.lower() != \"quit\":\n",
    "    topping = input(prompt)\n",
    "    \n",
    "    if topping.lower() != \"quit\":\n",
    "        print(f\"You'll add {topping} topping to your pizza.\")"
   ]
  }
 ],
 "metadata": {
  "kernelspec": {
   "display_name": "Python 3",
   "language": "python",
   "name": "python3"
  },
  "language_info": {
   "codemirror_mode": {
    "name": "ipython",
    "version": 3
   },
   "file_extension": ".py",
   "mimetype": "text/x-python",
   "name": "python",
   "nbconvert_exporter": "python",
   "pygments_lexer": "ipython3",
   "version": "3.12.4"
  }
 },
 "nbformat": 4,
 "nbformat_minor": 2
}
