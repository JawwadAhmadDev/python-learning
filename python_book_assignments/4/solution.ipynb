{
 "cells": [
  {
   "cell_type": "markdown",
   "metadata": {},
   "source": [
    "# 4-1. Pizzas: \n",
    "Think of at least three kinds of your favorite pizza. Store these pizza names in a list, and then use a for loop to print the name of each pizza."
   ]
  },
  {
   "cell_type": "code",
   "execution_count": 6,
   "metadata": {},
   "outputs": [
    {
     "name": "stdout",
     "output_type": "stream",
     "text": [
      "Margherita\n",
      "Pepperoni\n",
      "Hawaiian\n"
     ]
    }
   ],
   "source": [
    "favorite_pizzas: list[str] = ['Margherita', 'Pepperoni', 'Hawaiian']\n",
    "\n",
    "# simple method\n",
    "for pizza in favorite_pizzas:\n",
    "    print(pizza)\n",
    "\n",
    "# comprehension method\n",
    "# list(pizza for pizza in favorite_pizzas)"
   ]
  },
  {
   "cell_type": "markdown",
   "metadata": {},
   "source": [
    "* Modify your for loop to print a sentence using the name of the pizza, instead of printing just the name of the pizza. For each pizza, you should have one line of output containing a simple statement like I like pepperoni pizza."
   ]
  },
  {
   "cell_type": "code",
   "execution_count": 7,
   "metadata": {},
   "outputs": [
    {
     "name": "stdout",
     "output_type": "stream",
     "text": [
      "I like Margherita\n",
      "I like Pepperoni\n",
      "I like Hawaiian\n"
     ]
    }
   ],
   "source": [
    "favorite_pizzas: list[str] = ['Margherita', 'Pepperoni', 'Hawaiian']\n",
    "\n",
    "for pizza in favorite_pizzas:\n",
    "    print(f\"I like {pizza}\")\n"
   ]
  },
  {
   "cell_type": "markdown",
   "metadata": {},
   "source": [
    "* Add a line at the end of your program, outside the for loop, that states how much you like pizza. The output should consist of three or more lines about the kinds of pizza you like and then an additional sentence, such as I really love pizza!"
   ]
  },
  {
   "cell_type": "code",
   "execution_count": 8,
   "metadata": {},
   "outputs": [
    {
     "name": "stdout",
     "output_type": "stream",
     "text": [
      "I like Margherita\n",
      "I like Pepperoni\n",
      "I like Hawaiian\n",
      "I really like pizza\n"
     ]
    }
   ],
   "source": [
    "favorite_pizzas: list[str] = ['Margherita', 'Pepperoni', 'Hawaiian']\n",
    "\n",
    "for pizza in favorite_pizzas:\n",
    "    print(f\"I like {pizza}\")\n",
    "\n",
    "print(f\"I really like pizza\")"
   ]
  },
  {
   "cell_type": "markdown",
   "metadata": {},
   "source": [
    "# 4-2. Animals: \n",
    "Think of at least three different animals that have a common characteristic. Store the names of these animals in a list, and then use a for loop to print out the name of each animal."
   ]
  },
  {
   "cell_type": "code",
   "execution_count": 9,
   "metadata": {},
   "outputs": [
    {
     "name": "stdout",
     "output_type": "stream",
     "text": [
      "Eagle\n",
      "Hawk\n",
      "Falcon\n"
     ]
    }
   ],
   "source": [
    "animals: list[str] = ['Eagle', 'Hawk', \"Falcon\"]\n",
    "\n",
    "for animal in animals:\n",
    "    print(f\"{animal}\")"
   ]
  },
  {
   "cell_type": "markdown",
   "metadata": {},
   "source": [
    "* Modify your program to print a statement about each animal, such as A dog would make a great pet."
   ]
  },
  {
   "cell_type": "code",
   "execution_count": 10,
   "metadata": {},
   "outputs": [
    {
     "name": "stdout",
     "output_type": "stream",
     "text": [
      "Eagle has a powerful flight\n",
      "Hawk has a powerful flight\n",
      "Falcon has a powerful flight\n"
     ]
    }
   ],
   "source": [
    "animals: list[str] = ['Eagle', 'Hawk', \"Falcon\"]\n",
    "\n",
    "for animal in animals:\n",
    "    print(f\"{animal} has a powerful flight\")"
   ]
  },
  {
   "cell_type": "markdown",
   "metadata": {},
   "source": [
    "* Add a line at the end of your program, stating what these animals have in common. You could print a sentence, such as Any of these animals would make a great pet!"
   ]
  },
  {
   "cell_type": "code",
   "execution_count": 11,
   "metadata": {},
   "outputs": [
    {
     "name": "stdout",
     "output_type": "stream",
     "text": [
      "Eagle has a powerful flight\n",
      "Hawk has a powerful flight\n",
      "Falcon has a powerful flight\n",
      "All of these have Keen Eyesight.\n"
     ]
    }
   ],
   "source": [
    "animals: list[str] = ['Eagle', 'Hawk', \"Falcon\"]\n",
    "\n",
    "for animal in animals:\n",
    "    print(f\"{animal} has a powerful flight\")\n",
    "\n",
    "print(f\"All of these have Keen Eyesight.\")"
   ]
  },
  {
   "cell_type": "markdown",
   "metadata": {},
   "source": [
    "# 4-3\n",
    "- Counting to Twenty: Use a for loop to print the numbers from 1 to 20, inclusive"
   ]
  },
  {
   "cell_type": "code",
   "execution_count": 12,
   "metadata": {},
   "outputs": [
    {
     "name": "stdout",
     "output_type": "stream",
     "text": [
      "1\n",
      "2\n",
      "3\n",
      "4\n",
      "5\n",
      "6\n",
      "7\n",
      "8\n",
      "9\n",
      "10\n",
      "11\n",
      "12\n",
      "13\n",
      "14\n",
      "15\n",
      "16\n",
      "17\n",
      "18\n",
      "19\n",
      "20\n"
     ]
    }
   ],
   "source": [
    "for value in range(1, 21):\n",
    "    print(f\"{value}\")"
   ]
  },
  {
   "cell_type": "code",
   "execution_count": 15,
   "metadata": {},
   "outputs": [
    {
     "name": "stdout",
     "output_type": "stream",
     "text": [
      "[1, 2, 3, 4, 5, 6, 7, 8, 9, 10, 11, 12, 13, 14, 15, 16, 17, 18, 19, 20]\n"
     ]
    }
   ],
   "source": [
    "# using comprehension method\n",
    "# 1st method\n",
    "# counting = list(value for value in range(1, 21))\n",
    "\n",
    "# 2nd method\n",
    "counting = [value for value in range(1, 21)]\n",
    "print(counting)"
   ]
  },
  {
   "cell_type": "markdown",
   "metadata": {},
   "source": [
    "# 4-4. One Million: \n",
    "- Make a list of the numbers from one to one million, and then use a for loop to print the numbers. (If the output is taking too long, stop it by pressing CTRL-C or by closing the output window.)"
   ]
  },
  {
   "cell_type": "code",
   "execution_count": 18,
   "metadata": {},
   "outputs": [],
   "source": [
    "counting_upto_million = [value for value in range(1, 1_000_001)]"
   ]
  },
  {
   "cell_type": "markdown",
   "metadata": {},
   "source": [
    "# 4-5. Summing a Million: \n",
    "- Make a list of the numbers from one to one million, and\n",
    "then use min() and max() to make sure your list actually starts at one and ends\n",
    "at one million. Also, use the sum() function to see how quickly Python can add\n",
    "a million numbers."
   ]
  },
  {
   "cell_type": "code",
   "execution_count": 19,
   "metadata": {},
   "outputs": [
    {
     "name": "stdout",
     "output_type": "stream",
     "text": [
      "Minimum Number: 1\n",
      "Maximum Number: 1000000\n",
      "Sum Number: 500000500000\n"
     ]
    }
   ],
   "source": [
    "counting_upto_million: list[int] = [value for value in range(1, 1_000_001)]\n",
    "\n",
    "minimum_number: int = min(counting_upto_million)\n",
    "maximum_number: int = max(counting_upto_million)\n",
    "sum_of_numbers: int = sum(counting_upto_million)\n",
    "\n",
    "print(f\"Minimum Number: {minimum_number}\")\n",
    "print(f\"Maximum Number: {maximum_number}\")\n",
    "print(f\"Sum Number: {sum_of_numbers}\")"
   ]
  },
  {
   "cell_type": "markdown",
   "metadata": {},
   "source": [
    "# 4-6. Odd Numbers: \n",
    "- Use the third argument of the range() function to make a list\n",
    "of the odd numbers from 1 to 20. Use a for loop to print each number."
   ]
  },
  {
   "cell_type": "code",
   "execution_count": 20,
   "metadata": {},
   "outputs": [
    {
     "name": "stdout",
     "output_type": "stream",
     "text": [
      "1\n",
      "3\n",
      "5\n",
      "7\n",
      "9\n",
      "11\n",
      "13\n",
      "15\n",
      "17\n",
      "19\n"
     ]
    }
   ],
   "source": [
    "odd_numbers: list[int] = list(range(1, 20, 2))\n",
    "\n",
    "for value in odd_numbers:\n",
    "    print(f\"{value}\")"
   ]
  },
  {
   "cell_type": "markdown",
   "metadata": {},
   "source": [
    "# 4-7. Threes: \n",
    "- Make a list of the multiples of 3, from 3 to 30. Use a for loop to\n",
    "print the numbers in your list."
   ]
  },
  {
   "cell_type": "code",
   "execution_count": 21,
   "metadata": {},
   "outputs": [
    {
     "name": "stdout",
     "output_type": "stream",
     "text": [
      "3\n",
      "6\n",
      "9\n",
      "12\n",
      "15\n",
      "18\n",
      "21\n",
      "24\n",
      "27\n",
      "30\n"
     ]
    }
   ],
   "source": [
    "# Create a list of multiples of 3, from 3 to 30\n",
    "multiples_of_three: list[int] = [value for value in range(3, 31, 3)]\n",
    "\n",
    "# Use a for loop to print the numbers in the list\n",
    "for value in multiples_of_three:\n",
    "    print(f\"{value}\")"
   ]
  },
  {
   "cell_type": "markdown",
   "metadata": {},
   "source": [
    "# 4-8. Cubes: \n",
    "- A number raised to the third power is called a cube. For example,\n",
    "the cube of 2 is written as 2**3 in Python. Make a list of the first 10 cubes (that\n",
    "is, the cube of each integer from 1 through 10), and use a for loop to print out\n",
    "the value of each cube"
   ]
  },
  {
   "cell_type": "code",
   "execution_count": 23,
   "metadata": {},
   "outputs": [
    {
     "name": "stdout",
     "output_type": "stream",
     "text": [
      "1\n",
      "8\n",
      "27\n",
      "64\n",
      "125\n",
      "216\n",
      "343\n",
      "512\n",
      "729\n",
      "1000\n"
     ]
    }
   ],
   "source": [
    "# create a list of cubes of first 10 values\n",
    "cubes : list[int] = [value ** 3 for value in range(1, 11)]\n",
    "\n",
    "# use a for loop to print cubes\n",
    "for cube in cubes:\n",
    "    print(f\"{cube}\")"
   ]
  },
  {
   "cell_type": "code",
   "execution_count": 25,
   "metadata": {},
   "outputs": [
    {
     "name": "stdout",
     "output_type": "stream",
     "text": [
      "1\n",
      "8\n",
      "27\n",
      "64\n",
      "125\n",
      "216\n",
      "343\n",
      "512\n",
      "729\n",
      "1000\n"
     ]
    }
   ],
   "source": [
    "# using simple method\n",
    "cubes : list[int] = []\n",
    "\n",
    "for i in range(1, 11):\n",
    "    cubes.append(i ** 3)\n",
    "\n",
    "for cube in cubes:\n",
    "    print(cube)"
   ]
  },
  {
   "cell_type": "markdown",
   "metadata": {},
   "source": [
    "# 4-9. Cube Comprehension: \n",
    "- Use a list comprehension to generate a list of the first 10 cubes"
   ]
  },
  {
   "cell_type": "code",
   "execution_count": 26,
   "metadata": {},
   "outputs": [
    {
     "name": "stdout",
     "output_type": "stream",
     "text": [
      "[1, 8, 27, 64, 125, 216, 343, 512, 729, 1000]\n"
     ]
    }
   ],
   "source": [
    "cubes : list[int] = [value ** 3 for value in range(1, 11)]\n",
    "\n",
    "print(cubes)"
   ]
  },
  {
   "cell_type": "markdown",
   "metadata": {},
   "source": [
    "# 4-10. Slices: \n",
    "Using one of the programs you wrote in this chapter, add several lines to the end of the program that do the following:"
   ]
  },
  {
   "cell_type": "code",
   "execution_count": 29,
   "metadata": {},
   "outputs": [
    {
     "name": "stdout",
     "output_type": "stream",
     "text": [
      "[0, 1, 8, 27, 64, 125, 216, 343, 512, 729, 1000]\n"
     ]
    }
   ],
   "source": [
    "cubes : list[int] = [value ** 3 for value in range(11)]\n",
    "print(cubes)"
   ]
  },
  {
   "cell_type": "markdown",
   "metadata": {},
   "source": [
    "- Print the message The first three items in the list are:. Then use a slice to\n",
    "print the first three items from that program’s list."
   ]
  },
  {
   "cell_type": "code",
   "execution_count": 30,
   "metadata": {},
   "outputs": [
    {
     "name": "stdout",
     "output_type": "stream",
     "text": [
      "First three values: \n",
      "0\n",
      "1\n",
      "8\n"
     ]
    }
   ],
   "source": [
    "print(f\"First three values: \")\n",
    "for value in cubes[:3]:\n",
    "    print(value)"
   ]
  },
  {
   "cell_type": "markdown",
   "metadata": {},
   "source": [
    "- Print the message Three items from the middle of the list are:. Then use a\n",
    "slice to print three items from the middle of the list."
   ]
  },
  {
   "cell_type": "code",
   "execution_count": 32,
   "metadata": {},
   "outputs": [
    {
     "name": "stdout",
     "output_type": "stream",
     "text": [
      "Middle three values: \n",
      "64\n",
      "125\n",
      "216\n"
     ]
    }
   ],
   "source": [
    "print(f\"Middle three values: \")\n",
    "mid_point = len(cubes) // 2\n",
    "\n",
    "for value in cubes[mid_point - 1 : mid_point + 2]:\n",
    "    print(value)"
   ]
  },
  {
   "cell_type": "markdown",
   "metadata": {},
   "source": [
    "- Print the message The last three items in the list are:. Then use a slice to\n",
    "print the last three items in the list"
   ]
  },
  {
   "cell_type": "code",
   "execution_count": null,
   "metadata": {},
   "outputs": [],
   "source": [
    "print(f\"Last three values: \")\n",
    "\n",
    "for value in cubes[-3:]:\n",
    "    print(value)"
   ]
  }
 ],
 "metadata": {
  "kernelspec": {
   "display_name": "Python 3",
   "language": "python",
   "name": "python3"
  },
  "language_info": {
   "codemirror_mode": {
    "name": "ipython",
    "version": 3
   },
   "file_extension": ".py",
   "mimetype": "text/x-python",
   "name": "python",
   "nbconvert_exporter": "python",
   "pygments_lexer": "ipython3",
   "version": "3.12.1"
  }
 },
 "nbformat": 4,
 "nbformat_minor": 2
}
