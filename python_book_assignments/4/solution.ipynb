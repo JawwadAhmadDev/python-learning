{
 "cells": [
  {
   "cell_type": "markdown",
   "metadata": {},
   "source": [
    "# 4-1. Pizzas: \n",
    "Think of at least three kinds of your favorite pizza. Store these pizza names in a list, and then use a for loop to print the name of each pizza."
   ]
  },
  {
   "cell_type": "code",
   "execution_count": 6,
   "metadata": {},
   "outputs": [
    {
     "name": "stdout",
     "output_type": "stream",
     "text": [
      "Margherita\n",
      "Pepperoni\n",
      "Hawaiian\n"
     ]
    }
   ],
   "source": [
    "favorite_pizzas: list[str] = ['Margherita', 'Pepperoni', 'Hawaiian']\n",
    "\n",
    "# simple method\n",
    "for pizza in favorite_pizzas:\n",
    "    print(pizza)\n",
    "\n",
    "# comprehension method\n",
    "# list(pizza for pizza in favorite_pizzas)"
   ]
  },
  {
   "cell_type": "markdown",
   "metadata": {},
   "source": [
    "* Modify your for loop to print a sentence using the name of the pizza, instead of printing just the name of the pizza. For each pizza, you should have one line of output containing a simple statement like I like pepperoni pizza."
   ]
  },
  {
   "cell_type": "code",
   "execution_count": 7,
   "metadata": {},
   "outputs": [
    {
     "name": "stdout",
     "output_type": "stream",
     "text": [
      "I like Margherita\n",
      "I like Pepperoni\n",
      "I like Hawaiian\n"
     ]
    }
   ],
   "source": [
    "favorite_pizzas: list[str] = ['Margherita', 'Pepperoni', 'Hawaiian']\n",
    "\n",
    "for pizza in favorite_pizzas:\n",
    "    print(f\"I like {pizza}\")\n"
   ]
  },
  {
   "cell_type": "markdown",
   "metadata": {},
   "source": [
    "* Add a line at the end of your program, outside the for loop, that states how much you like pizza. The output should consist of three or more lines about the kinds of pizza you like and then an additional sentence, such as I really love pizza!"
   ]
  },
  {
   "cell_type": "code",
   "execution_count": 8,
   "metadata": {},
   "outputs": [
    {
     "name": "stdout",
     "output_type": "stream",
     "text": [
      "I like Margherita\n",
      "I like Pepperoni\n",
      "I like Hawaiian\n",
      "I really like pizza\n"
     ]
    }
   ],
   "source": [
    "favorite_pizzas: list[str] = ['Margherita', 'Pepperoni', 'Hawaiian']\n",
    "\n",
    "for pizza in favorite_pizzas:\n",
    "    print(f\"I like {pizza}\")\n",
    "\n",
    "print(f\"I really like pizza\")"
   ]
  },
  {
   "cell_type": "markdown",
   "metadata": {},
   "source": [
    "# 4-2. Animals: \n",
    "Think of at least three different animals that have a common characteristic. Store the names of these animals in a list, and then use a for loop to print out the name of each animal."
   ]
  },
  {
   "cell_type": "code",
   "execution_count": 9,
   "metadata": {},
   "outputs": [
    {
     "name": "stdout",
     "output_type": "stream",
     "text": [
      "Eagle\n",
      "Hawk\n",
      "Falcon\n"
     ]
    }
   ],
   "source": [
    "animals: list[str] = ['Eagle', 'Hawk', \"Falcon\"]\n",
    "\n",
    "for animal in animals:\n",
    "    print(f\"{animal}\")"
   ]
  },
  {
   "cell_type": "markdown",
   "metadata": {},
   "source": [
    "* Modify your program to print a statement about each animal, such as A dog would make a great pet."
   ]
  },
  {
   "cell_type": "code",
   "execution_count": 10,
   "metadata": {},
   "outputs": [
    {
     "name": "stdout",
     "output_type": "stream",
     "text": [
      "Eagle has a powerful flight\n",
      "Hawk has a powerful flight\n",
      "Falcon has a powerful flight\n"
     ]
    }
   ],
   "source": [
    "animals: list[str] = ['Eagle', 'Hawk', \"Falcon\"]\n",
    "\n",
    "for animal in animals:\n",
    "    print(f\"{animal} has a powerful flight\")"
   ]
  },
  {
   "cell_type": "markdown",
   "metadata": {},
   "source": [
    "* Add a line at the end of your program, stating what these animals have in common. You could print a sentence, such as Any of these animals would make a great pet!"
   ]
  },
  {
   "cell_type": "code",
   "execution_count": null,
   "metadata": {},
   "outputs": [],
   "source": [
    "animals: list[str] = ['Eagle', 'Hawk', \"Falcon\"]\n",
    "\n",
    "for animal in animals:\n",
    "    print(f\"{animal} has a powerful flight\")\n",
    "\n",
    "print(f\"All of these have Keen Eyesight.\")"
   ]
  }
 ],
 "metadata": {
  "kernelspec": {
   "display_name": "Python 3",
   "language": "python",
   "name": "python3"
  },
  "language_info": {
   "codemirror_mode": {
    "name": "ipython",
    "version": 3
   },
   "file_extension": ".py",
   "mimetype": "text/x-python",
   "name": "python",
   "nbconvert_exporter": "python",
   "pygments_lexer": "ipython3",
   "version": "3.12.1"
  }
 },
 "nbformat": 4,
 "nbformat_minor": 2
}
