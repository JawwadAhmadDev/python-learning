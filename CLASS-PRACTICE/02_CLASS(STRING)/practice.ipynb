{
 "cells": [
  {
   "cell_type": "markdown",
   "metadata": {},
   "source": [
    "# display list of methods of string data type"
   ]
  },
  {
   "cell_type": "code",
   "execution_count": 1,
   "metadata": {},
   "outputs": [
    {
     "name": "stdout",
     "output_type": "stream",
     "text": [
      "['capitalize', 'casefold', 'center', 'count', 'encode', 'endswith', 'expandtabs', 'find', 'format', 'format_map', 'index', 'isalnum', 'isalpha', 'isascii', 'isdecimal', 'isdigit', 'isidentifier', 'islower', 'isnumeric', 'isprintable', 'isspace', 'istitle', 'isupper', 'join', 'ljust', 'lower', 'lstrip', 'maketrans', 'partition', 'removeprefix', 'removesuffix', 'replace', 'rfind', 'rindex', 'rjust', 'rpartition', 'rsplit', 'rstrip', 'split', 'splitlines', 'startswith', 'strip', 'swapcase', 'title', 'translate', 'upper', 'zfill']\n"
     ]
    }
   ],
   "source": [
    "methods = [i for i in dir(str) if \"__\" not in i]\n",
    "print(methods)"
   ]
  },
  {
   "cell_type": "markdown",
   "metadata": {},
   "source": [
    "# Different methods of strings regarding formatting of string literals"
   ]
  },
  {
   "cell_type": "code",
   "execution_count": 2,
   "metadata": {},
   "outputs": [
    {
     "name": "stdout",
     "output_type": "stream",
     "text": [
      "Capitalize: Jawwad ahmad\n",
      "Casefold: jawwad ahmad\n",
      "Lower: jawwad ahmad\n",
      "Upper: JAWWAD AHMAD\n",
      "Title: Jawwad Ahmad\n"
     ]
    }
   ],
   "source": [
    "name : str = \"jawwad ahmad\"\n",
    "print(f\"Capitalize: {name.capitalize()}\")\n",
    "print(f\"Casefold: {name.casefold()}\")\n",
    "print(f\"Lower: {name.lower()}\")\n",
    "print(f\"Upper: {name.upper()}\")\n",
    "print(f\"Title: {name.title()}\")"
   ]
  },
  {
   "cell_type": "markdown",
   "metadata": {},
   "source": [
    "# Handling whitespaces"
   ]
  },
  {
   "cell_type": "code",
   "execution_count": 4,
   "metadata": {},
   "outputs": [
    {
     "name": "stdout",
     "output_type": "stream",
     "text": [
      "Removed from left: 'Jawwad   Ahmad    '\n",
      "Removed from right: '   Jawwad   Ahmad'\n",
      "Removed from both sides: 'Jawwad   Ahmad'\n",
      "Removed from any place:  Jawwad Ahmad \n"
     ]
    }
   ],
   "source": [
    "import re\n",
    "# Whitespaces\n",
    "name: str = \"   Jawwad   Ahmad    \"\n",
    "\n",
    "# Removed from left side\n",
    "# lstrip() method of string is used\n",
    "print(f\"Removed from left: '{name.lstrip()}'\")\n",
    "\n",
    "# Removed from right side\n",
    "# rstrip() method of string is used\n",
    "print(f\"Removed from right: '{name.rstrip()}'\")\n",
    "\n",
    "# Removed from both sides\n",
    "# strip() method of string is used\n",
    "print(f\"Removed from both sides: '{name.strip()}'\")\n",
    "\n",
    "# Removed from any place\n",
    "# sub() method of re library is used to remove whitespaces\n",
    "name1: str = re.sub(' {2,100}', ' ', name)\n",
    "print(f\"Removed from any place: {name1}\")"
   ]
  },
  {
   "cell_type": "markdown",
   "metadata": {},
   "source": [
    "# Removing Prefixes"
   ]
  },
  {
   "cell_type": "code",
   "execution_count": 5,
   "metadata": {},
   "outputs": [
    {
     "name": "stdout",
     "output_type": "stream",
     "text": [
      "Before Removing: https://nostarch.com\n",
      "After Removing: nostarch.com\n"
     ]
    }
   ],
   "source": [
    "# Removing Prefixes\n",
    "nostarch_url = 'https://nostarch.com'\n",
    "print(f\"Before Removing: {nostarch_url}\")\n",
    "nostarch_url = nostarch_url.removeprefix('https://')\n",
    "print(f\"After Removing: {nostarch_url}\")"
   ]
  }
 ],
 "metadata": {
  "kernelspec": {
   "display_name": "py12",
   "language": "python",
   "name": "python3"
  },
  "language_info": {
   "codemirror_mode": {
    "name": "ipython",
    "version": 3
   },
   "file_extension": ".py",
   "mimetype": "text/x-python",
   "name": "python",
   "nbconvert_exporter": "python",
   "pygments_lexer": "ipython3",
   "version": "3.12.0"
  },
  "orig_nbformat": 4
 },
 "nbformat": 4,
 "nbformat_minor": 2
}
