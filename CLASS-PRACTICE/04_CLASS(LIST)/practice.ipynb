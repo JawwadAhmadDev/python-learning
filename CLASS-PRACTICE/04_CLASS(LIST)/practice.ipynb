{
 "cells": [
  {
   "cell_type": "markdown",
   "metadata": {},
   "source": [
    "# Array initialization and printing array"
   ]
  },
  {
   "cell_type": "code",
   "execution_count": 1,
   "metadata": {},
   "outputs": [
    {
     "name": "stdout",
     "output_type": "stream",
     "text": [
      "['Jawwad Ahmad', 'Hammad Ahmad', 'Afnan Akram']\n"
     ]
    }
   ],
   "source": [
    "names : list[str]\n",
    "names = [\"Jawwad Ahmad\", \"Hammad Ahmad\", \"Afnan Akram\"]\n",
    "print(names)"
   ]
  },
  {
   "cell_type": "markdown",
   "metadata": {},
   "source": [
    "# Accessing elements of the array"
   ]
  },
  {
   "cell_type": "code",
   "execution_count": 6,
   "metadata": {},
   "outputs": [
    {
     "name": "stdout",
     "output_type": "stream",
     "text": [
      "Jawwad Ahmad\n",
      "Hammad Ahmad\n",
      "Afnan Akram\n",
      "Afnan Akram\n",
      "Hammad Ahmad\n",
      "Jawwad Ahmad\n"
     ]
    }
   ],
   "source": [
    "names : list[str]\n",
    "    # ->         0               1             2\n",
    "names = [\"Jawwad Ahmad\", \"Hammad Ahmad\", \"Afnan Akram\"]\n",
    "    # <-         -3              -2            -1   \n",
    "print(names[0])\n",
    "print(names[1])\n",
    "print(names[2])\n",
    "\n",
    "# Accessing by negative value\n",
    "print(names[-1]) # \n",
    "print(names[-2])\n",
    "print(names[-3])\n"
   ]
  },
  {
   "cell_type": "markdown",
   "metadata": {},
   "source": [
    "# Converting from string to array\n",
    "## list() method is used to convert from string to array"
   ]
  },
  {
   "cell_type": "code",
   "execution_count": 2,
   "metadata": {},
   "outputs": [
    {
     "name": "stdout",
     "output_type": "stream",
     "text": [
      "['A', 'B', 'C', 'D', 'E', 'F', 'G', 'H', 'I', 'J', 'K', 'L', 'M', 'N', 'O', 'P', 'Q', 'R', 'S', 'T', 'U', 'V', 'W', 'X', 'Y', 'Z']\n"
     ]
    }
   ],
   "source": [
    "characters : str = \"ABCDEFGHIJKLMNOPQRSTUVWXYZ\"\n",
    "characters_array : list[chr] = list(characters)\n",
    "\n",
    "print(characters_array) \n"
   ]
  },
  {
   "cell_type": "markdown",
   "metadata": {},
   "source": [
    "# Slicing"
   ]
  },
  {
   "cell_type": "code",
   "execution_count": 18,
   "metadata": {},
   "outputs": [
    {
     "name": "stdout",
     "output_type": "stream",
     "text": [
      "['A', 'B']\n",
      "['A', 'B']\n",
      "['A', 'B', 'C', 'D', 'E', 'F']\n",
      "['A', 'B', 'C', 'D', 'E', 'F', 'G', 'H', 'I', 'J', 'K', 'L', 'M', 'N', 'O', 'P', 'Q', 'R', 'S', 'T', 'U', 'V', 'W', 'X', 'Y', 'Z']\n",
      "['C', 'D', 'E']\n",
      "['A', 'C', 'E', 'G', 'I', 'K', 'M', 'O', 'Q', 'S', 'U', 'W', 'Y']\n",
      "['B', 'D', 'F']\n"
     ]
    }
   ],
   "source": [
    "print(characters_array[0:2]) # first 2 elements by positive\n",
    "print(characters_array[-26:-24]) # first 2 elements by negative\n",
    "print(characters_array[:6])  # first six elements\n",
    "print(characters_array[:]) # printing all elements\n",
    "print(characters_array[2:5]) # 3rd element to 5th element\n",
    "print(characters_array[::2]) # all elements by gapping 1\n",
    "print(characters_array[1:-20]) "
   ]
  },
  {
   "cell_type": "markdown",
   "metadata": {},
   "source": [
    "## displaying from left to right"
   ]
  },
  {
   "cell_type": "code",
   "execution_count": 20,
   "metadata": {},
   "outputs": [
    {
     "name": "stdout",
     "output_type": "stream",
     "text": [
      "['A', 'B', 'C', 'D', 'E']\n",
      "['A', 'B', 'C']\n"
     ]
    }
   ],
   "source": [
    "# to display from left to right we have to add +ve at the third place of slicing i.e. [0:5:1]\n",
    "# by default it is positive and direction is left to right\n",
    "\n",
    "print(characters_array[0:5:])\n",
    "print(characters_array[-26:-23:])"
   ]
  },
  {
   "cell_type": "markdown",
   "metadata": {},
   "source": [
    "## displaying from right to left"
   ]
  },
  {
   "cell_type": "code",
   "execution_count": 30,
   "metadata": {},
   "outputs": [
    {
     "name": "stdout",
     "output_type": "stream",
     "text": [
      "['F', 'E', 'D', 'C', 'B']\n",
      "['D', 'C', 'B', 'A']\n"
     ]
    }
   ],
   "source": [
    "# to display from left to right we have to add -ve at the third place of slicing i.e. [0:5:-1]\n",
    "# postive number ->\n",
    "# negative number <-\n",
    "print(characters_array[5:0:-1])\n",
    "print(characters_array[-23:-27:-1])"
   ]
  },
  {
   "cell_type": "markdown",
   "metadata": {},
   "source": [
    "# List Methods"
   ]
  },
  {
   "cell_type": "code",
   "execution_count": null,
   "metadata": {},
   "outputs": [],
   "source": [
    "display([i for i in dir(list) if \"__\" not in i])"
   ]
  }
 ],
 "metadata": {
  "kernelspec": {
   "display_name": "py12",
   "language": "python",
   "name": "python3"
  },
  "language_info": {
   "codemirror_mode": {
    "name": "ipython",
    "version": 3
   },
   "file_extension": ".py",
   "mimetype": "text/x-python",
   "name": "python",
   "nbconvert_exporter": "python",
   "pygments_lexer": "ipython3",
   "version": "3.11.5"
  },
  "orig_nbformat": 4
 },
 "nbformat": 4,
 "nbformat_minor": 2
}
