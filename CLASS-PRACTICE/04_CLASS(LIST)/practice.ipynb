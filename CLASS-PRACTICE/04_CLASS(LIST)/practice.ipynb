{
 "cells": [
  {
   "cell_type": "markdown",
   "metadata": {},
   "source": [
    "# Array initialization and printing array"
   ]
  },
  {
   "cell_type": "code",
   "execution_count": 1,
   "metadata": {},
   "outputs": [
    {
     "name": "stdout",
     "output_type": "stream",
     "text": [
      "['Jawwad Ahmad', 'Hammad Ahmad', 'Afnan Akram']\n"
     ]
    }
   ],
   "source": [
    "names : list[str]\n",
    "names = [\"Jawwad Ahmad\", \"Hammad Ahmad\", \"Afnan Akram\"]\n",
    "print(names)"
   ]
  },
  {
   "cell_type": "markdown",
   "metadata": {},
   "source": [
    "# Accessing elements of the array"
   ]
  },
  {
   "cell_type": "code",
   "execution_count": 6,
   "metadata": {},
   "outputs": [
    {
     "name": "stdout",
     "output_type": "stream",
     "text": [
      "Jawwad Ahmad\n",
      "Hammad Ahmad\n",
      "Afnan Akram\n",
      "Afnan Akram\n",
      "Hammad Ahmad\n",
      "Jawwad Ahmad\n"
     ]
    }
   ],
   "source": [
    "names : list[str]\n",
    "    # ->         0               1             2\n",
    "names = [\"Jawwad Ahmad\", \"Hammad Ahmad\", \"Afnan Akram\"]\n",
    "    # <-         -3              -2            -1   \n",
    "print(names[0])\n",
    "print(names[1])\n",
    "print(names[2])\n",
    "\n",
    "# Accessing by negative value\n",
    "print(names[-1]) # \n",
    "print(names[-2])\n",
    "print(names[-3])\n"
   ]
  },
  {
   "cell_type": "markdown",
   "metadata": {},
   "source": [
    "# Converting from string to array\n",
    "## list() method is used to convert from string to array"
   ]
  },
  {
   "cell_type": "code",
   "execution_count": 2,
   "metadata": {},
   "outputs": [
    {
     "name": "stdout",
     "output_type": "stream",
     "text": [
      "['A', 'B', 'C', 'D', 'E', 'F', 'G', 'H', 'I', 'J', 'K', 'L', 'M', 'N', 'O', 'P', 'Q', 'R', 'S', 'T', 'U', 'V', 'W', 'X', 'Y', 'Z']\n"
     ]
    }
   ],
   "source": [
    "characters : str = \"ABCDEFGHIJKLMNOPQRSTUVWXYZ\"\n",
    "characters_array : list[chr] = list(characters)\n",
    "\n",
    "print(characters_array) \n"
   ]
  },
  {
   "cell_type": "markdown",
   "metadata": {},
   "source": [
    "# Slicing"
   ]
  },
  {
   "cell_type": "code",
   "execution_count": 18,
   "metadata": {},
   "outputs": [
    {
     "name": "stdout",
     "output_type": "stream",
     "text": [
      "['A', 'B']\n",
      "['A', 'B']\n",
      "['A', 'B', 'C', 'D', 'E', 'F']\n",
      "['A', 'B', 'C', 'D', 'E', 'F', 'G', 'H', 'I', 'J', 'K', 'L', 'M', 'N', 'O', 'P', 'Q', 'R', 'S', 'T', 'U', 'V', 'W', 'X', 'Y', 'Z']\n",
      "['C', 'D', 'E']\n",
      "['A', 'C', 'E', 'G', 'I', 'K', 'M', 'O', 'Q', 'S', 'U', 'W', 'Y']\n",
      "['B', 'D', 'F']\n"
     ]
    }
   ],
   "source": [
    "print(characters_array[0:2]) # first 2 elements by positive\n",
    "print(characters_array[-26:-24]) # first 2 elements by negative\n",
    "print(characters_array[:6])  # first six elements\n",
    "print(characters_array[:]) # printing all elements\n",
    "print(characters_array[2:5]) # 3rd element to 5th element\n",
    "print(characters_array[::2]) # all elements by gapping 1\n",
    "print(characters_array[1:-20]) "
   ]
  },
  {
   "cell_type": "markdown",
   "metadata": {},
   "source": [
    "## displaying from left to right"
   ]
  },
  {
   "cell_type": "code",
   "execution_count": 20,
   "metadata": {},
   "outputs": [
    {
     "name": "stdout",
     "output_type": "stream",
     "text": [
      "['A', 'B', 'C', 'D', 'E']\n",
      "['A', 'B', 'C']\n"
     ]
    }
   ],
   "source": [
    "# to display from left to right we have to add +ve at the third place of slicing i.e. [0:5:1]\n",
    "# by default it is positive and direction is left to right\n",
    "\n",
    "print(characters_array[0:5:])\n",
    "print(characters_array[-26:-23:])"
   ]
  },
  {
   "cell_type": "markdown",
   "metadata": {},
   "source": [
    "## displaying from right to left"
   ]
  },
  {
   "cell_type": "code",
   "execution_count": 30,
   "metadata": {},
   "outputs": [
    {
     "name": "stdout",
     "output_type": "stream",
     "text": [
      "['F', 'E', 'D', 'C', 'B']\n",
      "['D', 'C', 'B', 'A']\n"
     ]
    }
   ],
   "source": [
    "# to display from left to right we have to add -ve at the third place of slicing i.e. [0:5:-1]\n",
    "# postive number ->\n",
    "# negative number <-\n",
    "print(characters_array[5:0:-1])\n",
    "print(characters_array[-23:-27:-1])"
   ]
  },
  {
   "cell_type": "markdown",
   "metadata": {},
   "source": [
    "# List Methods"
   ]
  },
  {
   "cell_type": "code",
   "execution_count": 31,
   "metadata": {},
   "outputs": [
    {
     "data": {
      "text/plain": [
       "['append',\n",
       " 'clear',\n",
       " 'copy',\n",
       " 'count',\n",
       " 'extend',\n",
       " 'index',\n",
       " 'insert',\n",
       " 'pop',\n",
       " 'remove',\n",
       " 'reverse',\n",
       " 'sort']"
      ]
     },
     "metadata": {},
     "output_type": "display_data"
    }
   ],
   "source": [
    "display([i for i in dir(list) if \"__\" not in i])"
   ]
  },
  {
   "cell_type": "markdown",
   "metadata": {},
   "source": [
    "## Delition of list"
   ]
  },
  {
   "cell_type": "code",
   "execution_count": 39,
   "metadata": {},
   "outputs": [
    {
     "name": "stdout",
     "output_type": "stream",
     "text": [
      "Before deletion: ['A', 'B', 'C', 'D', True, 'Jawwad']\n"
     ]
    },
    {
     "ename": "NameError",
     "evalue": "name 'list_of_characters' is not defined",
     "output_type": "error",
     "traceback": [
      "\u001b[0;31m---------------------------------------------------------------------------\u001b[0m",
      "\u001b[0;31mNameError\u001b[0m                                 Traceback (most recent call last)",
      "\u001b[1;32m/home/jawwad/Documents/GitHub/python-learning/CLASS-PRACTICE/04_CLASS(LIST)/practice.ipynb Cell 16\u001b[0m line \u001b[0;36m6\n\u001b[1;32m      <a href='vscode-notebook-cell:/home/jawwad/Documents/GitHub/python-learning/CLASS-PRACTICE/04_CLASS%28LIST%29/practice.ipynb#X21sZmlsZQ%3D%3D?line=2'>3</a>\u001b[0m \u001b[39mprint\u001b[39m(\u001b[39mf\u001b[39m\u001b[39m\"\u001b[39m\u001b[39mBefore deletion: \u001b[39m\u001b[39m{\u001b[39;00mlist_of_characters\u001b[39m}\u001b[39;00m\u001b[39m\"\u001b[39m)\n\u001b[1;32m      <a href='vscode-notebook-cell:/home/jawwad/Documents/GitHub/python-learning/CLASS-PRACTICE/04_CLASS%28LIST%29/practice.ipynb#X21sZmlsZQ%3D%3D?line=4'>5</a>\u001b[0m \u001b[39mdel\u001b[39;00m list_of_characters\n\u001b[0;32m----> <a href='vscode-notebook-cell:/home/jawwad/Documents/GitHub/python-learning/CLASS-PRACTICE/04_CLASS%28LIST%29/practice.ipynb#X21sZmlsZQ%3D%3D?line=5'>6</a>\u001b[0m \u001b[39mprint\u001b[39m(\u001b[39mf\u001b[39m\u001b[39m\"\u001b[39m\u001b[39mAfter deletion: \u001b[39m\u001b[39m{\u001b[39;00mlist_of_characters\u001b[39m}\u001b[39;00m\u001b[39m\"\u001b[39m)\n",
      "\u001b[0;31mNameError\u001b[0m: name 'list_of_characters' is not defined"
     ]
    }
   ],
   "source": [
    "# this will delete object itself\n",
    "list_of_characters = ['A', 'B', 'C', 'D', True, \"Jawwad\"]\n",
    "print(f\"Before deletion: {list_of_characters}\")\n",
    "\n",
    "del list_of_characters\n",
    "print(f\"After deletion: {list_of_characters}\")"
   ]
  },
  {
   "cell_type": "code",
   "execution_count": 35,
   "metadata": {},
   "outputs": [
    {
     "name": "stdout",
     "output_type": "stream",
     "text": [
      "[]\n"
     ]
    }
   ],
   "source": [
    "# Possible way to delete all the array elements\n",
    "list_of_characters = ['A', 'B', 'C', 'D', True, \"Jawwad\"]\n",
    "list_of_characters.clear()\n",
    "print(list_of_characters)"
   ]
  },
  {
   "cell_type": "markdown",
   "metadata": {},
   "source": [
    "## Deletion of member of list"
   ]
  },
  {
   "cell_type": "code",
   "execution_count": 38,
   "metadata": {},
   "outputs": [
    {
     "name": "stdout",
     "output_type": "stream",
     "text": [
      "Before deletion: ['jawwad', 'hammad', 'sufyan', 'talha']\n",
      "After deletion: ['jawwad', 'sufyan', 'talha']\n"
     ]
    }
   ],
   "source": [
    "# using del keyword\n",
    "# using del keyword will delete element from the memory\n",
    "names: list[str] = [\"jawwad\", \"hammad\", \"sufyan\", \"talha\"]\n",
    "print(f\"Before deletion: {names}\")\n",
    "\n",
    "del names[1]\n",
    "print(f\"After deletion: {names}\")"
   ]
  },
  {
   "cell_type": "markdown",
   "metadata": {},
   "source": [
    "## Deletion of element using pop() method"
   ]
  },
  {
   "cell_type": "code",
   "execution_count": 40,
   "metadata": {},
   "outputs": [
    {
     "name": "stdout",
     "output_type": "stream",
     "text": [
      "Before deletion: ['jawwad', 'hammad', 'sufyan', 'talha']\n",
      "Deleted Element: talha\n",
      "After deletion: ['jawwad', 'hammad', 'sufyan']\n"
     ]
    }
   ],
   "source": [
    "names: list[str] = [\"jawwad\", \"hammad\", \"sufyan\", \"talha\"]\n",
    "print(f\"Before deletion: {names}\")\n",
    "\n",
    "# Two variants of pop\n",
    "# 1st without parameter\n",
    "deleted_element = names.pop()\n",
    "print(f\"Deleted Element: {deleted_element}\")\n",
    "print(f\"After deletion: {names}\")"
   ]
  },
  {
   "cell_type": "code",
   "execution_count": 41,
   "metadata": {},
   "outputs": [
    {
     "name": "stdout",
     "output_type": "stream",
     "text": [
      "Before deletion: ['jawwad', 'hammad', 'sufyan', 'talha']\n",
      "After deletion: ['jawwad', 'hammad', 'talha']\n"
     ]
    }
   ],
   "source": [
    "# 2nd with parameter (deletion from specific index)\n",
    "names: list[str] = [\"jawwad\", \"hammad\", \"sufyan\", \"talha\"]\n",
    "print(f\"Before deletion: {names}\")\n",
    "deleted_element: str = names.pop(2)\n",
    "print(f\"After deletion: {names}\")"
   ]
  },
  {
   "cell_type": "code",
   "execution_count": 42,
   "metadata": {},
   "outputs": [
    {
     "name": "stdout",
     "output_type": "stream",
     "text": [
      "Before deletion: ['jawwad', 'hammad', 'sufyan', 'talha']\n"
     ]
    },
    {
     "ename": "IndexError",
     "evalue": "pop index out of range",
     "output_type": "error",
     "traceback": [
      "\u001b[0;31m---------------------------------------------------------------------------\u001b[0m",
      "\u001b[0;31mIndexError\u001b[0m                                Traceback (most recent call last)",
      "\u001b[1;32m/home/jawwad/Documents/GitHub/python-learning/CLASS-PRACTICE/04_CLASS(LIST)/practice.ipynb Cell 23\u001b[0m line \u001b[0;36m4\n\u001b[1;32m      <a href='vscode-notebook-cell:/home/jawwad/Documents/GitHub/python-learning/CLASS-PRACTICE/04_CLASS%28LIST%29/practice.ipynb#X31sZmlsZQ%3D%3D?line=1'>2</a>\u001b[0m names: \u001b[39mlist\u001b[39m[\u001b[39mstr\u001b[39m] \u001b[39m=\u001b[39m [\u001b[39m\"\u001b[39m\u001b[39mjawwad\u001b[39m\u001b[39m\"\u001b[39m, \u001b[39m\"\u001b[39m\u001b[39mhammad\u001b[39m\u001b[39m\"\u001b[39m, \u001b[39m\"\u001b[39m\u001b[39msufyan\u001b[39m\u001b[39m\"\u001b[39m, \u001b[39m\"\u001b[39m\u001b[39mtalha\u001b[39m\u001b[39m\"\u001b[39m]\n\u001b[1;32m      <a href='vscode-notebook-cell:/home/jawwad/Documents/GitHub/python-learning/CLASS-PRACTICE/04_CLASS%28LIST%29/practice.ipynb#X31sZmlsZQ%3D%3D?line=2'>3</a>\u001b[0m \u001b[39mprint\u001b[39m(\u001b[39mf\u001b[39m\u001b[39m\"\u001b[39m\u001b[39mBefore deletion: \u001b[39m\u001b[39m{\u001b[39;00mnames\u001b[39m}\u001b[39;00m\u001b[39m\"\u001b[39m)\n\u001b[0;32m----> <a href='vscode-notebook-cell:/home/jawwad/Documents/GitHub/python-learning/CLASS-PRACTICE/04_CLASS%28LIST%29/practice.ipynb#X31sZmlsZQ%3D%3D?line=3'>4</a>\u001b[0m deleted_element: \u001b[39mstr\u001b[39m \u001b[39m=\u001b[39m names\u001b[39m.\u001b[39mpop(\u001b[39m6\u001b[39m)\n\u001b[1;32m      <a href='vscode-notebook-cell:/home/jawwad/Documents/GitHub/python-learning/CLASS-PRACTICE/04_CLASS%28LIST%29/practice.ipynb#X31sZmlsZQ%3D%3D?line=4'>5</a>\u001b[0m \u001b[39mprint\u001b[39m(\u001b[39mf\u001b[39m\u001b[39m\"\u001b[39m\u001b[39mAfter deletion: \u001b[39m\u001b[39m{\u001b[39;00mnames\u001b[39m}\u001b[39;00m\u001b[39m\"\u001b[39m)\n",
      "\u001b[0;31mIndexError\u001b[0m: pop index out of range"
     ]
    }
   ],
   "source": [
    "# Deleting index which not exist using pop method\n",
    "names: list[str] = [\"jawwad\", \"hammad\", \"sufyan\", \"talha\"]\n",
    "print(f\"Before deletion: {names}\")\n",
    "deleted_element: str = names.pop(6)\n",
    "print(f\"After deletion: {names}\")"
   ]
  },
  {
   "cell_type": "markdown",
   "metadata": {},
   "source": [
    "## Deletion of element using remove method\n",
    "### We can delete specific element from array using remove() method\n",
    "### It will delete first occurence of the parametered value from the list"
   ]
  },
  {
   "cell_type": "code",
   "execution_count": 16,
   "metadata": {},
   "outputs": [
    {
     "name": "stdout",
     "output_type": "stream",
     "text": [
      "Before removing: ['jawwad', 'hammad', 'sufyan', 'talha', 'jawwad']\n",
      "After removing: ['hammad', 'sufyan', 'talha', 'jawwad']\n"
     ]
    }
   ],
   "source": [
    "names: list[str] = [\"jawwad\", \"hammad\", \"sufyan\", \"talha\", \"jawwad\"]\n",
    "print(f\"Before removing: {names}\")\n",
    "\n",
    "names.remove(\"jawwad\")\n",
    "\n",
    "print(f\"After removing: {names}\")"
   ]
  },
  {
   "cell_type": "markdown",
   "metadata": {},
   "source": [
    "## Inserting element in the array"
   ]
  },
  {
   "cell_type": "markdown",
   "metadata": {},
   "source": [
    "### Insertion using append() method\n",
    "### using append() method element can be inserted at the last of the list"
   ]
  },
  {
   "cell_type": "code",
   "execution_count": 2,
   "metadata": {},
   "outputs": [
    {
     "name": "stdout",
     "output_type": "stream",
     "text": [
      "Before insertion: ['jawwad', 'hammad', 'sufyan', 'abdullah']\n",
      "After insertion: ['jawwad', 'hammad', 'sufyan', 'abdullah', 'Zeeshan']\n"
     ]
    }
   ],
   "source": [
    "names: list[str] = [\"jawwad\", \"hammad\", \"sufyan\", \"abdullah\"]\n",
    "print(f\"Before insertion: {names}\")\n",
    "\n",
    "names.append(\"Zeeshan\")\n",
    "print(f\"After insertion: {names}\")"
   ]
  },
  {
   "cell_type": "markdown",
   "metadata": {},
   "source": [
    "### using insert method\n",
    "### We can insert element at any place using insert method"
   ]
  },
  {
   "cell_type": "code",
   "execution_count": 8,
   "metadata": {},
   "outputs": [
    {
     "name": "stdout",
     "output_type": "stream",
     "text": [
      "Before insertion: ['jawwad', 'hammad', 'sufyan', 'abdullah']\n",
      "After insertion: ['jawwad', 'hammad', 'sufyan', 'zeeshan', 'abdullah']\n"
     ]
    }
   ],
   "source": [
    "names: list[str] = [\"jawwad\", \"hammad\", \"sufyan\", \"abdullah\"]\n",
    "print(f\"Before insertion: {names}\")\n",
    "\n",
    "names.insert(3, \"zeeshan\")\n",
    "\n",
    "print(f\"After insertion: {names}\")"
   ]
  },
  {
   "cell_type": "markdown",
   "metadata": {},
   "source": [
    "## Copying list"
   ]
  },
  {
   "cell_type": "markdown",
   "metadata": {},
   "source": [
    "### Deep copy"
   ]
  },
  {
   "cell_type": "code",
   "execution_count": 10,
   "metadata": {},
   "outputs": [
    {
     "name": "stdout",
     "output_type": "stream",
     "text": [
      "Before changing: ['jawwad', 'hammad', 'sufyan', 'abdullah']\n",
      "After changing: ['jawwad', 'hammad', 'sufyan']\n"
     ]
    }
   ],
   "source": [
    "names: list[str] = [\"jawwad\", \"hammad\", \"sufyan\", \"abdullah\"]\n",
    "print(f\"First list before changing: {names}\")\n",
    "\n",
    "new_names: list[str]\n",
    "new_names = names   # deep copy\n",
    "\n",
    "# change in the new list\n",
    "new_names.pop()\n",
    "\n",
    "print(f\"First list after changing: {names}\")\n",
    "\n",
    "# As you can see change in one list affects other"
   ]
  },
  {
   "cell_type": "markdown",
   "metadata": {},
   "source": [
    "### shallow copy"
   ]
  },
  {
   "cell_type": "code",
   "execution_count": 12,
   "metadata": {},
   "outputs": [
    {
     "name": "stdout",
     "output_type": "stream",
     "text": [
      "First list before changing: ['jawwad', 'hammad', 'sufyan', 'abdullah']\n",
      "First list after changing: ['jawwad', 'hammad', 'sufyan', 'abdullah']\n",
      "New list after changing: ['jawwad', 'hammad', 'sufyan']\n"
     ]
    }
   ],
   "source": [
    "names: list[str] = [\"jawwad\", \"hammad\", \"sufyan\", \"abdullah\"]\n",
    "print(f\"First list before changing: {names}\")\n",
    "\n",
    "new_names: list[str]\n",
    "new_names = names.copy()   # shallow copy\n",
    "\n",
    "# change in the new list\n",
    "new_names.pop()\n",
    "\n",
    "print(f\"First list after changing: {names}\")\n",
    "print(f\"New list after changing: {new_names}\")\n",
    "\n",
    "# As you can see change in one list affects other"
   ]
  },
  {
   "cell_type": "markdown",
   "metadata": {},
   "source": [
    "## Inserting one list in the other"
   ]
  },
  {
   "cell_type": "markdown",
   "metadata": {},
   "source": [
    "### insertion using append / insert method"
   ]
  },
  {
   "cell_type": "code",
   "execution_count": 14,
   "metadata": {},
   "outputs": [
    {
     "name": "stdout",
     "output_type": "stream",
     "text": [
      "numbers before insertion: [10, 20, 30, 40, 50]\n",
      "Characters: ['a', 'b', 'c', 'd']\n",
      "Numbers after insertions: [10, 20, 30, 40, 50, ['a', 'b', 'c', 'd']]\n"
     ]
    }
   ],
   "source": [
    "numbers: list[int] = [10, 20, 30, 40, 50]\n",
    "print(f\"numbers before insertion: {numbers}\")\n",
    "\n",
    "characters: list[str] = ['a', 'b', 'c', 'd']\n",
    "print(f\"Characters: {characters}\")\n",
    "\n",
    "numbers.append(characters)\n",
    "print(f\"Numbers after insertions: {numbers}\")\n",
    "\n",
    "# As you can see that list of characters is placed as an index in the numbers list"
   ]
  },
  {
   "cell_type": "markdown",
   "metadata": {},
   "source": [
    "### insertion using extend method"
   ]
  },
  {
   "cell_type": "code",
   "execution_count": 15,
   "metadata": {},
   "outputs": [
    {
     "name": "stdout",
     "output_type": "stream",
     "text": [
      "numbers before insertion: [10, 20, 30, 40, 50]\n",
      "Characters: ['a', 'b', 'c', 'd']\n",
      "Numbers after insertions: [10, 20, 30, 40, 50, 'a', 'b', 'c', 'd']\n"
     ]
    }
   ],
   "source": [
    "numbers: list[int] = [10, 20, 30, 40, 50]\n",
    "print(f\"numbers before insertion: {numbers}\")\n",
    "\n",
    "characters: list[str] = ['a', 'b', 'c', 'd']\n",
    "print(f\"Characters: {characters}\")\n",
    "\n",
    "numbers.extend  (characters)\n",
    "print(f\"Numbers after insertions: {numbers}\")\n"
   ]
  },
  {
   "cell_type": "markdown",
   "metadata": {},
   "source": [
    "## Finding index of specific index using index() method\n",
    "### This will return index of first occurence of the specific value from the list"
   ]
  },
  {
   "cell_type": "code",
   "execution_count": 18,
   "metadata": {},
   "outputs": [
    {
     "name": "stdout",
     "output_type": "stream",
     "text": [
      "Index: 1\n"
     ]
    }
   ],
   "source": [
    "characters: list[str] = ['a', 'b', 'c', 'd', 'a']\n",
    "\n",
    "index: int = characters.index(\"b\")\n",
    "\n",
    "print(f\"Index: {index}\")"
   ]
  }
 ],
 "metadata": {
  "kernelspec": {
   "display_name": "py12",
   "language": "python",
   "name": "python3"
  },
  "language_info": {
   "codemirror_mode": {
    "name": "ipython",
    "version": 3
   },
   "file_extension": ".py",
   "mimetype": "text/x-python",
   "name": "python",
   "nbconvert_exporter": "python",
   "pygments_lexer": "ipython3",
   "version": "3.11.5"
  },
  "orig_nbformat": 4
 },
 "nbformat": 4,
 "nbformat_minor": 2
}
