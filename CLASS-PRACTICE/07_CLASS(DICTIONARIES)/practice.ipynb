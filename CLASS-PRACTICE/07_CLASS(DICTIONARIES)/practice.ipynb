{
 "cells": [
  {
   "cell_type": "markdown",
   "metadata": {},
   "source": [
    "# Dictionary"
   ]
  },
  {
   "cell_type": "markdown",
   "metadata": {},
   "source": [
    "### In Python, a dictionary is a collection of items that are stored in a key-value pair format. Dictionaries are unordered, which means that the items do not have a defined order. They can be changed, meaning you can add, remove, or modify items after the dictionary has been created. Dictionaries are written with curly brackets {}, containing keys and values."
   ]
  },
  {
   "cell_type": "markdown",
   "metadata": {},
   "source": [
    "## Creating a Dictionary"
   ]
  },
  {
   "cell_type": "code",
   "execution_count": 2,
   "metadata": {},
   "outputs": [
    {
     "name": "stdout",
     "output_type": "stream",
     "text": [
      "{'name': 'Jawwad Ahmad', 'father_name': 'Abdul Jabbar', 'age': 26, 'height': 1.8, 'married': False}\n"
     ]
    }
   ],
   "source": [
    "from typing import Dict, Union\n",
    "\n",
    "# custom types\n",
    "Key = str\n",
    "Value = Union[int, str, float, list, dict, tuple, set, bool] \n",
    "\n",
    "my_dict: Dict[Key, Value] = {\n",
    "    \"name\" : \"Jawwad Ahmad\",\n",
    "    \"father_name\" : \"Abdul Jabbar\",\n",
    "    \"age\" : 26,\n",
    "    \"height\" : 1.80,\n",
    "    \"married\" : False,\n",
    "}\n",
    "\n",
    "print(my_dict)"
   ]
  },
  {
   "cell_type": "markdown",
   "metadata": {},
   "source": [
    "## Accessing Elements\n",
    "You can access the items of a dictionary by referring to its key name."
   ]
  },
  {
   "cell_type": "code",
   "execution_count": 2,
   "metadata": {},
   "outputs": [
    {
     "name": "stdout",
     "output_type": "stream",
     "text": [
      "Jawwad Ahmad\n",
      "Abdul Jabbar\n",
      "1.8\n",
      "26\n"
     ]
    }
   ],
   "source": [
    "from typing import Dict, Union\n",
    "\n",
    "# custom types\n",
    "Key = str\n",
    "Value = Union[int, str, float, list, dict, tuple, set, bool] \n",
    "\n",
    "my_dict: Dict[Key, Value] = {\n",
    "    \"name\" : \"Jawwad Ahmad\",\n",
    "    \"father_name\" : \"Abdul Jabbar\",\n",
    "    \"age\" : 26,\n",
    "    \"height\" : 1.80,\n",
    "    \"married\" : False,\n",
    "}\n",
    "\n",
    "print(my_dict[\"name\"])\n",
    "print(my_dict[\"father_name\"])\n",
    "print(my_dict[\"height\"]) \n",
    "print(my_dict[\"age\"]) "
   ]
  },
  {
   "cell_type": "code",
   "execution_count": 3,
   "metadata": {},
   "outputs": [
    {
     "name": "stdout",
     "output_type": "stream",
     "text": [
      "Jawwad Ahmad\n",
      "Abdul Jabbar\n",
      "1.8\n",
      "26\n",
      "hello\n"
     ]
    }
   ],
   "source": [
    "from typing import Dict, Union\n",
    "\n",
    "# custom types\n",
    "Key = str | int\n",
    "Value = Union[int, str, float, list, dict, tuple, set, bool] \n",
    "\n",
    "my_dict: Dict[Key, Value] = {\n",
    "    \"name\" : \"Jawwad Ahmad\",\n",
    "    \"father_name\" : \"Abdul Jabbar\",\n",
    "    \"age\" : 26,\n",
    "    \"height\" : 1.80,\n",
    "    \"married\" : False,\n",
    "    1 : \"hello\" \n",
    "}\n",
    "\n",
    "print(my_dict[\"name\"])\n",
    "print(my_dict[\"father_name\"])\n",
    "print(my_dict[\"height\"]) \n",
    "print(my_dict[\"age\"]) \n",
    "print(my_dict[1])  # accessing element using integer key"
   ]
  },
  {
   "cell_type": "markdown",
   "metadata": {},
   "source": [
    "### Accessing value which is not in the dictionary"
   ]
  },
  {
   "cell_type": "code",
   "execution_count": 4,
   "metadata": {},
   "outputs": [
    {
     "ename": "KeyError",
     "evalue": "100",
     "output_type": "error",
     "traceback": [
      "\u001b[1;31m---------------------------------------------------------------------------\u001b[0m",
      "\u001b[1;31mKeyError\u001b[0m                                  Traceback (most recent call last)",
      "Cell \u001b[1;32mIn[4], line 16\u001b[0m\n\u001b[0;32m      5\u001b[0m Value \u001b[38;5;241m=\u001b[39m Union[\u001b[38;5;28mint\u001b[39m, \u001b[38;5;28mstr\u001b[39m, \u001b[38;5;28mfloat\u001b[39m, \u001b[38;5;28mlist\u001b[39m, \u001b[38;5;28mdict\u001b[39m, \u001b[38;5;28mtuple\u001b[39m, \u001b[38;5;28mset\u001b[39m, \u001b[38;5;28mbool\u001b[39m] \n\u001b[0;32m      7\u001b[0m my_dict: Dict[Key, Value] \u001b[38;5;241m=\u001b[39m {\n\u001b[0;32m      8\u001b[0m     \u001b[38;5;124m\"\u001b[39m\u001b[38;5;124mname\u001b[39m\u001b[38;5;124m\"\u001b[39m : \u001b[38;5;124m\"\u001b[39m\u001b[38;5;124mJawwad Ahmad\u001b[39m\u001b[38;5;124m\"\u001b[39m,\n\u001b[0;32m      9\u001b[0m     \u001b[38;5;124m\"\u001b[39m\u001b[38;5;124mfather_name\u001b[39m\u001b[38;5;124m\"\u001b[39m : \u001b[38;5;124m\"\u001b[39m\u001b[38;5;124mAbdul Jabbar\u001b[39m\u001b[38;5;124m\"\u001b[39m,\n\u001b[1;32m   (...)\u001b[0m\n\u001b[0;32m     13\u001b[0m     \u001b[38;5;241m1\u001b[39m : \u001b[38;5;124m\"\u001b[39m\u001b[38;5;124mhello\u001b[39m\u001b[38;5;124m\"\u001b[39m \n\u001b[0;32m     14\u001b[0m }\n\u001b[1;32m---> 16\u001b[0m \u001b[38;5;28mprint\u001b[39m(\u001b[43mmy_dict\u001b[49m\u001b[43m[\u001b[49m\u001b[38;5;241;43m100\u001b[39;49m\u001b[43m]\u001b[49m)  \u001b[38;5;66;03m# accessing element using integer key\u001b[39;00m\n",
      "\u001b[1;31mKeyError\u001b[0m: 100"
     ]
    }
   ],
   "source": [
    "from typing import Dict, Union\n",
    "\n",
    "# custom types\n",
    "Key = str | int\n",
    "Value = Union[int, str, float, list, dict, tuple, set, bool] \n",
    "\n",
    "my_dict: Dict[Key, Value] = {\n",
    "    \"name\" : \"Jawwad Ahmad\",\n",
    "    \"father_name\" : \"Abdul Jabbar\",\n",
    "    \"age\" : 26,\n",
    "    \"height\" : 1.80,\n",
    "    \"married\" : False,\n",
    "    1 : \"hello\" \n",
    "}\n",
    "\n",
    "print(my_dict[100])  # accessing element using integer key"
   ]
  },
  {
   "cell_type": "markdown",
   "metadata": {},
   "source": [
    "### Using get() to Access Values"
   ]
  },
  {
   "cell_type": "markdown",
   "metadata": {},
   "source": [
    "- Using keys in square brackets to retrieve the value you’re interested in from a\n",
    "dictionary might cause one potential problem: if the key you ask for doesn’t\n",
    "exist, you’ll get an error."
   ]
  },
  {
   "cell_type": "markdown",
   "metadata": {},
   "source": [
    "- default value that will be returned if the requested key doesn’t exist.\n",
    "The get() method requires a key as a first argument. As a second optional\n",
    "argument, you can pass the value to be returned if the key doesn’t exist"
   ]
  },
  {
   "cell_type": "code",
   "execution_count": 15,
   "metadata": {},
   "outputs": [
    {
     "name": "stdout",
     "output_type": "stream",
     "text": [
      "Jawwad Ahmad\n",
      "None\n",
      "Qualification not exist in the dictionary\n"
     ]
    }
   ],
   "source": [
    "from typing import Dict, Union\n",
    "\n",
    "# custom types\n",
    "Key = str | int\n",
    "Value = Union[int, str, float, list, dict, tuple, set, bool] \n",
    "\n",
    "my_dict: Dict[Key, Value] = {\n",
    "    \"name\" : \"Jawwad Ahmad\",\n",
    "    \"father_name\" : \"Abdul Jabbar\",\n",
    "    \"age\" : 26 \n",
    "}\n",
    "\n",
    "# accessing element using get which exists\n",
    "print(my_dict.get(\"name\"))\n",
    "\n",
    "# accessing element using get which doesn't exist\n",
    "print(my_dict.get(\"qualification\")) # it will return None if it doesn't exist\n",
    "\n",
    "# accessing element using get which doesn't exist and printing custom error\n",
    "print(my_dict.get(\"qualification\", \"Qualification not exist in the dictionary\")) "
   ]
  },
  {
   "cell_type": "markdown",
   "metadata": {},
   "source": [
    "## Adding or Modifying Items\n",
    "Dictionaries are mutable. You can add new items or change the value of existing items using assignment operator =."
   ]
  },
  {
   "cell_type": "code",
   "execution_count": 8,
   "metadata": {},
   "outputs": [
    {
     "name": "stdout",
     "output_type": "stream",
     "text": [
      "Before: {'name': 'Jawwad Ahmad', 'father_name': 'Abdul Jabbar', 'age': 26, 'height': 1.8, 'married': False, 1: 'hello'}\n",
      "After: {'name': 'Hammad Ahmad', 'father_name': 'Abdul Jabbar', 'age': 26, 'height': 1.8, 'married': False, 1: 'hello'}\n",
      "(\"Before: {'name': 'Hammad Ahmad', 'father_name': 'Abdul Jabbar', 'age': 26, \"\n",
      " \"'height': 1.8, 'married': False, 1: 'hello'}\")\n",
      "(\"After: {'name': 'Hammad Ahmad', 'father_name': 'Abdul Jabbar', 'age': 26, \"\n",
      " \"'height': 1.8, 'married': False, 1: 'hello', 'qualification': 'BS'}\")\n"
     ]
    }
   ],
   "source": [
    "from typing import Dict, Union\n",
    "import pprint\n",
    "\n",
    "# custom types\n",
    "Key = str | int\n",
    "Value = Union[int, str, float, list, dict, tuple, set, bool] \n",
    "\n",
    "my_dict: Dict[Key, Value] = {\n",
    "    \"name\" : \"Jawwad Ahmad\",\n",
    "    \"father_name\" : \"Abdul Jabbar\",\n",
    "    \"age\" : 26,\n",
    "    \"height\" : 1.80,\n",
    "    \"married\" : False,\n",
    "    1 : \"hello\" \n",
    "}\n",
    "\n",
    "# updating / modifying the data\n",
    "print(f\"Before: {my_dict}\")\n",
    "my_dict[\"name\"] = \"Hammad Ahmad\"\n",
    "print(f\"After: {my_dict}\")\n",
    "\n",
    "\n",
    "# adding new elements to the data\n",
    "pprint.pprint(f\"Before: {my_dict}\")\n",
    "my_dict[\"qualification\"] = \"BS\" # if key not exists, it will be created\n",
    "pprint.pprint(f\"After: {my_dict}\")\n"
   ]
  },
  {
   "cell_type": "markdown",
   "metadata": {},
   "source": [
    "## Nested Dictionary"
   ]
  },
  {
   "cell_type": "code",
   "execution_count": 10,
   "metadata": {},
   "outputs": [
    {
     "name": "stdout",
     "output_type": "stream",
     "text": [
      "jawwadahmad.edu@gmail.com\n"
     ]
    }
   ],
   "source": [
    "from typing import Dict, Union\n",
    "import pprint\n",
    "\n",
    "# custom types\n",
    "Key = str | int\n",
    "Value = Union[int, str, float, list, dict, tuple, set, bool] \n",
    "\n",
    "my_dict: Dict[Key, Value] = {\n",
    "    \"name\" : \"Jawwad Ahmad\",\n",
    "    \"father_name\" : \"Abdul Jabbar\",\n",
    "    \"age\" : 26,\n",
    "    \"mails\": {\n",
    "        1: \"jawwadahmad.edu@gmail.com\", \n",
    "        2: \"jawwadahmad5858@gmail.com\"}\n",
    "}\n",
    "\n",
    "print(my_dict[\"mails\"][1])"
   ]
  },
  {
   "cell_type": "markdown",
   "metadata": {},
   "source": [
    "## Removing Items\n",
    "There are several methods to remove items from a dictionary: del, pop(), and popitem(), among others."
   ]
  },
  {
   "cell_type": "code",
   "execution_count": 11,
   "metadata": {},
   "outputs": [
    {
     "name": "stdout",
     "output_type": "stream",
     "text": [
      "{'father_name': 'Abdul Jabbar', 'age': 26, 'mails': {1: 'jawwadahmad.edu@gmail.com', 2: 'jawwadahmad5858@gmail.com'}}\n",
      "{'father_name': 'Abdul Jabbar', 'mails': {1: 'jawwadahmad.edu@gmail.com', 2: 'jawwadahmad5858@gmail.com'}}\n",
      "{'father_name': 'Abdul Jabbar'}\n"
     ]
    }
   ],
   "source": [
    "# Removing an item using del\n",
    "del my_dict['name'] # use this when there is no need of deleted element\n",
    "print(my_dict)\n",
    "\n",
    "# Removing an item using pop()\n",
    "age = my_dict.pop('age') # use this when there is need of deleted element\n",
    "print(my_dict)\n",
    "\n",
    "# Removing the last inserted item (Python 3.7+)\n",
    "item = my_dict.popitem() # use this when you want to delete last item\n",
    "print(my_dict)\n",
    "\n"
   ]
  },
  {
   "cell_type": "markdown",
   "metadata": {},
   "source": [
    "## Looping Through a Dictionary"
   ]
  },
  {
   "cell_type": "markdown",
   "metadata": {},
   "source": [
    "### Following three methods are used to iterate through a dictionary\n",
    "- keys()\n",
    "- values()\n",
    "- items()"
   ]
  },
  {
   "cell_type": "code",
   "execution_count": 18,
   "metadata": {},
   "outputs": [
    {
     "name": "stdout",
     "output_type": "stream",
     "text": [
      "Keys: dict_keys(['username', 'first', 'last'])\n",
      "Values: dict_values(['efermi', 'enrico', 'fermi'])\n",
      "Items: dict_items([('username', 'efermi'), ('first', 'enrico'), ('last', 'fermi')])\n"
     ]
    }
   ],
   "source": [
    "user_0 = {\n",
    "'username': 'efermi',\n",
    "'first': 'enrico',\n",
    "'last': 'fermi',\n",
    "}\n",
    "\n",
    "print(f\"Keys: {user_0.keys()}\")\n",
    "print(f\"Values: {user_0.values()}\")\n",
    "print(f\"Items: {user_0.items()}\")"
   ]
  },
  {
   "cell_type": "markdown",
   "metadata": {},
   "source": [
    "### Looping Through All Key-Value Pairs"
   ]
  },
  {
   "cell_type": "code",
   "execution_count": 19,
   "metadata": {},
   "outputs": [
    {
     "name": "stdout",
     "output_type": "stream",
     "text": [
      "\n",
      "Key: username\n",
      "Value: efermi\n",
      "\n",
      "Key: first\n",
      "Value: enrico\n",
      "\n",
      "Key: last\n",
      "Value: fermi\n"
     ]
    }
   ],
   "source": [
    "user_0 = {\n",
    "'username': 'efermi',\n",
    "'first': 'enrico',\n",
    "'last': 'fermi',\n",
    "}\n",
    "\n",
    "for key, value in user_0.items(): # destructuring tuple\n",
    "    print(f\"\\nKey: {key}\")\n",
    "    print(f\"Value: {value}\")"
   ]
  },
  {
   "cell_type": "markdown",
   "metadata": {},
   "source": [
    "### Comprehension method"
   ]
  },
  {
   "cell_type": "code",
   "execution_count": 23,
   "metadata": {},
   "outputs": [
    {
     "name": "stdout",
     "output_type": "stream",
     "text": [
      "{'efermi': 'username', 'enrico': 'first', 'fermi': 'last'}\n"
     ]
    }
   ],
   "source": [
    "from typing import Dict\n",
    "\n",
    "user_0 : Dict[str, str] = {\n",
    "'username': 'efermi',\n",
    "'first': 'enrico',\n",
    "'last': 'fermi',\n",
    "}\n",
    "\n",
    "new_dict: Dict[str, str] = {value: key for key, value in user_0.items()}\n",
    "\n",
    "print(new_dict)"
   ]
  },
  {
   "cell_type": "markdown",
   "metadata": {},
   "source": [
    "### Looping Through All the Keys in a Dictionary"
   ]
  }
 ],
 "metadata": {
  "kernelspec": {
   "display_name": "Python 3",
   "language": "python",
   "name": "python3"
  },
  "language_info": {
   "codemirror_mode": {
    "name": "ipython",
    "version": 3
   },
   "file_extension": ".py",
   "mimetype": "text/x-python",
   "name": "python",
   "nbconvert_exporter": "python",
   "pygments_lexer": "ipython3",
   "version": "3.12.1"
  }
 },
 "nbformat": 4,
 "nbformat_minor": 2
}
