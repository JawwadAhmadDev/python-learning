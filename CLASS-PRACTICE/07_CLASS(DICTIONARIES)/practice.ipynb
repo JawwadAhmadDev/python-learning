{
 "cells": [
  {
   "cell_type": "markdown",
   "metadata": {},
   "source": [
    "# Dictionary"
   ]
  },
  {
   "cell_type": "markdown",
   "metadata": {},
   "source": [
    "### In Python, a dictionary is a collection of items that are stored in a key-value pair format. Dictionaries are unordered, which means that the items do not have a defined order. They can be changed, meaning you can add, remove, or modify items after the dictionary has been created. Dictionaries are written with curly brackets {}, containing keys and values."
   ]
  },
  {
   "cell_type": "markdown",
   "metadata": {},
   "source": [
    "## Creating a Dictionary"
   ]
  },
  {
   "cell_type": "code",
   "execution_count": 2,
   "metadata": {},
   "outputs": [
    {
     "name": "stdout",
     "output_type": "stream",
     "text": [
      "{'name': 'Jawwad Ahmad', 'father_name': 'Abdul Jabbar', 'age': 26, 'height': 1.8, 'married': False}\n"
     ]
    }
   ],
   "source": [
    "from typing import Dict, Union\n",
    "\n",
    "# custom types\n",
    "Key = str\n",
    "Value = Union[int, str, float, list, dict, tuple, set, bool] \n",
    "\n",
    "my_dict: Dict[Key, Value] = {\n",
    "    \"name\" : \"Jawwad Ahmad\",\n",
    "    \"father_name\" : \"Abdul Jabbar\",\n",
    "    \"age\" : 26,\n",
    "    \"height\" : 1.80,\n",
    "    \"married\" : False,\n",
    "}\n",
    "\n",
    "print(my_dict)"
   ]
  },
  {
   "cell_type": "markdown",
   "metadata": {},
   "source": [
    "## Accessing Elements\n",
    "You can access the items of a dictionary by referring to its key name."
   ]
  },
  {
   "cell_type": "code",
   "execution_count": 2,
   "metadata": {},
   "outputs": [
    {
     "name": "stdout",
     "output_type": "stream",
     "text": [
      "Jawwad Ahmad\n",
      "Abdul Jabbar\n",
      "1.8\n",
      "26\n"
     ]
    }
   ],
   "source": [
    "from typing import Dict, Union\n",
    "\n",
    "# custom types\n",
    "Key = str\n",
    "Value = Union[int, str, float, list, dict, tuple, set, bool] \n",
    "\n",
    "my_dict: Dict[Key, Value] = {\n",
    "    \"name\" : \"Jawwad Ahmad\",\n",
    "    \"father_name\" : \"Abdul Jabbar\",\n",
    "    \"age\" : 26,\n",
    "    \"height\" : 1.80,\n",
    "    \"married\" : False,\n",
    "}\n",
    "\n",
    "print(my_dict[\"name\"])\n",
    "print(my_dict[\"father_name\"])\n",
    "print(my_dict[\"height\"]) \n",
    "print(my_dict[\"age\"]) "
   ]
  },
  {
   "cell_type": "code",
   "execution_count": 3,
   "metadata": {},
   "outputs": [
    {
     "name": "stdout",
     "output_type": "stream",
     "text": [
      "Jawwad Ahmad\n",
      "Abdul Jabbar\n",
      "1.8\n",
      "26\n",
      "hello\n"
     ]
    }
   ],
   "source": [
    "from typing import Dict, Union\n",
    "\n",
    "# custom types\n",
    "Key = str | int\n",
    "Value = Union[int, str, float, list, dict, tuple, set, bool] \n",
    "\n",
    "my_dict: Dict[Key, Value] = {\n",
    "    \"name\" : \"Jawwad Ahmad\",\n",
    "    \"father_name\" : \"Abdul Jabbar\",\n",
    "    \"age\" : 26,\n",
    "    \"height\" : 1.80,\n",
    "    \"married\" : False,\n",
    "    1 : \"hello\" \n",
    "}\n",
    "\n",
    "print(my_dict[\"name\"])\n",
    "print(my_dict[\"father_name\"])\n",
    "print(my_dict[\"height\"]) \n",
    "print(my_dict[\"age\"]) \n",
    "print(my_dict[1])  # accessing element using integer key"
   ]
  },
  {
   "cell_type": "markdown",
   "metadata": {},
   "source": [
    "### Accessing value which is not in the dictionary"
   ]
  },
  {
   "cell_type": "code",
   "execution_count": 4,
   "metadata": {},
   "outputs": [
    {
     "ename": "KeyError",
     "evalue": "100",
     "output_type": "error",
     "traceback": [
      "\u001b[1;31m---------------------------------------------------------------------------\u001b[0m",
      "\u001b[1;31mKeyError\u001b[0m                                  Traceback (most recent call last)",
      "Cell \u001b[1;32mIn[4], line 16\u001b[0m\n\u001b[0;32m      5\u001b[0m Value \u001b[38;5;241m=\u001b[39m Union[\u001b[38;5;28mint\u001b[39m, \u001b[38;5;28mstr\u001b[39m, \u001b[38;5;28mfloat\u001b[39m, \u001b[38;5;28mlist\u001b[39m, \u001b[38;5;28mdict\u001b[39m, \u001b[38;5;28mtuple\u001b[39m, \u001b[38;5;28mset\u001b[39m, \u001b[38;5;28mbool\u001b[39m] \n\u001b[0;32m      7\u001b[0m my_dict: Dict[Key, Value] \u001b[38;5;241m=\u001b[39m {\n\u001b[0;32m      8\u001b[0m     \u001b[38;5;124m\"\u001b[39m\u001b[38;5;124mname\u001b[39m\u001b[38;5;124m\"\u001b[39m : \u001b[38;5;124m\"\u001b[39m\u001b[38;5;124mJawwad Ahmad\u001b[39m\u001b[38;5;124m\"\u001b[39m,\n\u001b[0;32m      9\u001b[0m     \u001b[38;5;124m\"\u001b[39m\u001b[38;5;124mfather_name\u001b[39m\u001b[38;5;124m\"\u001b[39m : \u001b[38;5;124m\"\u001b[39m\u001b[38;5;124mAbdul Jabbar\u001b[39m\u001b[38;5;124m\"\u001b[39m,\n\u001b[1;32m   (...)\u001b[0m\n\u001b[0;32m     13\u001b[0m     \u001b[38;5;241m1\u001b[39m : \u001b[38;5;124m\"\u001b[39m\u001b[38;5;124mhello\u001b[39m\u001b[38;5;124m\"\u001b[39m \n\u001b[0;32m     14\u001b[0m }\n\u001b[1;32m---> 16\u001b[0m \u001b[38;5;28mprint\u001b[39m(\u001b[43mmy_dict\u001b[49m\u001b[43m[\u001b[49m\u001b[38;5;241;43m100\u001b[39;49m\u001b[43m]\u001b[49m)  \u001b[38;5;66;03m# accessing element using integer key\u001b[39;00m\n",
      "\u001b[1;31mKeyError\u001b[0m: 100"
     ]
    }
   ],
   "source": [
    "from typing import Dict, Union\n",
    "\n",
    "# custom types\n",
    "Key = str | int\n",
    "Value = Union[int, str, float, list, dict, tuple, set, bool] \n",
    "\n",
    "my_dict: Dict[Key, Value] = {\n",
    "    \"name\" : \"Jawwad Ahmad\",\n",
    "    \"father_name\" : \"Abdul Jabbar\",\n",
    "    \"age\" : 26,\n",
    "    \"height\" : 1.80,\n",
    "    \"married\" : False,\n",
    "    1 : \"hello\" \n",
    "}\n",
    "\n",
    "print(my_dict[100])  # accessing element using integer key"
   ]
  },
  {
   "cell_type": "markdown",
   "metadata": {},
   "source": [
    "### Using get() to Access Values"
   ]
  },
  {
   "cell_type": "markdown",
   "metadata": {},
   "source": [
    "- Using keys in square brackets to retrieve the value you’re interested in from a\n",
    "dictionary might cause one potential problem: if the key you ask for doesn’t\n",
    "exist, you’ll get an error."
   ]
  },
  {
   "cell_type": "markdown",
   "metadata": {},
   "source": [
    "- default value that will be returned if the requested key doesn’t exist.\n",
    "The get() method requires a key as a first argument. As a second optional\n",
    "argument, you can pass the value to be returned if the key doesn’t exist"
   ]
  },
  {
   "cell_type": "code",
   "execution_count": 15,
   "metadata": {},
   "outputs": [
    {
     "name": "stdout",
     "output_type": "stream",
     "text": [
      "Jawwad Ahmad\n",
      "None\n",
      "Qualification not exist in the dictionary\n"
     ]
    }
   ],
   "source": [
    "from typing import Dict, Union\n",
    "\n",
    "# custom types\n",
    "Key = str | int\n",
    "Value = Union[int, str, float, list, dict, tuple, set, bool] \n",
    "\n",
    "my_dict: Dict[Key, Value] = {\n",
    "    \"name\" : \"Jawwad Ahmad\",\n",
    "    \"father_name\" : \"Abdul Jabbar\",\n",
    "    \"age\" : 26 \n",
    "}\n",
    "\n",
    "# accessing element using get which exists\n",
    "print(my_dict.get(\"name\"))\n",
    "\n",
    "# accessing element using get which doesn't exist\n",
    "print(my_dict.get(\"qualification\")) # it will return None if it doesn't exist\n",
    "\n",
    "# accessing element using get which doesn't exist and printing custom error\n",
    "print(my_dict.get(\"qualification\", \"Qualification not exist in the dictionary\")) "
   ]
  },
  {
   "cell_type": "markdown",
   "metadata": {},
   "source": [
    "## All the wasy to access dictionary values"
   ]
  },
  {
   "cell_type": "code",
   "execution_count": 2,
   "metadata": {},
   "outputs": [
    {
     "name": "stdout",
     "output_type": "stream",
     "text": [
      "123\n",
      "Alice\n",
      "30\n",
      "id 123\n",
      "name Alice\n",
      "age 30\n",
      "123\n",
      "Alice\n",
      "30\n",
      "[123, 'Alice', 30]\n"
     ]
    }
   ],
   "source": [
    "data = {'id': 123, 'name': 'Alice', 'age': 30}\n",
    "\n",
    "# 1. Direct Key Access\n",
    "value = data['name']  # Accesses 'Alice'\n",
    "\n",
    "# 2. get() Method\n",
    "value = data.get('age')       # Returns 30\n",
    "value = data.get('city', 'Unknown')  # Returns 'Unknown' (default)\n",
    "\n",
    "# 3. values() Method\n",
    "for value in data.values():\n",
    "    print(value)        # Prints 123, 'Alice', 30\n",
    "\n",
    "# 4. items() Method\n",
    "for key, value in data.items():\n",
    "    print(key, value)   # Prints 'id': 123, 'name': 'Alice', 'age': 30\n",
    "\n",
    "# 5. Iteration over Keys\n",
    "for key in data:\n",
    "    value = data[key]\n",
    "    print(value)        # Prints 123, 'Alice', 30\n",
    "\n",
    "# 6. List Comprehension\n",
    "values = [data[key] for key in data]  # Creates a list: [123, 'Alice', 30]\n",
    "print(values)\n"
   ]
  },
  {
   "cell_type": "markdown",
   "metadata": {},
   "source": [
    "## Adding or Modifying Items\n",
    "Dictionaries are mutable. You can add new items or change the value of existing items using assignment operator =."
   ]
  },
  {
   "cell_type": "code",
   "execution_count": 8,
   "metadata": {},
   "outputs": [
    {
     "name": "stdout",
     "output_type": "stream",
     "text": [
      "Before: {'name': 'Jawwad Ahmad', 'father_name': 'Abdul Jabbar', 'age': 26, 'height': 1.8, 'married': False, 1: 'hello'}\n",
      "After: {'name': 'Hammad Ahmad', 'father_name': 'Abdul Jabbar', 'age': 26, 'height': 1.8, 'married': False, 1: 'hello'}\n",
      "(\"Before: {'name': 'Hammad Ahmad', 'father_name': 'Abdul Jabbar', 'age': 26, \"\n",
      " \"'height': 1.8, 'married': False, 1: 'hello'}\")\n",
      "(\"After: {'name': 'Hammad Ahmad', 'father_name': 'Abdul Jabbar', 'age': 26, \"\n",
      " \"'height': 1.8, 'married': False, 1: 'hello', 'qualification': 'BS'}\")\n"
     ]
    }
   ],
   "source": [
    "from typing import Dict, Union\n",
    "import pprint\n",
    "\n",
    "# custom types\n",
    "Key = str | int\n",
    "Value = Union[int, str, float, list, dict, tuple, set, bool] \n",
    "\n",
    "my_dict: Dict[Key, Value] = {\n",
    "    \"name\" : \"Jawwad Ahmad\",\n",
    "    \"father_name\" : \"Abdul Jabbar\",\n",
    "    \"age\" : 26,\n",
    "    \"height\" : 1.80,\n",
    "    \"married\" : False,\n",
    "    1 : \"hello\" \n",
    "}\n",
    "\n",
    "# updating / modifying the data\n",
    "print(f\"Before: {my_dict}\")\n",
    "my_dict[\"name\"] = \"Hammad Ahmad\"\n",
    "print(f\"After: {my_dict}\")\n",
    "\n",
    "\n",
    "# adding new elements to the data\n",
    "pprint.pprint(f\"Before: {my_dict}\")\n",
    "my_dict[\"qualification\"] = \"BS\" # if key not exists, it will be created\n",
    "pprint.pprint(f\"After: {my_dict}\")\n"
   ]
  },
  {
   "cell_type": "markdown",
   "metadata": {},
   "source": [
    "## Nested Dictionary"
   ]
  },
  {
   "cell_type": "code",
   "execution_count": 10,
   "metadata": {},
   "outputs": [
    {
     "name": "stdout",
     "output_type": "stream",
     "text": [
      "jawwadahmad.edu@gmail.com\n"
     ]
    }
   ],
   "source": [
    "from typing import Dict, Union\n",
    "import pprint\n",
    "\n",
    "# custom types\n",
    "Key = str | int\n",
    "Value = Union[int, str, float, list, dict, tuple, set, bool] \n",
    "\n",
    "my_dict: Dict[Key, Value] = {\n",
    "    \"name\" : \"Jawwad Ahmad\",\n",
    "    \"father_name\" : \"Abdul Jabbar\",\n",
    "    \"age\" : 26,\n",
    "    \"mails\": {\n",
    "        1: \"jawwadahmad.edu@gmail.com\", \n",
    "        2: \"jawwadahmad5858@gmail.com\"}\n",
    "}\n",
    "\n",
    "print(my_dict[\"mails\"][1])"
   ]
  },
  {
   "cell_type": "markdown",
   "metadata": {},
   "source": [
    "## Removing Items\n",
    "There are several methods to remove items from a dictionary: del, pop(), and popitem(), among others."
   ]
  },
  {
   "cell_type": "code",
   "execution_count": 11,
   "metadata": {},
   "outputs": [
    {
     "name": "stdout",
     "output_type": "stream",
     "text": [
      "{'father_name': 'Abdul Jabbar', 'age': 26, 'mails': {1: 'jawwadahmad.edu@gmail.com', 2: 'jawwadahmad5858@gmail.com'}}\n",
      "{'father_name': 'Abdul Jabbar', 'mails': {1: 'jawwadahmad.edu@gmail.com', 2: 'jawwadahmad5858@gmail.com'}}\n",
      "{'father_name': 'Abdul Jabbar'}\n"
     ]
    }
   ],
   "source": [
    "# Removing an item using del\n",
    "del my_dict['name'] # use this when there is no need of deleted element\n",
    "print(my_dict)\n",
    "\n",
    "# Removing an item using pop()\n",
    "age = my_dict.pop('age') # use this when there is need of deleted element\n",
    "print(my_dict)\n",
    "\n",
    "# Removing the last inserted item (Python 3.7+)\n",
    "item = my_dict.popitem() # use this when you want to delete last item\n",
    "print(my_dict)\n",
    "\n"
   ]
  },
  {
   "cell_type": "markdown",
   "metadata": {},
   "source": [
    "## Looping Through a Dictionary"
   ]
  },
  {
   "cell_type": "markdown",
   "metadata": {},
   "source": [
    "### Following three methods are used to iterate through a dictionary\n",
    "- keys()\n",
    "- values()\n",
    "- items()"
   ]
  },
  {
   "cell_type": "code",
   "execution_count": 18,
   "metadata": {},
   "outputs": [
    {
     "name": "stdout",
     "output_type": "stream",
     "text": [
      "Keys: dict_keys(['username', 'first', 'last'])\n",
      "Values: dict_values(['efermi', 'enrico', 'fermi'])\n",
      "Items: dict_items([('username', 'efermi'), ('first', 'enrico'), ('last', 'fermi')])\n"
     ]
    }
   ],
   "source": [
    "user_0 = {\n",
    "'username': 'efermi',\n",
    "'first': 'enrico',\n",
    "'last': 'fermi',\n",
    "}\n",
    "\n",
    "print(f\"Keys: {user_0.keys()}\")\n",
    "print(f\"Values: {user_0.values()}\")\n",
    "print(f\"Items: {user_0.items()}\")"
   ]
  },
  {
   "cell_type": "markdown",
   "metadata": {},
   "source": [
    "### Looping Through All Key-Value Pairs"
   ]
  },
  {
   "cell_type": "code",
   "execution_count": 19,
   "metadata": {},
   "outputs": [
    {
     "name": "stdout",
     "output_type": "stream",
     "text": [
      "\n",
      "Key: username\n",
      "Value: efermi\n",
      "\n",
      "Key: first\n",
      "Value: enrico\n",
      "\n",
      "Key: last\n",
      "Value: fermi\n"
     ]
    }
   ],
   "source": [
    "user_0 = {\n",
    "'username': 'efermi',\n",
    "'first': 'enrico',\n",
    "'last': 'fermi',\n",
    "}\n",
    "\n",
    "for key, value in user_0.items(): # destructuring tuple\n",
    "    print(f\"\\nKey: {key}\")\n",
    "    print(f\"Value: {value}\")"
   ]
  },
  {
   "cell_type": "markdown",
   "metadata": {},
   "source": [
    "### Comprehension method"
   ]
  },
  {
   "cell_type": "code",
   "execution_count": 23,
   "metadata": {},
   "outputs": [
    {
     "name": "stdout",
     "output_type": "stream",
     "text": [
      "{'efermi': 'username', 'enrico': 'first', 'fermi': 'last'}\n"
     ]
    }
   ],
   "source": [
    "from typing import Dict\n",
    "\n",
    "user_0 : Dict[str, str] = {\n",
    "'username': 'efermi',\n",
    "'first': 'enrico',\n",
    "'last': 'fermi',\n",
    "}\n",
    "\n",
    "new_dict: Dict[str, str] = {value: key for key, value in user_0.items()}\n",
    "\n",
    "print(new_dict)"
   ]
  },
  {
   "cell_type": "markdown",
   "metadata": {},
   "source": [
    "## Methods of Dictionary in python"
   ]
  },
  {
   "cell_type": "code",
   "execution_count": 3,
   "metadata": {},
   "outputs": [
    {
     "data": {
      "text/plain": [
       "['clear',\n",
       " 'copy',\n",
       " 'fromkeys',\n",
       " 'get',\n",
       " 'items',\n",
       " 'keys',\n",
       " 'pop',\n",
       " 'popitem',\n",
       " 'setdefault',\n",
       " 'update',\n",
       " 'values']"
      ]
     },
     "execution_count": 3,
     "metadata": {},
     "output_type": "execute_result"
    }
   ],
   "source": [
    "[n for n in dir(dict) if \"__\" not in n]"
   ]
  },
  {
   "cell_type": "markdown",
   "metadata": {},
   "source": [
    "### clear() method for dictionary\n",
    "- Removes all the elements from the dictionary."
   ]
  },
  {
   "cell_type": "code",
   "execution_count": 4,
   "metadata": {},
   "outputs": [
    {
     "name": "stdout",
     "output_type": "stream",
     "text": [
      "Before {'fname': 'Muhammad Aslam', 'name': 'Muhammad Qasim', 'education': 'MSDS'}\n",
      "After {}\n"
     ]
    }
   ],
   "source": [
    "from typing import Dict, Union\n",
    "\n",
    "\n",
    "Key = Union[int,str] # create custom type\n",
    "Value = Union[int, str, list, dict, tuple, set]\n",
    "\n",
    "data : Dict[Key,Value] = {\n",
    "                        \"fname\":\"Muhammad Aslam\",\n",
    "                        \"name\":\"Muhammad Qasim\",\n",
    "                        \"education\": \"MSDS\"}\n",
    "\n",
    "print(\"Before\", data)\n",
    "\n",
    "data.clear()\n",
    "print(\"After\", data)"
   ]
  },
  {
   "cell_type": "markdown",
   "metadata": {},
   "source": [
    "### copy() method of dictionary\n",
    "- Returns a shallow copy of the dictionary."
   ]
  },
  {
   "cell_type": "code",
   "execution_count": 8,
   "metadata": {},
   "outputs": [
    {
     "name": "stdout",
     "output_type": "stream",
     "text": [
      "Before {'fname': 'Muhammad Aslam', 'name': 'Muhammad Qasim', 'education': 'MSDS'}\n",
      "After\n",
      "data {'fname': 'Muhammad Aslam', 'name': 'Muhammad Qasim', 'education': 'MSDS'}\n",
      "new_data {'fname': 'Aslam', 'name': 'Muhammad Qasim', 'education': 'MSDS'}\n"
     ]
    }
   ],
   "source": [
    "from typing import Dict, Union\n",
    "\n",
    "Key = Union[int,str] # create custom type\n",
    "Value = Union[int, str, list, dict, tuple, set]\n",
    "\n",
    "data : Dict[Key,Value] = {\n",
    "                        \"fname\":\"Muhammad Aslam\",\n",
    "                        \"name\":\"Muhammad Qasim\",\n",
    "                        \"education\": \"MSDS\"}\n",
    "\n",
    "print(\"Before\", data)\n",
    "\n",
    "new_data = data.copy()\n",
    "new_data[\"fname\"] = \"Aslam\"\n",
    "\n",
    "print(\"After\")\n",
    "print(\"data\", data)  # original data is not changed i.e. it is a shallow copy\n",
    "print(\"new_data\", new_data)"
   ]
  },
  {
   "cell_type": "markdown",
   "metadata": {},
   "source": [
    "### fromkeys() method in python"
   ]
  },
  {
   "cell_type": "markdown",
   "metadata": {},
   "source": [
    "- The `fromkeys()` method is a built-in class method for dictionaries (dict) that creates a new dictionary from a given iterable (like a list, tuple, or set) of keys.  Each key in the new dictionary is assigned a default value, which you can specify or leave as None\n",
    "\n",
    "- SYNTAX\n",
    "```\n",
    "new_dict = dict.fromkeys(iterable, value=None)\n",
    "```\n",
    "- iterable: This is the collection of keys that will become the keys in the new dictionary.\n",
    "- value (optional): This is the default value that will be associated with each key in the new dictionary. If not provided, it defaults to None.\n",
    "\n",
    "- Basic Usage:\n",
    "```\n",
    "keys = ['name', 'age', 'city']\n",
    "person = dict.fromkeys(keys)  # Creates {'name': None, 'age': None, 'city': None}\n",
    "```\n",
    "\n",
    "- CUSTOM DEFAULT VALUE:\n",
    "```\n",
    "keys = ['item1', 'item2', 'item3']\n",
    "inventory = dict.fromkeys(keys, 0)  # Creates {'item1': 0, 'item2': 0, 'item3': 0}\n",
    "```"
   ]
  },
  {
   "cell_type": "code",
   "execution_count": 13,
   "metadata": {},
   "outputs": [
    {
     "name": "stdout",
     "output_type": "stream",
     "text": [
      "Before: {}\n",
      "After(default values): {'id': None, 'name': None, 'fname': None, 'course': None}\n",
      "After(custom values): {'id': 0, 'name': 0, 'fname': 0, 'course': 0}\n"
     ]
    }
   ],
   "source": [
    "\n",
    "keys : list[str] = ['id','name','fname','course']\n",
    "\n",
    "data : dict[Key,Value] = {}\n",
    "\n",
    "print(f\"Before: {data}\")\n",
    "\n",
    "# 1st method\n",
    "data = data.fromkeys(keys) # inline\n",
    "print(f\"After(default values): {data}\")\n",
    "\n",
    "# 2nd method\n",
    "data = dict.fromkeys(keys, 0) # using dict\n",
    "print(f\"After(custom values): {data}\")\n"
   ]
  },
  {
   "cell_type": "markdown",
   "metadata": {},
   "source": [
    "### pop() method of dictionary\n",
    "- The pop() method is used to remove a specific key-value pair from a dictionary based on the provided key. It also returns the value that was associated with the removed key.\n",
    "\n",
    "- syntax\n",
    "```\n",
    "value = dictionary.pop(key[, default])\n",
    "```"
   ]
  },
  {
   "cell_type": "markdown",
   "metadata": {},
   "source": [
    "```"
   ]
  },
  {
   "cell_type": "code",
   "execution_count": 14,
   "metadata": {},
   "outputs": [
    {
     "name": "stdout",
     "output_type": "stream",
     "text": [
      "30\n",
      "{'name': 'Alice', 'city': 'New York'}\n"
     ]
    }
   ],
   "source": [
    "# Basic Usage:\n",
    "data = {'name': 'Alice', 'age': 30, 'city': 'New York'}\n",
    "age = data.pop('age')\n",
    "print(age)    # Output: 30\n",
    "print(data)   # Output: {'name': 'Alice', 'city': 'New York'}\n"
   ]
  },
  {
   "cell_type": "code",
   "execution_count": 16,
   "metadata": {},
   "outputs": [
    {
     "name": "stdout",
     "output_type": "stream",
     "text": [
      "N/A\n"
     ]
    }
   ],
   "source": [
    "# With default value:\n",
    "data = {'name': 'Bob', 'age': 25}\n",
    "phone = data.pop('phone', 'N/A')\n",
    "print(phone)   # Output: 'N/A' (since 'phone' key was not found)"
   ]
  },
  {
   "cell_type": "code",
   "execution_count": 17,
   "metadata": {},
   "outputs": [
    {
     "ename": "KeyError",
     "evalue": "'c'",
     "output_type": "error",
     "traceback": [
      "\u001b[1;31m---------------------------------------------------------------------------\u001b[0m",
      "\u001b[1;31mKeyError\u001b[0m                                  Traceback (most recent call last)",
      "Cell \u001b[1;32mIn[17], line 3\u001b[0m\n\u001b[0;32m      1\u001b[0m \u001b[38;5;66;03m#KeyError (when default is not provided):\u001b[39;00m\n\u001b[0;32m      2\u001b[0m data \u001b[38;5;241m=\u001b[39m {\u001b[38;5;124m'\u001b[39m\u001b[38;5;124ma\u001b[39m\u001b[38;5;124m'\u001b[39m: \u001b[38;5;241m1\u001b[39m, \u001b[38;5;124m'\u001b[39m\u001b[38;5;124mb\u001b[39m\u001b[38;5;124m'\u001b[39m: \u001b[38;5;241m2\u001b[39m}\n\u001b[1;32m----> 3\u001b[0m value \u001b[38;5;241m=\u001b[39m \u001b[43mdata\u001b[49m\u001b[38;5;241;43m.\u001b[39;49m\u001b[43mpop\u001b[49m\u001b[43m(\u001b[49m\u001b[38;5;124;43m'\u001b[39;49m\u001b[38;5;124;43mc\u001b[39;49m\u001b[38;5;124;43m'\u001b[39;49m\u001b[43m)\u001b[49m  \u001b[38;5;66;03m# Raises KeyError: 'c'\u001b[39;00m\n",
      "\u001b[1;31mKeyError\u001b[0m: 'c'"
     ]
    }
   ],
   "source": [
    "#KeyError (when default is not provided):\n",
    "data = {'a': 1, 'b': 2}\n",
    "value = data.pop('c')  # Raises KeyError: 'c'"
   ]
  },
  {
   "cell_type": "markdown",
   "metadata": {},
   "source": [
    "### popitem() method of dictionary\n",
    "- Removes the last inserted key-value pair."
   ]
  },
  {
   "cell_type": "code",
   "execution_count": 20,
   "metadata": {},
   "outputs": [
    {
     "name": "stdout",
     "output_type": "stream",
     "text": [
      "before: {'name': 'Alice', 'age': 30, 'city': 'New York'}\n",
      "After:\n",
      "('city', 'New York')\n",
      "{'name': 'Alice', 'age': 30}\n"
     ]
    }
   ],
   "source": [
    "data = {'name': 'Alice', 'age': 30, 'city': 'New York'}\n",
    "print(f\"before: {data}\")\n",
    "\n",
    "item = data.popitem()\n",
    "print(f\"After:\")\n",
    "print(item)     # Output: ('city', 'New York') \n",
    "print(data)    # Output: {'name': 'Alice', 'age': 30}"
   ]
  },
  {
   "cell_type": "markdown",
   "metadata": {},
   "source": [
    "### setdefault() method of dictionary\n",
    "- The `setdefault()` method is designed to retrieve the value of a key if it exists in the dictionary. If the key doesn't exist, it inserts the key with a default value that you specify (or `None` if not provided).\n",
    "\n",
    "- syntax:\n",
    "```\n",
    "value = dictionary.setdefault(key, default=None)\n",
    "```\n",
    "- `key`: The key to look up in the dictionary.\n",
    "- `default` (optional): The value to insert if the key is not found. If not provided, None is used.\n",
    "\n",
    "**Return Value**\n",
    "- If the `key` is found in the dictionary, `setdefault()` returns the existing value associated with that key.\n",
    "- If the `key` is not found, it inserts the key with the default value and returns that default value.\n"
   ]
  },
  {
   "cell_type": "code",
   "execution_count": 21,
   "metadata": {},
   "outputs": [
    {
     "name": "stdout",
     "output_type": "stream",
     "text": [
      "New York\n",
      "{'name': 'Alice', 'age': 30, 'city': 'New York'}\n"
     ]
    }
   ],
   "source": [
    "# Basic usage\n",
    "data = {'name': 'Alice', 'age': 30}\n",
    "city = data.setdefault('city', 'New York')\n",
    "print(city)    # Output: 'New York' (key 'city' was added)\n",
    "print(data)   # Output: {'name': 'Alice', 'age': 30, 'city': 'New York'}"
   ]
  },
  {
   "cell_type": "code",
   "execution_count": 24,
   "metadata": {},
   "outputs": [
    {
     "name": "stdout",
     "output_type": "stream",
     "text": [
      "25\n",
      "{'name': 'Bob', 'age': 25}\n"
     ]
    }
   ],
   "source": [
    "# if key already exist\n",
    "data = {'name': 'Bob', 'age': 25}\n",
    "age = data.setdefault('age', 40)  # Doesn't change the value\n",
    "print(age)     # Output: 25 (original value)\n",
    "print(data)"
   ]
  },
  {
   "cell_type": "markdown",
   "metadata": {},
   "source": [
    "### update() method of dictionary\n",
    "- The `update()` method is a versatile tool for modifying a dictionary by adding new key-value pairs or updating the values of existing keys. It allows you to merge another dictionary or an iterable of key-value pairs into the existing dictionary.\n",
    "\n",
    "- syntax:\n",
    "```\n",
    "dictionary.update([other])\n",
    "```\n",
    "`other` (optional): This can be either:\n",
    "- Another dictionary: The key-value pairs from this dictionary will be added or updated in the original dictionary.\n",
    "- An iterable of key-value pairs: Each pair in the iterable (e.g., a list of tuples) will be added or updated."
   ]
  },
  {
   "cell_type": "code",
   "execution_count": 27,
   "metadata": {},
   "outputs": [
    {
     "name": "stdout",
     "output_type": "stream",
     "text": [
      "Before: {'name': 'Alice', 'age': 30}\n",
      "after: {'name': 'Alice', 'age': 31, 'city': 'New York'}\n"
     ]
    }
   ],
   "source": [
    "# Updating with Another Dictionary:\n",
    "data = {'name': 'Alice', 'age': 30}\n",
    "print(f\"Before: {data}\")\n",
    "new_data = {'age': 31, 'city': 'New York'}\n",
    "data.update(new_data)\n",
    "print(f\"after: {data}\")  # Output: {'name': 'Alice', 'age': 31, 'city': 'New York'}"
   ]
  },
  {
   "cell_type": "code",
   "execution_count": 29,
   "metadata": {},
   "outputs": [
    {
     "name": "stdout",
     "output_type": "stream",
     "text": [
      "before: {'a': 1, 'b': 2}\n",
      "after: {'a': 1, 'b': 2, 'c': 3, 'd': 4}\n"
     ]
    }
   ],
   "source": [
    "# Updating with an Iterable:\n",
    "data = {'a': 1, 'b': 2}\n",
    "print(f\"before: {data}\")\n",
    "data.update([('c', 3), ('d', 4)])\n",
    "print(f\"after: {data}\")  # Output: {'a': 1, 'b': 2, 'c': 3, 'd': 4}"
   ]
  },
  {
   "cell_type": "code",
   "execution_count": 1,
   "metadata": {},
   "outputs": [
    {
     "name": "stdout",
     "output_type": "stream",
     "text": [
      "{'x': 10, 'y': 20, 'z': 30}\n"
     ]
    }
   ],
   "source": [
    "# Updating with Keyword Arguments:\n",
    "data = {'x': 10}\n",
    "data.update(y=20, z=30)\n",
    "print(data)  # Output: {'x': 10, 'y': 20, 'z': 30}"
   ]
  },
  {
   "cell_type": "markdown",
   "metadata": {},
   "source": [
    "## Looping Through All the Keys in a Dictionary"
   ]
  },
  {
   "cell_type": "markdown",
   "metadata": {},
   "source": [
    "### Looping Through All Key-Value Pairs"
   ]
  },
  {
   "cell_type": "code",
   "execution_count": 3,
   "metadata": {},
   "outputs": [
    {
     "name": "stdout",
     "output_type": "stream",
     "text": [
      "\n",
      "Key: username\n",
      "Value: efermi\n",
      "\n",
      "Key: first\n",
      "Value: enrico\n",
      "\n",
      "Key: last\n",
      "Value: fermi\n"
     ]
    }
   ],
   "source": [
    "# Example 1\n",
    "user_0 = {\n",
    "'username': 'efermi',\n",
    "'first': 'enrico',\n",
    "'last': 'fermi',\n",
    "}\n",
    "\n",
    "for key, value in user_0.items():\n",
    "    print(f\"\\nKey: {key}\")\n",
    "    print(f\"Value: {value}\")"
   ]
  },
  {
   "cell_type": "code",
   "execution_count": 5,
   "metadata": {},
   "outputs": [
    {
     "name": "stdout",
     "output_type": "stream",
     "text": [
      "Jen's favorite language is Python.\n",
      "Sarah's favorite language is C.\n",
      "Edward's favorite language is Rust.\n",
      "Phil's favorite language is Python.\n"
     ]
    }
   ],
   "source": [
    "# Example 2\n",
    "favorite_languages = {\n",
    "'jen': 'python',\n",
    "'sarah': 'c',\n",
    "'edward': 'rust',\n",
    "'phil': 'python',\n",
    "}\n",
    "\n",
    "for name, language in favorite_languages.items():\n",
    "    print(f\"{name.title()}'s favorite language is {language.title()}.\")"
   ]
  },
  {
   "cell_type": "markdown",
   "metadata": {},
   "source": [
    "### Looping Through All the Keys in a Dictionary"
   ]
  },
  {
   "cell_type": "code",
   "execution_count": 6,
   "metadata": {},
   "outputs": [
    {
     "name": "stdout",
     "output_type": "stream",
     "text": [
      "Jen\n",
      "Sarah\n",
      "Edward\n",
      "Phil\n"
     ]
    }
   ],
   "source": [
    "favorite_languages = {\n",
    "'jen': 'python',\n",
    "'sarah': 'c',\n",
    "'edward': 'rust',\n",
    "'phil': 'python',\n",
    "}\n",
    "for name in favorite_languages.keys():\n",
    "    print(name.title())"
   ]
  },
  {
   "cell_type": "markdown",
   "metadata": {},
   "source": [
    "### Looping Through a Dictionary’s Keys in a Particular Order"
   ]
  },
  {
   "cell_type": "code",
   "execution_count": 7,
   "metadata": {},
   "outputs": [
    {
     "name": "stdout",
     "output_type": "stream",
     "text": [
      "Edward, thank you for taking the poll.\n",
      "Jen, thank you for taking the poll.\n",
      "Phil, thank you for taking the poll.\n",
      "Sarah, thank you for taking the poll.\n"
     ]
    }
   ],
   "source": [
    "favorite_languages = {\n",
    "'jen': 'python',\n",
    "'sarah': 'c',\n",
    "'edward': 'rust',\n",
    "'phil': 'python',\n",
    "}\n",
    "\n",
    "for name in sorted(favorite_languages.keys()):\n",
    "    print(f\"{name.title()}, thank you for taking the poll.\")"
   ]
  },
  {
   "cell_type": "markdown",
   "metadata": {},
   "source": [
    "### Looping Through All Values in a Dictionary"
   ]
  },
  {
   "cell_type": "code",
   "execution_count": 8,
   "metadata": {},
   "outputs": [
    {
     "name": "stdout",
     "output_type": "stream",
     "text": [
      "The following languages have been mentioned:\n",
      "Python\n",
      "C\n",
      "Rust\n",
      "Python\n"
     ]
    }
   ],
   "source": [
    "favorite_languages = {\n",
    "'jen': 'python',\n",
    "'sarah': 'c',\n",
    "'edward': 'rust',\n",
    "'phil': 'python',\n",
    "}\n",
    "print(\"The following languages have been mentioned:\")\n",
    "for language in favorite_languages.values():\n",
    "    print(language.title())"
   ]
  },
  {
   "cell_type": "code",
   "execution_count": null,
   "metadata": {},
   "outputs": [],
   "source": [
    "# using set() method \n",
    "\n",
    "favorite_languages = {\n",
    "'jen': 'python',\n",
    "'sarah': 'c',\n",
    "'edward': 'rust',\n",
    "'phil': 'python',\n",
    "}\n",
    "\n",
    "print(\"The following languages have been mentioned:\")\n",
    "for language in set(favorite_languages.values()):\n",
    "    print(language.title())"
   ]
  }
 ],
 "metadata": {
  "kernelspec": {
   "display_name": "Python 3",
   "language": "python",
   "name": "python3"
  },
  "language_info": {
   "codemirror_mode": {
    "name": "ipython",
    "version": 3
   },
   "file_extension": ".py",
   "mimetype": "text/x-python",
   "name": "python",
   "nbconvert_exporter": "python",
   "pygments_lexer": "ipython3",
   "version": "3.12.3"
  }
 },
 "nbformat": 4,
 "nbformat_minor": 2
}
