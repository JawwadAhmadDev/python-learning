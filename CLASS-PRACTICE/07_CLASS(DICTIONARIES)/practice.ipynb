{
 "cells": [
  {
   "cell_type": "markdown",
   "metadata": {},
   "source": [
    "# Dictionary"
   ]
  },
  {
   "cell_type": "markdown",
   "metadata": {},
   "source": [
    "### In Python, a dictionary is a collection of items that are stored in a key-value pair format. Dictionaries are unordered, which means that the items do not have a defined order. They can be changed, meaning you can add, remove, or modify items after the dictionary has been created. Dictionaries are written with curly brackets {}, containing keys and values."
   ]
  },
  {
   "cell_type": "markdown",
   "metadata": {},
   "source": [
    "## Creating a Dictionary"
   ]
  },
  {
   "cell_type": "code",
   "execution_count": 2,
   "metadata": {},
   "outputs": [
    {
     "name": "stdout",
     "output_type": "stream",
     "text": [
      "{'name': 'Jawwad Ahmad', 'father_name': 'Abdul Jabbar', 'age': 26, 'height': 1.8, 'married': False}\n"
     ]
    }
   ],
   "source": [
    "from typing import Dict, Union\n",
    "\n",
    "# custom types\n",
    "Key = str\n",
    "Value = Union[int, str, float, list, dict, tuple, set, bool] \n",
    "\n",
    "my_dict: Dict[Key, Value] = {\n",
    "    \"name\" : \"Jawwad Ahmad\",\n",
    "    \"father_name\" : \"Abdul Jabbar\",\n",
    "    \"age\" : 26,\n",
    "    \"height\" : 1.80,\n",
    "    \"married\" : False,\n",
    "}\n",
    "\n",
    "print(my_dict)"
   ]
  },
  {
   "cell_type": "markdown",
   "metadata": {},
   "source": [
    "## Accessing Elements\n",
    "You can access the items of a dictionary by referring to its key name."
   ]
  },
  {
   "cell_type": "code",
   "execution_count": 1,
   "metadata": {},
   "outputs": [
    {
     "name": "stdout",
     "output_type": "stream",
     "text": [
      "Jawwad Ahmad\n",
      "Abdul Jabbar\n"
     ]
    }
   ],
   "source": [
    "from typing import Dict, Union\n",
    "\n",
    "# custom types\n",
    "Key = str\n",
    "Value = Union[int, str, float, list, dict, tuple, set, bool] \n",
    "\n",
    "my_dict: Dict[Key, Value] = {\n",
    "    \"name\" : \"Jawwad Ahmad\",\n",
    "    \"father_name\" : \"Abdul Jabbar\",\n",
    "    \"age\" : 26,\n",
    "    \"height\" : 1.80,\n",
    "    \"married\" : False,\n",
    "}\n",
    "\n",
    "print(my_dict[\"name\"])\n",
    "print(my_dict[\"father_name\"])\n",
    "print(my_dict[\"height\"]) \n",
    "print(my_dict[\"age\"]) "
   ]
  }
 ],
 "metadata": {
  "kernelspec": {
   "display_name": "Python 3",
   "language": "python",
   "name": "python3"
  },
  "language_info": {
   "codemirror_mode": {
    "name": "ipython",
    "version": 3
   },
   "file_extension": ".py",
   "mimetype": "text/x-python",
   "name": "python",
   "nbconvert_exporter": "python",
   "pygments_lexer": "ipython3",
   "version": "3.12.1"
  }
 },
 "nbformat": 4,
 "nbformat_minor": 2
}
