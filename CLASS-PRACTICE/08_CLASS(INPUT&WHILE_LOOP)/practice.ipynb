{
 "cells": [
  {
   "cell_type": "markdown",
   "metadata": {},
   "source": [
    "# Taking input from user"
   ]
  },
  {
   "cell_type": "markdown",
   "metadata": {},
   "source": [
    "## Methods to take input from user\n",
    "\n",
    "* input function\n",
    "    * default return type = str\n",
    "    * Syntax: `input(prompt)`\n",
    "    * Example: `user_name = input(\\\"Please enter your name: \\\")`\n",
    "    * Note: The input provided by the user will be stored as a string.\n",
    "* sys.argv (to take input from console)\n",
    "    * default return type = list of str\n",
    "    "
   ]
  },
  {
   "cell_type": "code",
   "execution_count": 1,
   "metadata": {},
   "outputs": [
    {
     "name": "stdout",
     "output_type": "stream",
     "text": [
      "hello\n"
     ]
    }
   ],
   "source": [
    "message: str = input(\"Tell me something, and I will repeat it back to you: \")\n",
    "print(message)"
   ]
  },
  {
   "cell_type": "code",
   "execution_count": 2,
   "metadata": {},
   "outputs": [
    {
     "name": "stdout",
     "output_type": "stream",
     "text": [
      "\n",
      "Hello, Jawwad!\n"
     ]
    }
   ],
   "source": [
    "prompt: str = \"If you share your name, we can personalize the messages you see.\"\n",
    "prompt += \"\\nWhat is your first name? \"\n",
    "name: str = input(prompt)\n",
    "print(f\"\\nHello, {name}!\")"
   ]
  },
  {
   "cell_type": "markdown",
   "metadata": {},
   "source": [
    "## Using int() to Accept Numerical Input"
   ]
  },
  {
   "cell_type": "code",
   "execution_count": 4,
   "metadata": {},
   "outputs": [
    {
     "name": "stdout",
     "output_type": "stream",
     "text": [
      "\n",
      "You'll be able to ride when you're a little older.\n"
     ]
    }
   ],
   "source": [
    "height = input(\"How tall are you, in inches? \")\n",
    "height = int(height)\n",
    "if height >= 48:\n",
    "    print(\"\\nYou're tall enough to ride!\")\n",
    "else:\n",
    "    print(\"\\nYou'll be able to ride when you're a little older.\")"
   ]
  },
  {
   "cell_type": "code",
   "execution_count": 5,
   "metadata": {},
   "outputs": [
    {
     "name": "stdout",
     "output_type": "stream",
     "text": [
      "\n",
      "The number 18 is even.\n"
     ]
    }
   ],
   "source": [
    "number = input(\"Enter a number, and I'll tell you if it's even or odd: \")\n",
    "number = int(number)\n",
    "if number % 2 == 0:\n",
    "    print(f\"\\nThe number {number} is even.\")\n",
    "else:\n",
    "    print(f\"\\nThe number {number} is odd.\")"
   ]
  },
  {
   "cell_type": "markdown",
   "metadata": {},
   "source": [
    "## Command Line Arguments (sys.argv)\n",
    "\n",
    "`sys.argv` is a list in Python, which contains the command-line arguments passed to the script.\n"
   ]
  },
  {
   "cell_type": "code",
   "execution_count": 6,
   "metadata": {},
   "outputs": [
    {
     "name": "stdout",
     "output_type": "stream",
     "text": [
      "Script Name: C:\\Users\\WIN 10 PRO\\AppData\\Roaming\\Python\\Python312\\site-packages\\ipykernel_launcher.py\n",
      "First Argument: --f=\"c:\\Users\\WIN 10 PRO\\AppData\\Roaming\\jupyter\\runtime\\kernel-v2-19732SJ9Ll33kM6kM.json\"\n"
     ]
    }
   ],
   "source": [
    "import sys\n",
    "arguments: list = sys.argv\n",
    "print(\"Script Name:\", arguments[0])\n",
    "print(\"First Argument:\", arguments[1])"
   ]
  },
  {
   "cell_type": "markdown",
   "metadata": {},
   "source": [
    "# Loops in python\n",
    "* while loop\n",
    "* for loop\n",
    "\n",
    "- controls\n",
    "    * break\n",
    "    * continue\n",
    "    * pass"
   ]
  },
  {
   "cell_type": "markdown",
   "metadata": {},
   "source": [
    "## Loop working on iterative data types\n",
    "* list\n",
    "* dictionary\n",
    "* tuple\n",
    "* string\n",
    "* set"
   ]
  },
  {
   "cell_type": "code",
   "execution_count": 11,
   "metadata": {},
   "outputs": [
    {
     "name": "stdout",
     "output_type": "stream",
     "text": [
      "current number :1\n",
      "current number :2\n",
      "current number :3\n",
      "current number :4\n",
      "current number :5\n",
      "current number :6\n"
     ]
    }
   ],
   "source": [
    "# iteration over list\n",
    "l1 : list[int] = [1,2,3,4,5,6]\n",
    "\n",
    "for n in l1:\n",
    "    print(f\"current number :{n}\")"
   ]
  },
  {
   "cell_type": "code",
   "execution_count": 12,
   "metadata": {},
   "outputs": [
    {
     "name": "stdout",
     "output_type": "stream",
     "text": [
      "current number :1\n",
      "current number :2\n",
      "current number :3\n",
      "current number :4\n",
      "current number :5\n",
      "current number :6\n"
     ]
    }
   ],
   "source": [
    "# iteration over tuple\n",
    "l1 : tuple[int] = (1,2,3,4,5,6)\n",
    "\n",
    "for n in l1:\n",
    "    print(f\"current number :{n}\")"
   ]
  },
  {
   "cell_type": "code",
   "execution_count": 13,
   "metadata": {},
   "outputs": [
    {
     "name": "stdout",
     "output_type": "stream",
     "text": [
      "current character :P\n",
      "current character :a\n",
      "current character :k\n",
      "current character :i\n",
      "current character :s\n",
      "current character :t\n",
      "current character :a\n",
      "current character :n\n"
     ]
    }
   ],
   "source": [
    "# iteration over string\n",
    "l1 : str = \"Pakistan\"\n",
    "\n",
    "for c in l1:\n",
    "    print(f\"current character :{c}\")"
   ]
  },
  {
   "cell_type": "code",
   "execution_count": 15,
   "metadata": {},
   "outputs": [
    {
     "name": "stdout",
     "output_type": "stream",
     "text": [
      "dictionary key name and value is Jawwad Ahmad\n",
      "dictionary key fname and value is Abdul Jabbar\n"
     ]
    }
   ],
   "source": [
    "# iteratioin over dictionary\n",
    "l1 : dict[str,str] = {\"name\":\"Jawwad Ahmad\",\"fname\":\"Abdul Jabbar\"}\n",
    "\n",
    "for k in l1:\n",
    "    print(f\"dictionary key {k} and value is {l1[k]}\")"
   ]
  },
  {
   "cell_type": "code",
   "execution_count": 16,
   "metadata": {},
   "outputs": [
    {
     "name": "stdout",
     "output_type": "stream",
     "text": [
      "set item is  1 \n",
      "set item is  2 \n",
      "set item is  3 \n",
      "set item is  4 \n"
     ]
    }
   ],
   "source": [
    "# iteration over set\n",
    "l1 : set[int] = {1,2,3,4,1,1,1,1}\n",
    "\n",
    "for k in l1:\n",
    "    print(f\"set item is  {k} \")"
   ]
  },
  {
   "cell_type": "markdown",
   "metadata": {},
   "source": [
    "## While Loop\n",
    "\n",
    "- The `while loop` in Python is used for repeated execution as long as an expression is true.\n",
    "\n",
    "- Syntax: \n",
    "```\n",
    "while expression:\n",
    "    # code to be executed\n",
    "```"
   ]
  },
  {
   "cell_type": "code",
   "execution_count": 7,
   "metadata": {},
   "outputs": [
    {
     "name": "stdout",
     "output_type": "stream",
     "text": [
      "Counter is: 0\n",
      "Counter is: 1\n",
      "Counter is: 2\n",
      "Counter is: 3\n",
      "Counter is: 4\n"
     ]
    }
   ],
   "source": [
    "counter: int = 0\n",
    "while counter < 5:\n",
    "    print(\"Counter is:\", counter)\n",
    "    counter += 1"
   ]
  },
  {
   "cell_type": "markdown",
   "metadata": {},
   "source": [
    "### Letting the User Choose When to Quit"
   ]
  },
  {
   "cell_type": "code",
   "execution_count": 17,
   "metadata": {},
   "outputs": [
    {
     "name": "stdout",
     "output_type": "stream",
     "text": [
      "hello\n",
      "how are you?\n",
      "quit\n"
     ]
    }
   ],
   "source": [
    "prompt = \"\\nTell me something, and I will repeat it back to you:\"\n",
    "prompt += \"\\nEnter 'quit' to end the program. \"\n",
    "message = \"\"\n",
    "while message != 'quit':\n",
    "    message = input(prompt)\n",
    "    print(message)"
   ]
  },
  {
   "cell_type": "markdown",
   "metadata": {},
   "source": [
    "### Using a Flag"
   ]
  },
  {
   "cell_type": "code",
   "execution_count": 18,
   "metadata": {},
   "outputs": [
    {
     "name": "stdout",
     "output_type": "stream",
     "text": [
      "hello\n",
      "how are you?\n",
      "I am fine\n"
     ]
    }
   ],
   "source": [
    "prompt = \"\\nTell me something, and I will repeat it back to you:\"\n",
    "prompt += \"\\nEnter 'quit' to end the program. \"\n",
    "active = True\n",
    "while active:\n",
    "    message = input(prompt)\n",
    "    if message == 'quit':\n",
    "        active = False\n",
    "    else:\n",
    "        print(message)"
   ]
  },
  {
   "cell_type": "markdown",
   "metadata": {},
   "source": [
    "##  break statement to exit from the loop"
   ]
  },
  {
   "cell_type": "code",
   "execution_count": 19,
   "metadata": {},
   "outputs": [
    {
     "name": "stdout",
     "output_type": "stream",
     "text": [
      "I'd love to go to Bahawalnagar!\n",
      "I'd love to go to Lahore!\n",
      "I'd love to go to Islamabad!\n"
     ]
    }
   ],
   "source": [
    "prompt = \"\\nPlease enter the name of a city you have visited:\"\n",
    "prompt += \"\\n(Enter 'quit' when you are finished.) \"\n",
    "while True:\n",
    "    city = input(prompt)\n",
    "    if city == 'quit':\n",
    "        break\n",
    "    else:\n",
    "        print(f\"I'd love to go to {city.title()}!\")"
   ]
  },
  {
   "cell_type": "markdown",
   "metadata": {},
   "source": [
    "## Using continue in a Loop"
   ]
  },
  {
   "cell_type": "code",
   "execution_count": null,
   "metadata": {},
   "outputs": [],
   "source": [
    "current_number = 0\n",
    "while current_number < 10:\n",
    "    current_number += 1\n",
    "    if current_number % 2 == 0:\n",
    "        continue\n",
    "    print(current_number)"
   ]
  }
 ],
 "metadata": {
  "kernelspec": {
   "display_name": "Python 3",
   "language": "python",
   "name": "python3"
  },
  "language_info": {
   "codemirror_mode": {
    "name": "ipython",
    "version": 3
   },
   "file_extension": ".py",
   "mimetype": "text/x-python",
   "name": "python",
   "nbconvert_exporter": "python",
   "pygments_lexer": "ipython3",
   "version": "3.12.4"
  }
 },
 "nbformat": 4,
 "nbformat_minor": 2
}
