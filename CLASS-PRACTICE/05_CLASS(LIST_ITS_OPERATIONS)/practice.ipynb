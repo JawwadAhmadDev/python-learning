{
 "cells": [
  {
   "cell_type": "markdown",
   "metadata": {},
   "source": [
    "# Looping Through an Entire List"
   ]
  },
  {
   "cell_type": "code",
   "execution_count": 1,
   "metadata": {},
   "outputs": [
    {
     "name": "stdout",
     "output_type": "stream",
     "text": [
      "alice\n",
      "david\n",
      "carolina\n"
     ]
    }
   ],
   "source": [
    "magicians: list[str] = ['alice', 'david', 'carolina']\n",
    "for magician in magicians:\n",
    "    print(magician)"
   ]
  },
  {
   "cell_type": "markdown",
   "metadata": {},
   "source": [
    "### Doing More Work Within a for Loop"
   ]
  },
  {
   "cell_type": "code",
   "execution_count": 2,
   "metadata": {},
   "outputs": [
    {
     "name": "stdout",
     "output_type": "stream",
     "text": [
      "Alice, that was a great trick!\n",
      "David, that was a great trick!\n",
      "Carolina, that was a great trick!\n"
     ]
    }
   ],
   "source": [
    "magicians: list[str] = ['alice', 'david', 'carolina']\n",
    "for magician in magicians:\n",
    "    print(f\"{magician.title()}, that was a great trick!\")   "
   ]
  },
  {
   "cell_type": "code",
   "execution_count": 4,
   "metadata": {},
   "outputs": [
    {
     "name": "stdout",
     "output_type": "stream",
     "text": [
      "Alice, that was a great trick!\n",
      "I can't wait to see your next trick, Alice.\n",
      "\n",
      "David, that was a great trick!\n",
      "I can't wait to see your next trick, David.\n",
      "\n",
      "Carolina, that was a great trick!\n",
      "I can't wait to see your next trick, Carolina.\n",
      "\n"
     ]
    }
   ],
   "source": [
    "# block is created by indenting each line by one tab. \n",
    "magicians: list[str] = ['alice', 'david', 'carolina']\n",
    "for magician in magicians:\n",
    "    print(f\"{magician.title()}, that was a great trick!\")\n",
    "    print(f\"I can't wait to see your next trick, {magician.title()}.\\n\")"
   ]
  },
  {
   "cell_type": "markdown",
   "metadata": {},
   "source": [
    "### Doing Something After a for Loop"
   ]
  },
  {
   "cell_type": "code",
   "execution_count": 5,
   "metadata": {},
   "outputs": [
    {
     "name": "stdout",
     "output_type": "stream",
     "text": [
      "Alice, that was a great trick!\n",
      "I can't wait to see your next trick, Alice.\n",
      "\n",
      "David, that was a great trick!\n",
      "I can't wait to see your next trick, David.\n",
      "\n",
      "Carolina, that was a great trick!\n",
      "I can't wait to see your next trick, Carolina.\n",
      "\n",
      "Thank you, everyone. That was a great magic show!\n"
     ]
    }
   ],
   "source": [
    "magicians = ['alice', 'david', 'carolina']\n",
    "for magician in magicians:\n",
    "    print(f\"{magician.title()}, that was a great trick!\")\n",
    "    print(f\"I can't wait to see your next trick, {magician.title()}.\\n\")\n",
    "\n",
    "# this line will not be part of for loop because it is not indented. \n",
    "print(\"Thank you, everyone. That was a great magic show!\")"
   ]
  },
  {
   "cell_type": "code",
   "execution_count": 7,
   "metadata": {},
   "outputs": [
    {
     "name": "stdout",
     "output_type": "stream",
     "text": [
      "Alice, that was a great trick!\n",
      "I can't wait to see your next trick, Alice.\n",
      "\n",
      "Thank you, everyone. That was a great magic show!\n",
      "David, that was a great trick!\n",
      "I can't wait to see your next trick, David.\n",
      "\n",
      "Thank you, everyone. That was a great magic show!\n",
      "Carolina, that was a great trick!\n",
      "I can't wait to see your next trick, Carolina.\n",
      "\n",
      "Thank you, everyone. That was a great magic show!\n"
     ]
    }
   ],
   "source": [
    "magicians = ['alice', 'david', 'carolina']\n",
    "for magician in magicians:\n",
    "    print(f\"{magician.title()}, that was a great trick!\")\n",
    "    print(f\"I can't wait to see your next trick, {magician.title()}.\\n\")\n",
    "\n",
    "# now this line will be part of for loop because it is now indented. \n",
    "    print(\"Thank you, everyone. That was a great magic show!\")"
   ]
  },
  {
   "cell_type": "markdown",
   "metadata": {},
   "source": [
    "### Looping through slicing"
   ]
  },
  {
   "cell_type": "code",
   "execution_count": 8,
   "metadata": {},
   "outputs": [
    {
     "name": "stdout",
     "output_type": "stream",
     "text": [
      "Welcome Dear Tacher Muhammad Qasim\n",
      "PIAIC Gen AI Team\n",
      "\n",
      "Welcome Dear Tacher Dr Noman\n",
      "PIAIC Gen AI Team\n",
      "\n",
      "Pakistan zinda bad\n"
     ]
    }
   ],
   "source": [
    "names:list[str] = ['Sir Zia', \"Muhammad Qasim\", \"DR Noman\"]\n",
    "\n",
    "for name in names[-2:]:\n",
    "    print(f'Welcome Dear Tacher {name.title()}')\n",
    "    print(\"PIAIC Gen AI Team\\n\")\n",
    "\n",
    "print(\"Pakistan zinda bad\")"
   ]
  },
  {
   "cell_type": "code",
   "execution_count": 9,
   "metadata": {},
   "outputs": [
    {
     "name": "stdout",
     "output_type": "stream",
     "text": [
      "Welcome Dear Tacher DR NOMAN\n",
      "PIAIC Gen AI Team\n",
      "\n",
      "Welcome Dear Tacher MUHAMMAD QASIM\n",
      "PIAIC Gen AI Team\n",
      "\n",
      "Welcome Dear Tacher SIR ZIA\n",
      "PIAIC Gen AI Team\n",
      "\n",
      "Pakistan zinda bad\n",
      "\n"
     ]
    }
   ],
   "source": [
    "names:list[str] = ['Sir Zia', \"Muhammad Qasim\", \"DR Noman\"]\n",
    "\n",
    "for name in names[::-1]:\n",
    "    print(f'Welcome Dear Tacher {name.upper()}')\n",
    "    print(\"PIAIC Gen AI Team\\n\")\n",
    "print(\"Pakistan zinda bad\\n\")"
   ]
  },
  {
   "cell_type": "markdown",
   "metadata": {},
   "source": [
    "### problem statement to implement `for-else` statement \n",
    "* if loop complete full iterations, else part will execute otherwise not execute \n",
    "* Create a list data_base and add some users data in it. Take username and password from user and then verify this exist in database or not"
   ]
  },
  {
   "cell_type": "code",
   "execution_count": 20,
   "metadata": {},
   "outputs": [
    {
     "name": "stdout",
     "output_type": "stream",
     "text": [
      "Jawwad Ahmad is a valid user\n"
     ]
    }
   ],
   "source": [
    "data_base: list[tuple[str, int]] = [(\"Jawwad Ahmad\", 123),\n",
    "                                    (\"Hammad Ahmad\", 456),\n",
    "                                    (\"Muhammad Zeeshan\", 789)\n",
    "                                    ]\n",
    "\n",
    "# take input from user\n",
    "user_name : str = input(\"Please enter your name: \")\n",
    "user_password : int = int(input(\"Please enter password\"))\n",
    "\n",
    "# 1st method: unzipping in the loop first line\n",
    "# for name, password in data_base:\n",
    "#     if user_name.lower() == name.lower() and user_password == password:\n",
    "#         print(f\"{name} is a valid user\")\n",
    "#         break\n",
    "# else:\n",
    "#     print(f\"Invalid credentials or invalid user\")\n",
    "\n",
    "\n",
    "# 2nd method: unzipping tupple in the loop body\n",
    "for user_data in data_base:\n",
    "    name, password = user_data\n",
    "    if user_name.lower() == name.lower() and user_password == password:\n",
    "        print(f\"{name} is a valid user\")\n",
    "        break\n",
    "else:\n",
    "    print(f\"Invalid credentials or invalid user\")"
   ]
  },
  {
   "cell_type": "markdown",
   "metadata": {},
   "source": [
    "### `enumerate()` function:\n",
    "* The `enumerate()` function in Python adds a counter to an iterable and returns it as an enumerate object. This function is particularly useful when you need both the index and the value while looping through an iterable, such as a list, tuple, string, or any object that supports iteration.\n",
    "* The syntax of enumerate() is as follows:\n",
    "```\n",
    "enumerate(iterable, start=0)\n",
    "```\n",
    "* iterable: An iterable object (e.g., list, tuple, string).\n",
    "* start: The starting index of the counter. The default value is 0, but it can be set to any integer."
   ]
  },
  {
   "cell_type": "code",
   "execution_count": 21,
   "metadata": {},
   "outputs": [
    {
     "name": "stdout",
     "output_type": "stream",
     "text": [
      "(0, 'apple')\n",
      "(1, 'banana')\n",
      "(2, 'cherry')\n"
     ]
    }
   ],
   "source": [
    "# Define a list\n",
    "fruits = [\"apple\", \"banana\", \"cherry\"]\n",
    "\n",
    "# Use enumerate to loop through the list with an index\n",
    "for fruit in enumerate(fruits):\n",
    "    print(f\"{fruit}\")\n"
   ]
  },
  {
   "cell_type": "code",
   "execution_count": 23,
   "metadata": {},
   "outputs": [
    {
     "data": {
      "text/plain": [
       "[(0, 'alice'), (1, 'david'), (2, 'carolina')]"
      ]
     },
     "execution_count": 23,
     "metadata": {},
     "output_type": "execute_result"
    }
   ],
   "source": [
    "#              0        1         2\n",
    "magicians = ['alice', 'david', 'carolina']\n",
    "\n",
    "list(enumerate(magicians))"
   ]
  },
  {
   "cell_type": "code",
   "execution_count": 22,
   "metadata": {},
   "outputs": [
    {
     "name": "stdout",
     "output_type": "stream",
     "text": [
      "Index: 0, Fruit: apple\n",
      "Index: 1, Fruit: banana\n",
      "Index: 2, Fruit: cherry\n"
     ]
    }
   ],
   "source": [
    "# Define a list\n",
    "fruits = [\"apple\", \"banana\", \"cherry\"]\n",
    "\n",
    "# Use enumerate to loop through the list with an index\n",
    "for index, fruit in enumerate(fruits):\n",
    "    print(f\"Index: {index}, Fruit: {fruit}\")"
   ]
  }
 ],
 "metadata": {
  "kernelspec": {
   "display_name": "Python 3",
   "language": "python",
   "name": "python3"
  },
  "language_info": {
   "codemirror_mode": {
    "name": "ipython",
    "version": 3
   },
   "file_extension": ".py",
   "mimetype": "text/x-python",
   "name": "python",
   "nbconvert_exporter": "python",
   "pygments_lexer": "ipython3",
   "version": "3.12.1"
  }
 },
 "nbformat": 4,
 "nbformat_minor": 2
}
